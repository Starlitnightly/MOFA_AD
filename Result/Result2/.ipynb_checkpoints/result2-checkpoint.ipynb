{
 "cells": [
  {
   "cell_type": "markdown",
   "id": "90d46f4c-77e4-471d-b284-38fd5a0aa47e",
   "metadata": {},
   "source": [
    "# Result2"
   ]
  },
  {
   "cell_type": "code",
   "execution_count": 1,
   "id": "e42ef4f1-49b8-473e-9e27-d8c6f7502945",
   "metadata": {},
   "outputs": [],
   "source": [
    "from mofapy2.run.entry_point import entry_point\n",
    "import anndata\n",
    "import networkx as nx\n",
    "import scanpy as sc\n",
    "import scglue\n",
    "from matplotlib import rcParams\n",
    "import pandas as pd\n",
    "import numpy as np"
   ]
  },
  {
   "cell_type": "code",
   "execution_count": 61,
   "id": "774f75a4-3caa-47b4-a2c8-eea29f49a170",
   "metadata": {},
   "outputs": [],
   "source": [
    "import palettable\n",
    "import seaborn as sns\n",
    "import matplotlib\n",
    "import matplotlib.font_manager as fm\n",
    "from scipy import stats\n",
    "fm.fontManager.ttflist += fm.createFontList(['/mnt/c/Users/FernandoZeng/Desktop/arial.ttf'])\n",
    "matplotlib.rc('font', family='Arial')"
   ]
  },
  {
   "cell_type": "code",
   "execution_count": 12,
   "id": "37c82f78-e8d2-449f-af8f-b8729abdb4e4",
   "metadata": {},
   "outputs": [],
   "source": [
    "def normalization(data):\n",
    "    _range = np.max(abs(data))\n",
    "    return data / _range"
   ]
  },
  {
   "cell_type": "code",
   "execution_count": 13,
   "id": "924ccac1-594b-430a-9a1f-7931d304fe43",
   "metadata": {},
   "outputs": [],
   "source": [
    "def get_weights(f,view,factor,scale=True):\n",
    "  view_names=f['views']['views'][:]\n",
    "  f_name=feature_names[np.where(view_names==str.encode(view))[0][0]]\n",
    "  f_w=f['expectations']['W'][view][factor-1]\n",
    "  if scale==True:\n",
    "    f_w=normalization(f_w)\n",
    "  res=pd.DataFrame()\n",
    "  res['feature']=f_name\n",
    "  res['weights']=f_w\n",
    "  res['abs_weights']=abs(f_w)\n",
    "  res['sig']='+'\n",
    "  res.loc[(res.weights<0),'sig'] = '-'\n",
    "\n",
    "  return res"
   ]
  },
  {
   "cell_type": "code",
   "execution_count": 44,
   "id": "dd1e0d57-8c26-4339-8d56-c87d850bef8b",
   "metadata": {},
   "outputs": [],
   "source": [
    "def get_viodata(cell_type,genelist):\n",
    "  vio_data=pd.DataFrame()\n",
    "  print(len(res_ad[res_ad.obs['cell_type']==cell_type].X.T[0]),len(res_ctrl[res_ctrl.obs['cell_type']==cell_type].X.T[0]))\n",
    "  for i in genelist:\n",
    "    test_1=pd.DataFrame()\n",
    "    test_1['value']=res_ad[res_ad.obs['cell_type']==cell_type][:,i].X.T[0]\n",
    "    test_1['gene']=[i for i in [i]*len(test_1)]\n",
    "    test_1['type']=[i for i in ['ad']*len(test_1)]\n",
    "\n",
    "    test_2=pd.DataFrame()\n",
    "    test_2['value']=res_ctrl[res_ctrl.obs['cell_type']==cell_type][:,i].X.T[0]\n",
    "    test_2['gene']=[i for i in [i]*len(test_2)]\n",
    "    test_2['type']=[i for i in ['ctrl']*len(test_2)]\n",
    "  \n",
    "    vio_data=pd.concat([vio_data,test_1],ignore_index=True)\n",
    "    vio_data=pd.concat([vio_data,test_2],ignore_index=True)\n",
    "  return vio_data"
   ]
  },
  {
   "cell_type": "markdown",
   "id": "13e777ad-18de-42b2-9d46-5ae23a0b949d",
   "metadata": {},
   "source": [
    "## 1.import data"
   ]
  },
  {
   "cell_type": "code",
   "execution_count": 3,
   "id": "97ca64e8-4240-4ad2-92a7-2f21cc25940a",
   "metadata": {},
   "outputs": [],
   "source": [
    "rna=anndata.read_h5ad(\"/mnt/d/FernandoZeng/MOFA_AD/data/model/rna_pair_mofa.h5ad\")\n",
    "atac=anndata.read_h5ad(\"/mnt/d/FernandoZeng/MOFA_AD/data/model/atac_pair_mofa.h5ad\")"
   ]
  },
  {
   "cell_type": "code",
   "execution_count": 4,
   "id": "e6c91905-0e4b-4fc4-93be-e0b7cc33eca6",
   "metadata": {},
   "outputs": [
    {
     "data": {
      "text/plain": [
       "4131"
      ]
     },
     "execution_count": 4,
     "metadata": {},
     "output_type": "execute_result"
    }
   ],
   "source": [
    "ret3= list(set(rna.obs.index).intersection(atac.obs.index))\n",
    "len(ret3)"
   ]
  },
  {
   "cell_type": "code",
   "execution_count": 5,
   "id": "92e0a23c-47f5-45bd-bb63-efe31332882b",
   "metadata": {},
   "outputs": [
    {
     "name": "stdout",
     "output_type": "stream",
     "text": [
      "ODC 0.576036866359447\n",
      "MG 0.04310111141230686\n",
      "OPC 0.037137435619409055\n",
      "INH 0.056925996204933584\n",
      "PER.END 0.0035239902412577935\n",
      "ASC 0.14692328544320954\n",
      "EX 0.13635131471943615\n"
     ]
    }
   ],
   "source": [
    "rna_sex=rna[ret3][(rna[ret3].obs['Sample.ID']!='Sample-22') & (rna[ret3].obs['Sample.ID']!='Sample-27')]\n",
    "for i in list(set(rna_sex.obs['cell_type'])):\n",
    "  print(i,len(rna_sex.obs.loc[rna_sex.obs['cell_type']==i])/len(rna_sex.obs))"
   ]
  },
  {
   "cell_type": "code",
   "execution_count": 6,
   "id": "39e04bec-ab85-4a16-a1c7-dcefa0289bc7",
   "metadata": {},
   "outputs": [
    {
     "name": "stdout",
     "output_type": "stream",
     "text": [
      "ODC 0.5830105861089595\n",
      "MG 0.055512522592305706\n",
      "OPC 0.03640588690937258\n",
      "INH 0.052155951458817455\n",
      "PER.END 0.0036147689129873485\n",
      "ASC 0.15130389878647044\n",
      "EX 0.117996385231087\n"
     ]
    }
   ],
   "source": [
    "atac_sex=atac[ret3][(atac[ret3].obs['Sample.ID']!='Sample-22') & (atac[ret3].obs['Sample.ID']!='Sample-27')]\n",
    "for i in list(set(atac_sex.obs['cell_type'])):\n",
    "  print(i,len(atac_sex.obs.loc[atac_sex.obs['cell_type']==i])/len(atac_sex.obs))"
   ]
  },
  {
   "cell_type": "code",
   "execution_count": 7,
   "id": "a8aef82f-c574-45f9-bc9a-3915cae4aad8",
   "metadata": {},
   "outputs": [
    {
     "data": {
      "text/plain": [
       "3445"
      ]
     },
     "execution_count": 7,
     "metadata": {},
     "output_type": "execute_result"
    }
   ],
   "source": [
    "ret_sex= list(set(rna_sex.obs.index).intersection(atac_sex.obs.index))\n",
    "len(ret_sex)"
   ]
  },
  {
   "cell_type": "markdown",
   "id": "d9a3bca7-1e51-4aa5-a63b-e656978cd116",
   "metadata": {},
   "source": [
    "## 2.AD"
   ]
  },
  {
   "cell_type": "code",
   "execution_count": 9,
   "id": "3486d546-7ba8-4298-a70f-ebe9e1bd8c72",
   "metadata": {},
   "outputs": [],
   "source": [
    "import h5py\n",
    "import pandas as pd\n",
    "import numpy as np"
   ]
  },
  {
   "cell_type": "code",
   "execution_count": 10,
   "id": "a64889fd-449e-486f-9a2e-1738d6c41998",
   "metadata": {},
   "outputs": [
    {
     "name": "stdout",
     "output_type": "stream",
     "text": [
      "/data\n",
      "/expectations\n",
      "/features\n",
      "/groups\n",
      "/intercepts\n",
      "/model_options\n",
      "/samples\n",
      "/training_opts\n",
      "/training_stats\n",
      "/variance_explained\n",
      "/views\n"
     ]
    }
   ],
   "source": [
    "f_ad = h5py.File('/mnt/d/FernandoZeng/MOFA_AD/data/ad/mofa_sex_ad_50factor.hdf5','r')   #打开h5文件\n",
    "# 可以查看所有的主键\n",
    "for key in f_ad.keys():\n",
    "    print(f_ad[key].name)"
   ]
  },
  {
   "cell_type": "code",
   "execution_count": 11,
   "id": "82e81483-6ab4-41a2-8f42-e05d94dcaa3f",
   "metadata": {},
   "outputs": [],
   "source": [
    "h5ls_out_ad=list(f_ad.keys())\n",
    "if('views' in h5ls_out_ad):\n",
    "  view_names=f_ad['views']['views'][:]\n",
    "  group_names=f_ad['groups']['groups'][:]\n",
    "  feature_names=np.array([f_ad['features'][i][:] for i in view_names])\n",
    "  sample_names=np.array([f_ad['samples'][i][:] for i in group_names])"
   ]
  },
  {
   "cell_type": "code",
   "execution_count": 14,
   "id": "bb859e2c-c628-414a-9db4-5f4d65bcfe1a",
   "metadata": {},
   "outputs": [
    {
     "data": {
      "text/html": [
       "<div>\n",
       "<style scoped>\n",
       "    .dataframe tbody tr th:only-of-type {\n",
       "        vertical-align: middle;\n",
       "    }\n",
       "\n",
       "    .dataframe tbody tr th {\n",
       "        vertical-align: top;\n",
       "    }\n",
       "\n",
       "    .dataframe thead th {\n",
       "        text-align: right;\n",
       "    }\n",
       "</style>\n",
       "<table border=\"1\" class=\"dataframe\">\n",
       "  <thead>\n",
       "    <tr style=\"text-align: right;\">\n",
       "      <th></th>\n",
       "      <th>rna</th>\n",
       "      <th>atac</th>\n",
       "    </tr>\n",
       "  </thead>\n",
       "  <tbody>\n",
       "    <tr>\n",
       "      <th>Factor1</th>\n",
       "      <td>8.216351</td>\n",
       "      <td>0.489337</td>\n",
       "    </tr>\n",
       "    <tr>\n",
       "      <th>Factor2</th>\n",
       "      <td>6.465150</td>\n",
       "      <td>0.401187</td>\n",
       "    </tr>\n",
       "    <tr>\n",
       "      <th>Factor3</th>\n",
       "      <td>4.184143</td>\n",
       "      <td>0.053060</td>\n",
       "    </tr>\n",
       "    <tr>\n",
       "      <th>Factor4</th>\n",
       "      <td>0.066868</td>\n",
       "      <td>2.090263</td>\n",
       "    </tr>\n",
       "    <tr>\n",
       "      <th>Factor5</th>\n",
       "      <td>1.573013</td>\n",
       "      <td>0.179001</td>\n",
       "    </tr>\n",
       "  </tbody>\n",
       "</table>\n",
       "</div>"
      ],
      "text/plain": [
       "              rna      atac\n",
       "Factor1  8.216351  0.489337\n",
       "Factor2  6.465150  0.401187\n",
       "Factor3  4.184143  0.053060\n",
       "Factor4  0.066868  2.090263\n",
       "Factor5  1.573013  0.179001"
      ]
     },
     "execution_count": 14,
     "metadata": {},
     "output_type": "execute_result"
    }
   ],
   "source": [
    "variance=pd.read_csv('/mnt/d/FernandoZeng/MOFA_AD/data/ad/variance_explained.csv')\n",
    "corr=pd.read_csv('/mnt/d/FernandoZeng/MOFA_AD/data/ad/correlate_factors.csv')\n",
    "variance.index=corr.index\n",
    "variance.head()"
   ]
  },
  {
   "cell_type": "code",
   "execution_count": 16,
   "id": "f8eb350b-72db-4798-9300-c63f02aa4c0e",
   "metadata": {},
   "outputs": [
    {
     "data": {
      "image/png": "[encoded data removed]",
      "text/plain": [
       "<Figure size 144x288 with 2 Axes>"
      ]
     },
     "metadata": {
      "needs_background": "light"
     },
     "output_type": "display_data"
    }
   ],
   "source": [
    "import matplotlib.pyplot as plt\n",
    "fig, ax = plt.subplots(figsize=(2,4))         # Sample figsize in inches\n",
    "g=sns.heatmap(variance.loc[['Factor1','Factor2','Factor6','Factor7']],\n",
    "      cmap='Reds', \n",
    "      linewidths=.5,annot_kws={\"size\": 15},ax=ax\n",
    "      )\n",
    "g.set_xticklabels(g.get_xmajorticklabels(), fontsize = 15,rotation=45, horizontalalignment='right',)\n",
    "g.set_yticklabels(g.get_ymajorticklabels(), fontsize = 15,rotation=360)\n",
    "#ad\n",
    "#1：MG/ODC\n",
    "#2：ASC/MG\n",
    "#6：OPC\n",
    "#7：/INH\n",
    "g.set_yticklabels(['MG/ODC','ASC/MG','OPC/-','-/INH'])\n",
    "g.set_xticklabels(['RNA','ATAC'])\n",
    "\n",
    "cbar = g.collections[0].colorbar\n",
    "# here set the labelsize by 20\n",
    "cbar.ax.tick_params(labelsize=15)\n",
    "#plt.savefig('figure1/figure1_a.png',dpi=300,bbox_inches = 'tight')"
   ]
  },
  {
   "cell_type": "code",
   "execution_count": 17,
   "id": "f0ec5178-aed8-47fc-805b-4bea35e0d5bc",
   "metadata": {},
   "outputs": [
    {
     "data": {
      "image/png": "[encoded data removed]",
      "text/plain": [
       "<Figure size 216x432 with 2 Axes>"
      ]
     },
     "metadata": {
      "needs_background": "light"
     },
     "output_type": "display_data"
    }
   ],
   "source": [
    "fig, ax = plt.subplots(figsize=(3,6))         # Sample figsize in inches\n",
    "g=sns.heatmap(corr,\n",
    "      cmap=palettable.colorbrewer.sequential.Reds_9.mpl_colors, \n",
    "      linewidths=.5,annot_kws={\"size\": 15},ax=ax,\n",
    "      )\n",
    "g.set_xticklabels(g.get_xmajorticklabels(), fontsize = 15,rotation=45, horizontalalignment='right',)\n",
    "g.set_yticklabels(g.get_ymajorticklabels(), fontsize = 15)\n",
    "cbar = g.collections[0].colorbar\n",
    "# here set the labelsize by 20\n",
    "cbar.ax.tick_params(labelsize=15)"
   ]
  },
  {
   "cell_type": "code",
   "execution_count": 19,
   "id": "344d6594-668c-4ddd-8468-030645c3bf33",
   "metadata": {},
   "outputs": [
    {
     "data": {
      "text/plain": [
       "View of AnnData object with n_obs × n_vars = 1143 × 3681\n",
       "    obs: 'cell_type', 'Sample.ID', 'Batch', 'Age', 'Sex', 'PMI', 'Tangle.Stage', 'Plaque.Stage', 'Diagnosis', 'RIN', 'delli', 'n_genes', 'n_genes_by_counts', 'total_counts', 'total_counts_mt', 'pct_counts_mt'\n",
       "    var: 'gene_ids', 'feature_types', 'genome', 'n_cells', 'mt', 'n_cells_by_counts', 'mean_counts', 'pct_dropout_by_counts', 'total_counts', 'highly_variable', 'means', 'dispersions', 'dispersions_norm', 'mean', 'std'\n",
       "    uns: 'hvg'"
      ]
     },
     "execution_count": 19,
     "metadata": {},
     "output_type": "execute_result"
    }
   ],
   "source": [
    "test=pd.read_csv('/mnt/d/FernandoZeng/MOFA_AD/data/ad/mofa_sex_ad_meta.csv')\n",
    "res_ad=rna[test['sample']]\n",
    "res_ad"
   ]
  },
  {
   "cell_type": "code",
   "execution_count": 20,
   "id": "84b4b324-cb4f-4651-84a6-1e0776291684",
   "metadata": {},
   "outputs": [
    {
     "name": "stderr",
     "output_type": "stream",
     "text": [
      "Trying to set attribute `.obs` of view, copying.\n"
     ]
    }
   ],
   "source": [
    "for i in range(f_ad['expectations']['Z']['group0'].shape[0]):\n",
    "  res_ad.obs['factor{0}'.format(i+1)]=f_ad['expectations']['Z']['group0'][i]"
   ]
  },
  {
   "cell_type": "code",
   "execution_count": 21,
   "id": "745a8a81-e3c3-4beb-964a-e7879062cbf8",
   "metadata": {},
   "outputs": [
    {
     "name": "stderr",
     "output_type": "stream",
     "text": [
      "computing neighbors\n",
      "WARNING: You’re trying to run this on 3681 dimensions of `.X`, if you really want this, set `use_rep='X'`.\n",
      "         Falling back to preprocessing with `sc.pp.pca` and default params.\n",
      "computing PCA\n",
      "    with n_comps=50\n"
     ]
    },
    {
     "name": "stdout",
     "output_type": "stream",
     "text": [
      "scanpy==1.7.2 anndata==0.7.8 umap==0.5.2 numpy==1.19.5 scipy==1.5.4 pandas==1.1.5 scikit-learn==0.24.2 statsmodels==0.12.2\n"
     ]
    },
    {
     "name": "stderr",
     "output_type": "stream",
     "text": [
      "    finished (0:00:00)\n",
      "    finished: added to `.uns['neighbors']`\n",
      "    `.obsp['distances']`, distances for each pair of neighbors\n",
      "    `.obsp['connectivities']`, weighted adjacency matrix (0:00:08)\n",
      "computing UMAP\n",
      "    finished: added\n",
      "    'X_umap', UMAP coordinates (adata.obsm) (0:00:00)\n",
      "WARNING: saving figure to file figures/umapsfig1_a.png\n"
     ]
    },
    {
     "data": {
      "image/png": "[encoded data removed]",
      "text/plain": [
       "<Figure size 1440x240 with 9 Axes>"
      ]
     },
     "metadata": {},
     "output_type": "display_data"
    }
   ],
   "source": [
    "sc.settings.verbosity = 3             # verbosity: errors (0), warnings (1), info (2), hints (3)\n",
    "sc.logging.print_header()\n",
    "sc.pp.neighbors(res_ad, metric=\"cosine\")\n",
    "sc.tl.umap(res_ad,random_state=41822099)\n",
    "sc.settings.set_figure_params(dpi=80, facecolor='white',figsize=[3,3])\n",
    "\n",
    "scnmt=['#f2535d','#a2e8c4','#e5e24f','#6aafda','#c76fc7','#c4425d','#f48a3d']\n",
    "sc.pl.umap(res_ad, color=[\"cell_type\",\"factor1\",\"factor2\",\"factor6\",\"factor7\"], wspace=0.2, \n",
    "      #title=['RNA_AD','ASC/ODC','MG/-','OPC/-','INH/EX'],ncols=5,\n",
    "      title=['RNA_AD','Factor1','Factor2','Factor6','Factor7'],ncols=5,\n",
    "      cmap='coolwarm',vmin=-5,vmax=5,frameon=False,add_outline=True,outline_color=('white','white'),\n",
    "      save='sfig1_a.png',palette=scnmt,\n",
    "      )"
   ]
  },
  {
   "cell_type": "markdown",
   "id": "fd080ed9-f5e1-4fc5-9a74-06e02ebf4883",
   "metadata": {},
   "source": [
    "## 3.Ctrl"
   ]
  },
  {
   "cell_type": "code",
   "execution_count": 22,
   "id": "b6dc3f1c-4fda-4932-abca-24e621e273f3",
   "metadata": {},
   "outputs": [],
   "source": [
    "f_ctrl = h5py.File('/mnt/d/FernandoZeng/MOFA_AD/data/control/mofa_sex_ctrl_50factor.hdf5','r')   #打开h5文件\n",
    "view_names1=f_ctrl['views']['views'][:]\n",
    "group_names1=f_ctrl['groups']['groups'][:]\n",
    "feature_names1=np.array([f_ctrl['features'][i][:] for i in view_names1])\n",
    "sample_names1=np.array([f_ctrl['samples'][i][:] for i in group_names1])"
   ]
  },
  {
   "cell_type": "code",
   "execution_count": 23,
   "id": "6b48e03c-f15c-457f-a1ca-c934b63b789f",
   "metadata": {},
   "outputs": [],
   "source": [
    "variance=pd.read_csv('/mnt/d/FernandoZeng/MOFA_AD/data/control/variance_explained.csv')\n",
    "corr=pd.read_csv('/mnt/d/FernandoZeng/MOFA_AD/data/control/correlate_factors.csv')\n",
    "variance.index=corr.index"
   ]
  },
  {
   "cell_type": "code",
   "execution_count": 24,
   "id": "7f7252e9-bc23-46c7-b6de-6315ef081edb",
   "metadata": {},
   "outputs": [
    {
     "data": {
      "image/png": "[encoded data removed]",
      "text/plain": [
       "<Figure size 160x320 with 2 Axes>"
      ]
     },
     "metadata": {},
     "output_type": "display_data"
    }
   ],
   "source": [
    "fig, ax = plt.subplots(figsize=(2,4))         # Sample figsize in inches\n",
    "g=sns.heatmap(variance.loc[['Factor1','Factor2','Factor6','Factor7']],\n",
    "      cmap='Reds', \n",
    "      linewidths=.5,annot_kws={\"size\": 15},ax=ax\n",
    "      )\n",
    "g.set_xticklabels(g.get_xmajorticklabels(), fontsize = 15,rotation=45, horizontalalignment='right',)\n",
    "g.set_yticklabels(g.get_ymajorticklabels(), fontsize = 15,rotation=360)\n",
    "\n",
    "#ctrl\n",
    "#1: ASC/ODC\n",
    "#2: MG\n",
    "#4: OPC\n",
    "#7：INH/EX\n",
    "g.set_yticklabels(['ASC/ODC','MG/-','OPC/-','INH/EX'])\n",
    "g.set_xticklabels(['RNA','ATAC'])\n",
    "\n",
    "cbar = g.collections[0].colorbar\n",
    "# here set the labelsize by 20\n",
    "cbar.ax.tick_params(labelsize=15)\n"
   ]
  },
  {
   "cell_type": "code",
   "execution_count": 25,
   "id": "9fdc5c7a-3f13-49c5-b730-3d39ea85bd17",
   "metadata": {},
   "outputs": [
    {
     "data": {
      "image/png": "[encoded data removed]",
      "text/plain": [
       "<Figure size 240x480 with 2 Axes>"
      ]
     },
     "metadata": {},
     "output_type": "display_data"
    }
   ],
   "source": [
    "fig, ax = plt.subplots(figsize=(3,6))         # Sample figsize in inches\n",
    "g=sns.heatmap(corr,\n",
    "      cmap=palettable.colorbrewer.sequential.Reds_9.mpl_colors, \n",
    "      linewidths=.5,annot_kws={\"size\": 15},ax=ax,\n",
    "      )\n",
    "g.set_xticklabels(g.get_xmajorticklabels(), fontsize = 15,rotation=45, horizontalalignment='right',)\n",
    "g.set_yticklabels(g.get_ymajorticklabels(), fontsize = 15)\n",
    "cbar = g.collections[0].colorbar\n",
    "# here set the labelsize by 20\n",
    "cbar.ax.tick_params(labelsize=15)"
   ]
  },
  {
   "cell_type": "code",
   "execution_count": 27,
   "id": "afd86fd1-ce4c-4f8f-9668-b0b4f419d44e",
   "metadata": {},
   "outputs": [
    {
     "data": {
      "text/plain": [
       "View of AnnData object with n_obs × n_vars = 863 × 3681\n",
       "    obs: 'cell_type', 'Sample.ID', 'Batch', 'Age', 'Sex', 'PMI', 'Tangle.Stage', 'Plaque.Stage', 'Diagnosis', 'RIN', 'delli', 'n_genes', 'n_genes_by_counts', 'total_counts', 'total_counts_mt', 'pct_counts_mt'\n",
       "    var: 'gene_ids', 'feature_types', 'genome', 'n_cells', 'mt', 'n_cells_by_counts', 'mean_counts', 'pct_dropout_by_counts', 'total_counts', 'highly_variable', 'means', 'dispersions', 'dispersions_norm', 'mean', 'std'\n",
       "    uns: 'hvg'"
      ]
     },
     "execution_count": 27,
     "metadata": {},
     "output_type": "execute_result"
    }
   ],
   "source": [
    "test2=pd.read_csv('/mnt/d/FernandoZeng/MOFA_AD/data/control/mofa_sex_ctrl_meta.csv')\n",
    "res_ctrl=rna[test2['sample']]\n",
    "res_ctrl"
   ]
  },
  {
   "cell_type": "code",
   "execution_count": 28,
   "id": "7a6b8754-c8d9-411d-824d-d1513e8f0bd1",
   "metadata": {},
   "outputs": [
    {
     "name": "stderr",
     "output_type": "stream",
     "text": [
      "Trying to set attribute `.obs` of view, copying.\n"
     ]
    }
   ],
   "source": [
    "for i in range(f_ctrl['expectations']['Z']['group0'].shape[0]):\n",
    "  res_ctrl.obs['factor{0}'.format(i+1)]=f_ctrl['expectations']['Z']['group0'][i]"
   ]
  },
  {
   "cell_type": "code",
   "execution_count": 31,
   "id": "c2bf7624-6d72-4241-b203-39c11fa159bb",
   "metadata": {},
   "outputs": [
    {
     "name": "stderr",
     "output_type": "stream",
     "text": [
      "computing neighbors\n",
      "    using 'X_pca' with n_pcs = 50\n",
      "    finished: added to `.uns['neighbors']`\n",
      "    `.obsp['distances']`, distances for each pair of neighbors\n",
      "    `.obsp['connectivities']`, weighted adjacency matrix (0:00:00)\n",
      "computing UMAP\n",
      "    finished: added\n",
      "    'X_umap', UMAP coordinates (adata.obsm) (0:00:00)\n",
      "WARNING: saving figure to file figures/umapsfig1_b.png\n"
     ]
    },
    {
     "data": {
      "image/png": "[encoded data removed]",
      "text/plain": [
       "<Figure size 1440x240 with 9 Axes>"
      ]
     },
     "metadata": {},
     "output_type": "display_data"
    }
   ],
   "source": [
    "sc.settings.set_figure_params(dpi=80, facecolor='white',figsize=[3,3])\n",
    "sc.pp.neighbors(res_ctrl, metric=\"cosine\")\n",
    "sc.tl.umap(res_ctrl,random_state=41822099)\n",
    "sc.pl.umap(res_ctrl, color=[\"cell_type\",\"factor1\",\"factor2\",\"factor4\",\"factor7\"], wspace=0.2, \n",
    "      #title=['RNA_Ctrl','ASC/ODC','MG/-','OPC/-','INH/EX'],ncols=5,\n",
    "      title=['RNA_Ctrl','Factor1','Factor2','Factor4','Factor7'],ncols=5,\n",
    "      cmap='coolwarm',vmin=-5,vmax=5,frameon=False,add_outline=True,outline_color=('white','white'),\n",
    "      save='sfig1_b.png'\n",
    "      )"
   ]
  },
  {
   "cell_type": "markdown",
   "id": "9c8d0208-5710-4814-b7f3-eac94f1541f1",
   "metadata": {},
   "source": [
    "## 4.cell differenation"
   ]
  },
  {
   "cell_type": "code",
   "execution_count": 32,
   "id": "0ecca4d8-efa7-4a1c-89b5-bc3b91a98622",
   "metadata": {},
   "outputs": [],
   "source": [
    "#ad\n",
    "#1：MG/ODC\n",
    "#2：ASC/MG\n",
    "#6：OPC\n",
    "#7：/INH\n",
    "\n",
    "#ctrl\n",
    "#1: ASC/ODC\n",
    "#2: MG\n",
    "#4: OPC\n",
    "#7：INH/EX"
   ]
  },
  {
   "cell_type": "markdown",
   "id": "7018ec0b-961e-4aad-bb0b-6d3e68fea0b3",
   "metadata": {},
   "source": [
    "### 4.1 ASC"
   ]
  },
  {
   "cell_type": "code",
   "execution_count": 33,
   "id": "599e90c5-d734-43fc-9154-519f3f4e6f71",
   "metadata": {},
   "outputs": [
    {
     "data": {
      "text/html": [
       "<div>\n",
       "<style scoped>\n",
       "    .dataframe tbody tr th:only-of-type {\n",
       "        vertical-align: middle;\n",
       "    }\n",
       "\n",
       "    .dataframe tbody tr th {\n",
       "        vertical-align: top;\n",
       "    }\n",
       "\n",
       "    .dataframe thead th {\n",
       "        text-align: right;\n",
       "    }\n",
       "</style>\n",
       "<table border=\"1\" class=\"dataframe\">\n",
       "  <thead>\n",
       "    <tr style=\"text-align: right;\">\n",
       "      <th></th>\n",
       "      <th>feature</th>\n",
       "      <th>weights</th>\n",
       "      <th>abs_weights</th>\n",
       "      <th>sig</th>\n",
       "    </tr>\n",
       "  </thead>\n",
       "  <tbody>\n",
       "    <tr>\n",
       "      <th>0</th>\n",
       "      <td>HES4</td>\n",
       "      <td>0.158418</td>\n",
       "      <td>0.158418</td>\n",
       "      <td>+</td>\n",
       "    </tr>\n",
       "    <tr>\n",
       "      <th>1</th>\n",
       "      <td>ATAD3C</td>\n",
       "      <td>-0.025514</td>\n",
       "      <td>0.025514</td>\n",
       "      <td>-</td>\n",
       "    </tr>\n",
       "    <tr>\n",
       "      <th>2</th>\n",
       "      <td>HES5</td>\n",
       "      <td>0.244909</td>\n",
       "      <td>0.244909</td>\n",
       "      <td>+</td>\n",
       "    </tr>\n",
       "    <tr>\n",
       "      <th>3</th>\n",
       "      <td>LINC00982</td>\n",
       "      <td>0.620071</td>\n",
       "      <td>0.620071</td>\n",
       "      <td>+</td>\n",
       "    </tr>\n",
       "    <tr>\n",
       "      <th>4</th>\n",
       "      <td>PRDM16</td>\n",
       "      <td>0.815560</td>\n",
       "      <td>0.815560</td>\n",
       "      <td>+</td>\n",
       "    </tr>\n",
       "  </tbody>\n",
       "</table>\n",
       "</div>"
      ],
      "text/plain": [
       "     feature   weights  abs_weights sig\n",
       "0       HES4  0.158418     0.158418   +\n",
       "1     ATAD3C -0.025514     0.025514   -\n",
       "2       HES5  0.244909     0.244909   +\n",
       "3  LINC00982  0.620071     0.620071   +\n",
       "4     PRDM16  0.815560     0.815560   +"
      ]
     },
     "execution_count": 33,
     "metadata": {},
     "output_type": "execute_result"
    }
   ],
   "source": [
    "ad_factor2=get_weights(f_ad,'rna',2)\n",
    "xl=[]\n",
    "for i in ad_factor2['feature'].values:\n",
    "  xl.append(bytes.decode(i).replace('Mutation',''))\n",
    "ad_factor2['feature']=xl\n",
    "ad_factor2.head()"
   ]
  },
  {
   "cell_type": "code",
   "execution_count": 35,
   "id": "f7cfdb91-1958-4906-9752-a8d400fa9ed8",
   "metadata": {},
   "outputs": [
    {
     "data": {
      "text/html": [
       "<div>\n",
       "<style scoped>\n",
       "    .dataframe tbody tr th:only-of-type {\n",
       "        vertical-align: middle;\n",
       "    }\n",
       "\n",
       "    .dataframe tbody tr th {\n",
       "        vertical-align: top;\n",
       "    }\n",
       "\n",
       "    .dataframe thead th {\n",
       "        text-align: right;\n",
       "    }\n",
       "</style>\n",
       "<table border=\"1\" class=\"dataframe\">\n",
       "  <thead>\n",
       "    <tr style=\"text-align: right;\">\n",
       "      <th></th>\n",
       "      <th>feature</th>\n",
       "      <th>weights</th>\n",
       "      <th>abs_weights</th>\n",
       "      <th>sig</th>\n",
       "    </tr>\n",
       "  </thead>\n",
       "  <tbody>\n",
       "    <tr>\n",
       "      <th>2541</th>\n",
       "      <td>RFX4</td>\n",
       "      <td>1.000000</td>\n",
       "      <td>1.000000</td>\n",
       "      <td>+</td>\n",
       "    </tr>\n",
       "    <tr>\n",
       "      <th>1155</th>\n",
       "      <td>ADGRV1</td>\n",
       "      <td>0.993288</td>\n",
       "      <td>0.993288</td>\n",
       "      <td>+</td>\n",
       "    </tr>\n",
       "    <tr>\n",
       "      <th>952</th>\n",
       "      <td>BMPR1B</td>\n",
       "      <td>0.992340</td>\n",
       "      <td>0.992340</td>\n",
       "      <td>+</td>\n",
       "    </tr>\n",
       "    <tr>\n",
       "      <th>2799</th>\n",
       "      <td>RYR3</td>\n",
       "      <td>0.966245</td>\n",
       "      <td>0.966245</td>\n",
       "      <td>+</td>\n",
       "    </tr>\n",
       "    <tr>\n",
       "      <th>2222</th>\n",
       "      <td>CD44</td>\n",
       "      <td>0.964825</td>\n",
       "      <td>0.964825</td>\n",
       "      <td>+</td>\n",
       "    </tr>\n",
       "  </tbody>\n",
       "</table>\n",
       "</div>"
      ],
      "text/plain": [
       "     feature   weights  abs_weights sig\n",
       "2541    RFX4  1.000000     1.000000   +\n",
       "1155  ADGRV1  0.993288     0.993288   +\n",
       "952   BMPR1B  0.992340     0.992340   +\n",
       "2799    RYR3  0.966245     0.966245   +\n",
       "2222    CD44  0.964825     0.964825   +"
      ]
     },
     "execution_count": 35,
     "metadata": {},
     "output_type": "execute_result"
    }
   ],
   "source": [
    "ad_factor2_asc=ad_factor2.sort_values('abs_weights',ascending=False)\n",
    "ad_asc=ad_factor2_asc.loc[(ad_factor2_asc['sig']=='+') & (ad_factor2_asc['abs_weights']>0.5)]\n",
    "ad_asc.head()"
   ]
  },
  {
   "cell_type": "code",
   "execution_count": 36,
   "id": "10f9006c-a41a-4488-8a91-6129b26a2c2d",
   "metadata": {},
   "outputs": [
    {
     "data": {
      "text/html": [
       "<div>\n",
       "<style scoped>\n",
       "    .dataframe tbody tr th:only-of-type {\n",
       "        vertical-align: middle;\n",
       "    }\n",
       "\n",
       "    .dataframe tbody tr th {\n",
       "        vertical-align: top;\n",
       "    }\n",
       "\n",
       "    .dataframe thead th {\n",
       "        text-align: right;\n",
       "    }\n",
       "</style>\n",
       "<table border=\"1\" class=\"dataframe\">\n",
       "  <thead>\n",
       "    <tr style=\"text-align: right;\">\n",
       "      <th></th>\n",
       "      <th>feature</th>\n",
       "      <th>weights</th>\n",
       "      <th>abs_weights</th>\n",
       "      <th>sig</th>\n",
       "    </tr>\n",
       "  </thead>\n",
       "  <tbody>\n",
       "    <tr>\n",
       "      <th>0</th>\n",
       "      <td>HES4</td>\n",
       "      <td>0.172516</td>\n",
       "      <td>0.172516</td>\n",
       "      <td>+</td>\n",
       "    </tr>\n",
       "    <tr>\n",
       "      <th>1</th>\n",
       "      <td>ATAD3C</td>\n",
       "      <td>-0.097504</td>\n",
       "      <td>0.097504</td>\n",
       "      <td>-</td>\n",
       "    </tr>\n",
       "    <tr>\n",
       "      <th>2</th>\n",
       "      <td>HES5</td>\n",
       "      <td>0.465964</td>\n",
       "      <td>0.465964</td>\n",
       "      <td>+</td>\n",
       "    </tr>\n",
       "    <tr>\n",
       "      <th>3</th>\n",
       "      <td>LINC00982</td>\n",
       "      <td>0.656463</td>\n",
       "      <td>0.656463</td>\n",
       "      <td>+</td>\n",
       "    </tr>\n",
       "    <tr>\n",
       "      <th>4</th>\n",
       "      <td>PRDM16</td>\n",
       "      <td>0.888467</td>\n",
       "      <td>0.888467</td>\n",
       "      <td>+</td>\n",
       "    </tr>\n",
       "  </tbody>\n",
       "</table>\n",
       "</div>"
      ],
      "text/plain": [
       "     feature   weights  abs_weights sig\n",
       "0       HES4  0.172516     0.172516   +\n",
       "1     ATAD3C -0.097504     0.097504   -\n",
       "2       HES5  0.465964     0.465964   +\n",
       "3  LINC00982  0.656463     0.656463   +\n",
       "4     PRDM16  0.888467     0.888467   +"
      ]
     },
     "execution_count": 36,
     "metadata": {},
     "output_type": "execute_result"
    }
   ],
   "source": [
    "ctrl_factor1=get_weights(f_ctrl,'rna',1)\n",
    "xl=[]\n",
    "for i in ctrl_factor1['feature'].values:\n",
    "  xl.append(bytes.decode(i).replace('Mutation',''))\n",
    "ctrl_factor1['feature']=xl\n",
    "ctrl_factor1.head()"
   ]
  },
  {
   "cell_type": "code",
   "execution_count": 37,
   "id": "2f006d78-ce05-4821-8211-6dbc2f91ba4c",
   "metadata": {},
   "outputs": [
    {
     "data": {
      "text/html": [
       "<div>\n",
       "<style scoped>\n",
       "    .dataframe tbody tr th:only-of-type {\n",
       "        vertical-align: middle;\n",
       "    }\n",
       "\n",
       "    .dataframe tbody tr th {\n",
       "        vertical-align: top;\n",
       "    }\n",
       "\n",
       "    .dataframe thead th {\n",
       "        text-align: right;\n",
       "    }\n",
       "</style>\n",
       "<table border=\"1\" class=\"dataframe\">\n",
       "  <thead>\n",
       "    <tr style=\"text-align: right;\">\n",
       "      <th></th>\n",
       "      <th>feature</th>\n",
       "      <th>weights</th>\n",
       "      <th>abs_weights</th>\n",
       "      <th>sig</th>\n",
       "    </tr>\n",
       "  </thead>\n",
       "  <tbody>\n",
       "    <tr>\n",
       "      <th>846</th>\n",
       "      <td>FGFR3</td>\n",
       "      <td>1.000000</td>\n",
       "      <td>1.000000</td>\n",
       "      <td>+</td>\n",
       "    </tr>\n",
       "    <tr>\n",
       "      <th>2741</th>\n",
       "      <td>PAPLN</td>\n",
       "      <td>0.990097</td>\n",
       "      <td>0.990097</td>\n",
       "      <td>+</td>\n",
       "    </tr>\n",
       "    <tr>\n",
       "      <th>973</th>\n",
       "      <td>ETNPPL</td>\n",
       "      <td>0.971290</td>\n",
       "      <td>0.971290</td>\n",
       "      <td>+</td>\n",
       "    </tr>\n",
       "    <tr>\n",
       "      <th>2642</th>\n",
       "      <td>RNF219-AS1</td>\n",
       "      <td>0.953958</td>\n",
       "      <td>0.953958</td>\n",
       "      <td>+</td>\n",
       "    </tr>\n",
       "    <tr>\n",
       "      <th>1155</th>\n",
       "      <td>ADGRV1</td>\n",
       "      <td>0.941807</td>\n",
       "      <td>0.941807</td>\n",
       "      <td>+</td>\n",
       "    </tr>\n",
       "  </tbody>\n",
       "</table>\n",
       "</div>"
      ],
      "text/plain": [
       "         feature   weights  abs_weights sig\n",
       "846        FGFR3  1.000000     1.000000   +\n",
       "2741       PAPLN  0.990097     0.990097   +\n",
       "973       ETNPPL  0.971290     0.971290   +\n",
       "2642  RNF219-AS1  0.953958     0.953958   +\n",
       "1155      ADGRV1  0.941807     0.941807   +"
      ]
     },
     "execution_count": 37,
     "metadata": {},
     "output_type": "execute_result"
    }
   ],
   "source": [
    "ctrl_factor1_asc=ctrl_factor1.sort_values('abs_weights',ascending=False)\n",
    "ctrl_asc=ctrl_factor1_asc.loc[(ctrl_factor1_asc['sig']=='+') & (ctrl_factor1_asc['abs_weights']>0.5)]\n",
    "ctrl_asc.head()"
   ]
  },
  {
   "cell_type": "code",
   "execution_count": 38,
   "id": "12d4d578-03e6-4320-a4a9-aedf68a9fd6c",
   "metadata": {},
   "outputs": [
    {
     "data": {
      "text/html": [
       "<div>\n",
       "<style scoped>\n",
       "    .dataframe tbody tr th:only-of-type {\n",
       "        vertical-align: middle;\n",
       "    }\n",
       "\n",
       "    .dataframe tbody tr th {\n",
       "        vertical-align: top;\n",
       "    }\n",
       "\n",
       "    .dataframe thead th {\n",
       "        text-align: right;\n",
       "    }\n",
       "</style>\n",
       "<table border=\"1\" class=\"dataframe\">\n",
       "  <thead>\n",
       "    <tr style=\"text-align: right;\">\n",
       "      <th></th>\n",
       "      <th>weights</th>\n",
       "      <th>abs_weights</th>\n",
       "      <th>sig</th>\n",
       "    </tr>\n",
       "    <tr>\n",
       "      <th>feature</th>\n",
       "      <th></th>\n",
       "      <th></th>\n",
       "      <th></th>\n",
       "    </tr>\n",
       "  </thead>\n",
       "  <tbody>\n",
       "    <tr>\n",
       "      <th>CD44</th>\n",
       "      <td>0.964825</td>\n",
       "      <td>0.964825</td>\n",
       "      <td>+</td>\n",
       "    </tr>\n",
       "    <tr>\n",
       "      <th>COLEC12</th>\n",
       "      <td>0.751804</td>\n",
       "      <td>0.751804</td>\n",
       "      <td>+</td>\n",
       "    </tr>\n",
       "    <tr>\n",
       "      <th>OSMR-AS1</th>\n",
       "      <td>0.688957</td>\n",
       "      <td>0.688957</td>\n",
       "      <td>+</td>\n",
       "    </tr>\n",
       "    <tr>\n",
       "      <th>OSMR</th>\n",
       "      <td>0.655117</td>\n",
       "      <td>0.655117</td>\n",
       "      <td>+</td>\n",
       "    </tr>\n",
       "    <tr>\n",
       "      <th>CNN3</th>\n",
       "      <td>0.641592</td>\n",
       "      <td>0.641592</td>\n",
       "      <td>+</td>\n",
       "    </tr>\n",
       "  </tbody>\n",
       "</table>\n",
       "</div>"
      ],
      "text/plain": [
       "           weights  abs_weights sig\n",
       "feature                            \n",
       "CD44      0.964825     0.964825   +\n",
       "COLEC12   0.751804     0.751804   +\n",
       "OSMR-AS1  0.688957     0.688957   +\n",
       "OSMR      0.655117     0.655117   +\n",
       "CNN3      0.641592     0.641592   +"
      ]
     },
     "execution_count": 38,
     "metadata": {},
     "output_type": "execute_result"
    }
   ],
   "source": [
    "#AD-ASC-aGene\n",
    "c=list(set(ad_asc['feature'])-set(ctrl_asc['feature']))\n",
    "d=ctrl_factor1_asc.loc[(ctrl_factor1_asc['sig']=='+') & (ctrl_factor1_asc['abs_weights']<0.3)]\n",
    "retB = list(set(c).intersection(set(d['feature'])))\n",
    "ad_asc_p=ad_asc.set_index(ad_asc.columns[0])\n",
    "asc_ad_res=ad_asc_p.loc[retB].sort_values('abs_weights',ascending=False)\n",
    "asc_ad_res.to_csv('asc_ad_res.csv')\n",
    "asc_ad_res.head()"
   ]
  },
  {
   "cell_type": "code",
   "execution_count": 39,
   "id": "3fcc6f2b-aa1b-4af4-90b4-cb4750f13f8a",
   "metadata": {},
   "outputs": [
    {
     "data": {
      "text/html": [
       "<div>\n",
       "<style scoped>\n",
       "    .dataframe tbody tr th:only-of-type {\n",
       "        vertical-align: middle;\n",
       "    }\n",
       "\n",
       "    .dataframe tbody tr th {\n",
       "        vertical-align: top;\n",
       "    }\n",
       "\n",
       "    .dataframe thead th {\n",
       "        text-align: right;\n",
       "    }\n",
       "</style>\n",
       "<table border=\"1\" class=\"dataframe\">\n",
       "  <thead>\n",
       "    <tr style=\"text-align: right;\">\n",
       "      <th></th>\n",
       "      <th>weights</th>\n",
       "      <th>abs_weights</th>\n",
       "      <th>sig</th>\n",
       "    </tr>\n",
       "    <tr>\n",
       "      <th>feature</th>\n",
       "      <th></th>\n",
       "      <th></th>\n",
       "      <th></th>\n",
       "    </tr>\n",
       "  </thead>\n",
       "  <tbody>\n",
       "    <tr>\n",
       "      <th>APOE</th>\n",
       "      <td>0.697739</td>\n",
       "      <td>0.697739</td>\n",
       "      <td>+</td>\n",
       "    </tr>\n",
       "    <tr>\n",
       "      <th>NPL</th>\n",
       "      <td>0.661680</td>\n",
       "      <td>0.661680</td>\n",
       "      <td>+</td>\n",
       "    </tr>\n",
       "    <tr>\n",
       "      <th>LINC01727</th>\n",
       "      <td>0.630414</td>\n",
       "      <td>0.630414</td>\n",
       "      <td>+</td>\n",
       "    </tr>\n",
       "    <tr>\n",
       "      <th>SLC15A2</th>\n",
       "      <td>0.625533</td>\n",
       "      <td>0.625533</td>\n",
       "      <td>+</td>\n",
       "    </tr>\n",
       "    <tr>\n",
       "      <th>CSGALNACT1</th>\n",
       "      <td>0.609538</td>\n",
       "      <td>0.609538</td>\n",
       "      <td>+</td>\n",
       "    </tr>\n",
       "  </tbody>\n",
       "</table>\n",
       "</div>"
      ],
      "text/plain": [
       "             weights  abs_weights sig\n",
       "feature                              \n",
       "APOE        0.697739     0.697739   +\n",
       "NPL         0.661680     0.661680   +\n",
       "LINC01727   0.630414     0.630414   +\n",
       "SLC15A2     0.625533     0.625533   +\n",
       "CSGALNACT1  0.609538     0.609538   +"
      ]
     },
     "execution_count": 39,
     "metadata": {},
     "output_type": "execute_result"
    }
   ],
   "source": [
    "#AD-ASC-iaGene\n",
    "c=list(set(ctrl_asc['feature'])-set(ad_asc['feature']))\n",
    "d=ad_factor2_asc.loc[(ad_factor2_asc['sig']=='+') & (ad_factor2_asc['abs_weights']<0.3)]\n",
    "retB = list(set(c).intersection(set(d['feature'])))\n",
    "ctrl_asc_p=ctrl_asc.set_index(ctrl_asc.columns[0])\n",
    "asc_ctrl_res=ctrl_asc_p.loc[retB].sort_values('abs_weights',ascending=False)\n",
    "asc_ctrl_res.to_csv('asc_ctrl_res.csv')\n",
    "asc_ctrl_res.head()"
   ]
  },
  {
   "cell_type": "code",
   "execution_count": 40,
   "id": "1634ebaa-9566-4a7d-aa57-0682d52f403f",
   "metadata": {},
   "outputs": [
    {
     "data": {
      "text/plain": [
       "Text(0, 0.5, 'Weights')"
      ]
     },
     "execution_count": 40,
     "metadata": {},
     "output_type": "execute_result"
    },
    {
     "data": {
      "image/png": "[encoded data removed]",
      "text/plain": [
       "<Figure size 160x320 with 1 Axes>"
      ]
     },
     "metadata": {},
     "output_type": "display_data"
    }
   ],
   "source": [
    "plt.style.use('seaborn-white')\n",
    "\n",
    "ctrl_asc_p=ctrl_factor1.set_index(ctrl_factor1.columns[0])\n",
    "ad_asc_p=ad_factor2.set_index(ad_factor2.columns[0])\n",
    "\n",
    "asc_p1=asc_ctrl_res.head(5).index.values.tolist()\n",
    "asc_p_df=pd.DataFrame()\n",
    "asc_p_df['name']=asc_p1\n",
    "asc_p_df['ctrl_weight']=ctrl_asc_p.loc[asc_p1]['weights'].values\n",
    "asc_p_df['ad_weight']=ad_asc_p.loc[asc_p1]['weights'].values\n",
    "asc_p_df['type']='ctrl'\n",
    "\n",
    "asc_p2=asc_ad_res.head(5).index.values.tolist()\n",
    "test_df=pd.DataFrame()\n",
    "test_df['name']=asc_p2\n",
    "test_df['ctrl_weight']=ctrl_asc_p.loc[asc_p2]['weights'].values\n",
    "test_df['ad_weight']=ad_asc_p.loc[asc_p2]['weights'].values\n",
    "test_df['type']='ad'\n",
    "\n",
    "asc_p_df=pd.concat([asc_p_df,test_df])\n",
    "\n",
    "pp=plt.figure(figsize=(2,4))\n",
    "ax=pp.add_subplot(1,1,1)\n",
    "#ctrl\n",
    "l1=ax.scatter(np.zeros(len(asc_p_df.loc[asc_p_df['type']=='ctrl'])),asc_p_df.loc[asc_p_df['type']=='ctrl']['ctrl_weight'],c=\"#a2ebc4\",alpha=0.5,)\n",
    "ax.scatter(np.ones(len(asc_p_df.loc[asc_p_df['type']=='ctrl']))+1,asc_p_df.loc[asc_p_df['type']=='ctrl']['ad_weight'],c=\"#a2ebc4\",alpha=0.5,)\n",
    "\n",
    "#ad\n",
    "l2=ax.scatter(np.zeros(len(asc_p_df.loc[asc_p_df['type']=='ad'])),asc_p_df.loc[asc_p_df['type']=='ad']['ctrl_weight'],c=\"#f2535d\",alpha=0.5,)\n",
    "ax.scatter(np.ones(len(asc_p_df.loc[asc_p_df['type']=='ad']))+1,asc_p_df.loc[asc_p_df['type']=='ad']['ad_weight'],c=\"#f2535d\",alpha=0.5,)\n",
    "\n",
    "plt.legend(handles=[l1, l2], labels=[\"ASC_ctrl\",\"ASC_ad\"],\n",
    "           bbox_to_anchor=(1, 0), loc=3,fontsize=12)\n",
    "plt.xlim(-1,3)\n",
    "ax.xaxis.set_ticklabels(['','Ctrl','AD'])\n",
    "plt.ylabel('Weights')\n",
    "#plt.savefig(\"figure1/figure1_d_asc_weight.png\",dpi=300,bbox_inches = 'tight')"
   ]
  },
  {
   "cell_type": "code",
   "execution_count": 43,
   "id": "856dd69a-fdfb-4128-bada-23d974aeb180",
   "metadata": {},
   "outputs": [
    {
     "data": {
      "image/png": "[encoded data removed]",
      "text/plain": [
       "<Figure size 320x320 with 1 Axes>"
      ]
     },
     "metadata": {},
     "output_type": "display_data"
    }
   ],
   "source": [
    "from matplotlib_venn import venn2,venn2_circles\n",
    "#a=ad_factor2_asc.loc[(ad_factor2_asc['sig']=='+') & (ad_factor2_asc['abs_weights']>0.5)]\n",
    "#b=ctrl_factor1_asc.loc[(ctrl_factor1_asc['sig']=='+') & (ctrl_factor1_asc['abs_weights']>0.5)]\n",
    "fig, ax = plt.subplots(figsize=(4,4))         # Sample figsize in inches\n",
    "venn2_circles(subsets=[set(ad_asc['feature']),set(ctrl_asc['feature'])],\n",
    "        linestyle='--', linewidth=2, color=\"black\",#外框线型、线宽、颜色\n",
    "        normalize_to=1.0,\n",
    "       )\n",
    "v=venn2(subsets=[set(ad_asc['feature']),set(ctrl_asc['feature'])],\n",
    "      set_labels=('AD','Ctrl'),\n",
    "      set_colors=(\"#f2535d\",\"#a2ebc4\"),\n",
    "       normalize_to=1.0,)\n",
    "\n",
    "v.get_label_by_id('10').set_fontsize(15)#1的大小设置为20\n",
    "v.get_label_by_id('01').set_fontsize(15)#1的大小设置为20\n",
    "v.get_label_by_id('11').set_fontsize(15)#1的大小设置为20\n",
    "for t in v.set_labels: \n",
    "    t.set_fontsize(15) \n",
    "\n",
    "#plt.savefig(\"figure1/figure1_c_asc_venn.png\",dpi=300,bbox_inches = 'tight')"
   ]
  },
  {
   "cell_type": "code",
   "execution_count": 45,
   "id": "54423b06-de9b-4c4a-98bf-fc88b640b4a0",
   "metadata": {},
   "outputs": [
    {
     "name": "stdout",
     "output_type": "stream",
     "text": [
      "124 162\n"
     ]
    },
    {
     "data": {
      "text/plain": [
       "Text(0, 0.5, '')"
      ]
     },
     "execution_count": 45,
     "metadata": {},
     "output_type": "execute_result"
    },
    {
     "data": {
      "image/png": "[encoded data removed]",
      "text/plain": [
       "<Figure size 560x320 with 1 Axes>"
      ]
     },
     "metadata": {},
     "output_type": "display_data"
    }
   ],
   "source": [
    "plt.style.use('seaborn-white')\n",
    "fig, ax = plt.subplots(figsize=(7,4))\n",
    "sns.violinplot(x=\"gene\", y=\"value\", hue='type',data=get_viodata('ASC',list(asc_ad_res.head(5).index.values)), \n",
    "        split=True,inner=\"box\",palette=[\"#f2535d\",\"#a2ebc4\"],ax=ax,\n",
    "        #saturation=1\n",
    "        )\n",
    "\n",
    "plt.yticks(fontsize=12)\n",
    "plt.xticks(fontsize=12)\n",
    "#设置图注\n",
    "plt.legend(['ASC_AD','ASC_Ctrl'],bbox_to_anchor=(1, 0), loc=3,fontsize=15)\n",
    "\n",
    "plt.xlabel('ASC_AD_Var',fontsize=12)\n",
    "plt.ylabel('')\n",
    "#plt.savefig(\"sfig1/sfig1_c_asc_ad.png\",dpi=300,bbox_inches = 'tight')\n",
    "\n"
   ]
  },
  {
   "cell_type": "code",
   "execution_count": 46,
   "id": "b30881c7-5943-4275-9a6d-63d1d9c4eefa",
   "metadata": {},
   "outputs": [
    {
     "name": "stdout",
     "output_type": "stream",
     "text": [
      "124 162\n"
     ]
    },
    {
     "data": {
      "text/plain": [
       "Text(0, 0.5, '')"
      ]
     },
     "execution_count": 46,
     "metadata": {},
     "output_type": "execute_result"
    },
    {
     "data": {
      "image/png": "[encoded data removed]",
      "text/plain": [
       "<Figure size 560x320 with 1 Axes>"
      ]
     },
     "metadata": {},
     "output_type": "display_data"
    }
   ],
   "source": [
    "plt.style.use('seaborn-white')\n",
    "fig, ax = plt.subplots(figsize=(7,4))\n",
    "sns.violinplot(x=\"gene\", y=\"value\", hue='type',data=get_viodata('ASC',list(asc_ctrl_res.head(5).index.values)), \n",
    "        split=True,inner=\"box\",palette=[\"#f2535d\",\"#a2ebc4\"],ax=ax,\n",
    "        #saturation=1\n",
    "        )\n",
    "\n",
    "plt.yticks(fontsize=12)\n",
    "plt.xticks(fontsize=12)\n",
    "#设置图注\n",
    "\n",
    "\n",
    "plt.legend(bbox_to_anchor=(1, 0), loc=3,fontsize=15)\n",
    "\n",
    "plt.xlabel('ASC_Ctrl_Var',fontsize=12)\n",
    "plt.ylabel('')\n",
    "#plt.savefig(\"sfig1/sfig1_d_asc_ctrl.png\",dpi=300,bbox_inches = 'tight')"
   ]
  },
  {
   "cell_type": "code",
   "execution_count": 48,
   "id": "c4a3e94b-9e49-4565-b80e-3b8bd5bc29a3",
   "metadata": {},
   "outputs": [
    {
     "name": "stdout",
     "output_type": "stream",
     "text": [
      "Creating directory /root/.config/bioservices \n"
     ]
    }
   ],
   "source": [
    "import gseapy as gp\n",
    "rnk_gene=list(set(ad_asc['feature']) | set(ctrl_asc['feature']))\n",
    "\n",
    "enr = gp.enrichr(gene_list=rnk_gene,\n",
    "        gene_sets=['KEGG_2019_Human',],\n",
    "        organism='Human', # don't forget to set organism to the one you desired! e.g. Yeast\n",
    "        description='test_name',\n",
    "        outdir='test/enrichr_kegg',\n",
    "        # no_plot=True,\n",
    "        cutoff=0.5 # test dataset, use lower value from range(0,1)\n",
    "      )"
   ]
  },
  {
   "cell_type": "code",
   "execution_count": 49,
   "id": "9f5af541-db8a-4e60-8cca-02a11549781a",
   "metadata": {},
   "outputs": [],
   "source": [
    "enr_res=enr.results.loc[enr.results['Adjusted P-value']<0.01]\n",
    "rnk_gene_ad=list(set(ad_asc['feature'])-set(ctrl_asc['feature']))\n",
    "rnk_gene_ctrl=list(set(ctrl_asc['feature'])-set(ad_asc['feature']))\n",
    "rnk_gene_jiao=list(set(ad_asc['feature']) | set(ctrl_asc['feature']))\n",
    "\n"
   ]
  },
  {
   "cell_type": "code",
   "execution_count": 50,
   "id": "6a39e41c-eac9-4740-bc2d-dc4d94894650",
   "metadata": {},
   "outputs": [
    {
     "data": {
      "text/html": [
       "<div>\n",
       "<style scoped>\n",
       "    .dataframe tbody tr th:only-of-type {\n",
       "        vertical-align: middle;\n",
       "    }\n",
       "\n",
       "    .dataframe tbody tr th {\n",
       "        vertical-align: top;\n",
       "    }\n",
       "\n",
       "    .dataframe thead th {\n",
       "        text-align: right;\n",
       "    }\n",
       "</style>\n",
       "<table border=\"1\" class=\"dataframe\">\n",
       "  <thead>\n",
       "    <tr style=\"text-align: right;\">\n",
       "      <th></th>\n",
       "      <th>AD</th>\n",
       "      <th>Union</th>\n",
       "      <th>Ctrl</th>\n",
       "    </tr>\n",
       "    <tr>\n",
       "      <th>Term</th>\n",
       "      <th></th>\n",
       "      <th></th>\n",
       "      <th></th>\n",
       "    </tr>\n",
       "  </thead>\n",
       "  <tbody>\n",
       "    <tr>\n",
       "      <th>Calcium signaling pathway</th>\n",
       "      <td>6</td>\n",
       "      <td>16</td>\n",
       "      <td>3</td>\n",
       "    </tr>\n",
       "    <tr>\n",
       "      <th>Salivary secretion</th>\n",
       "      <td>3</td>\n",
       "      <td>11</td>\n",
       "      <td>3</td>\n",
       "    </tr>\n",
       "    <tr>\n",
       "      <th>Hippo signaling pathway</th>\n",
       "      <td>0</td>\n",
       "      <td>11</td>\n",
       "      <td>1</td>\n",
       "    </tr>\n",
       "    <tr>\n",
       "      <th>cGMP-PKG signaling pathway</th>\n",
       "      <td>2</td>\n",
       "      <td>11</td>\n",
       "      <td>4</td>\n",
       "    </tr>\n",
       "    <tr>\n",
       "      <th>Proteoglycans in cancer</th>\n",
       "      <td>3</td>\n",
       "      <td>12</td>\n",
       "      <td>2</td>\n",
       "    </tr>\n",
       "    <tr>\n",
       "      <th>Arrhythmogenic right ventricular cardiomyopathy (ARVC)</th>\n",
       "      <td>0</td>\n",
       "      <td>7</td>\n",
       "      <td>0</td>\n",
       "    </tr>\n",
       "    <tr>\n",
       "      <th>Bile secretion</th>\n",
       "      <td>2</td>\n",
       "      <td>7</td>\n",
       "      <td>0</td>\n",
       "    </tr>\n",
       "    <tr>\n",
       "      <th>Pancreatic secretion</th>\n",
       "      <td>2</td>\n",
       "      <td>8</td>\n",
       "      <td>2</td>\n",
       "    </tr>\n",
       "    <tr>\n",
       "      <th>Gastric acid secretion</th>\n",
       "      <td>1</td>\n",
       "      <td>7</td>\n",
       "      <td>1</td>\n",
       "    </tr>\n",
       "  </tbody>\n",
       "</table>\n",
       "</div>"
      ],
      "text/plain": [
       "                                                    AD  Union  Ctrl\n",
       "Term                                                               \n",
       "Calcium signaling pathway                            6     16     3\n",
       "Salivary secretion                                   3     11     3\n",
       "Hippo signaling pathway                              0     11     1\n",
       "cGMP-PKG signaling pathway                           2     11     4\n",
       "Proteoglycans in cancer                              3     12     2\n",
       "Arrhythmogenic right ventricular cardiomyopathy...   0      7     0\n",
       "Bile secretion                                       2      7     0\n",
       "Pancreatic secretion                                 2      8     2\n",
       "Gastric acid secretion                               1      7     1"
      ]
     },
     "execution_count": 50,
     "metadata": {},
     "output_type": "execute_result"
    }
   ],
   "source": [
    "enr_res_p=pd.DataFrame(columns=['Term','AD','Union','Ctrl'])\n",
    "for i in range(len(enr_res)):\n",
    "\n",
    "  a4=enr_res.iloc[i]['Genes'].split(';')\n",
    "  rnk_gene_ad_len=len(list(set(rnk_gene_ad) & set(a4)))\n",
    "  rnk_gene_ctrl_len=len(list(set(rnk_gene_ctrl) & set(a4)))\n",
    "  rnk_gene_jiao_len=len(list(set(rnk_gene_jiao) & set(a4)))\n",
    "  rnk_dict={'Term':enr_res.iloc[i]['Term'],\n",
    "        'AD':rnk_gene_ad_len,\n",
    "        'Union':rnk_gene_jiao_len,\n",
    "        'Ctrl':rnk_gene_ctrl_len}\n",
    "  enr_res_p=enr_res_p.append(rnk_dict,ignore_index=True)\n",
    "enr_res_p.set_index(enr_res_p.columns[0],inplace=True)\n",
    "enr_res_p=enr_res_p.astype(int)\n",
    "enr_res_p"
   ]
  },
  {
   "cell_type": "code",
   "execution_count": 51,
   "id": "e2c0a740-59e1-4656-96c8-f8d0261254b4",
   "metadata": {},
   "outputs": [
    {
     "data": {
      "text/plain": [
       "<AxesSubplot:ylabel='Term'>"
      ]
     },
     "execution_count": 51,
     "metadata": {},
     "output_type": "execute_result"
    },
    {
     "data": {
      "image/png": "[encoded data removed]",
      "text/plain": [
       "<Figure size 240x320 with 2 Axes>"
      ]
     },
     "metadata": {},
     "output_type": "display_data"
    }
   ],
   "source": [
    "fig, ax = plt.subplots(figsize=(3,4))\n",
    "\n",
    "sns.heatmap(enr_res_p.apply(normalization,axis=1),\n",
    "      cmap=palettable.cartocolors.diverging.Geyser_3.mpl_colors, \n",
    "      ax=ax)\n",
    "#plt.savefig(\"figure1/figure1_k_asc_kegg.png\",dpi=300,bbox_inches = 'tight')"
   ]
  },
  {
   "cell_type": "markdown",
   "id": "cd441d78-8abb-4745-aeed-938f2119425d",
   "metadata": {},
   "source": [
    "### 4.2 MG"
   ]
  },
  {
   "cell_type": "code",
   "execution_count": 52,
   "id": "4f1cf8b9-f42c-4048-b675-ea45d20beaf2",
   "metadata": {},
   "outputs": [
    {
     "data": {
      "text/html": [
       "<div>\n",
       "<style scoped>\n",
       "    .dataframe tbody tr th:only-of-type {\n",
       "        vertical-align: middle;\n",
       "    }\n",
       "\n",
       "    .dataframe tbody tr th {\n",
       "        vertical-align: top;\n",
       "    }\n",
       "\n",
       "    .dataframe thead th {\n",
       "        text-align: right;\n",
       "    }\n",
       "</style>\n",
       "<table border=\"1\" class=\"dataframe\">\n",
       "  <thead>\n",
       "    <tr style=\"text-align: right;\">\n",
       "      <th></th>\n",
       "      <th>feature</th>\n",
       "      <th>weights</th>\n",
       "      <th>abs_weights</th>\n",
       "      <th>sig</th>\n",
       "    </tr>\n",
       "  </thead>\n",
       "  <tbody>\n",
       "    <tr>\n",
       "      <th>0</th>\n",
       "      <td>HES4</td>\n",
       "      <td>-0.104108</td>\n",
       "      <td>0.104108</td>\n",
       "      <td>-</td>\n",
       "    </tr>\n",
       "    <tr>\n",
       "      <th>1</th>\n",
       "      <td>ATAD3C</td>\n",
       "      <td>-0.092298</td>\n",
       "      <td>0.092298</td>\n",
       "      <td>-</td>\n",
       "    </tr>\n",
       "    <tr>\n",
       "      <th>2</th>\n",
       "      <td>HES5</td>\n",
       "      <td>0.089741</td>\n",
       "      <td>0.089741</td>\n",
       "      <td>+</td>\n",
       "    </tr>\n",
       "    <tr>\n",
       "      <th>3</th>\n",
       "      <td>LINC00982</td>\n",
       "      <td>0.208077</td>\n",
       "      <td>0.208077</td>\n",
       "      <td>+</td>\n",
       "    </tr>\n",
       "    <tr>\n",
       "      <th>4</th>\n",
       "      <td>PRDM16</td>\n",
       "      <td>0.258861</td>\n",
       "      <td>0.258861</td>\n",
       "      <td>+</td>\n",
       "    </tr>\n",
       "  </tbody>\n",
       "</table>\n",
       "</div>"
      ],
      "text/plain": [
       "     feature   weights  abs_weights sig\n",
       "0       HES4 -0.104108     0.104108   -\n",
       "1     ATAD3C -0.092298     0.092298   -\n",
       "2       HES5  0.089741     0.089741   +\n",
       "3  LINC00982  0.208077     0.208077   +\n",
       "4     PRDM16  0.258861     0.258861   +"
      ]
     },
     "execution_count": 52,
     "metadata": {},
     "output_type": "execute_result"
    }
   ],
   "source": [
    "ad_factor1=get_weights(f_ad,'rna',1)\n",
    "xl=[]\n",
    "for i in ad_factor1['feature'].values:\n",
    "  xl.append(bytes.decode(i).replace('Mutation',''))\n",
    "ad_factor1['feature']=xl\n",
    "ad_factor1.head()"
   ]
  },
  {
   "cell_type": "code",
   "execution_count": 53,
   "id": "7464b273-313a-493a-9634-3af3d6d80390",
   "metadata": {},
   "outputs": [
    {
     "data": {
      "text/html": [
       "<div>\n",
       "<style scoped>\n",
       "    .dataframe tbody tr th:only-of-type {\n",
       "        vertical-align: middle;\n",
       "    }\n",
       "\n",
       "    .dataframe tbody tr th {\n",
       "        vertical-align: top;\n",
       "    }\n",
       "\n",
       "    .dataframe thead th {\n",
       "        text-align: right;\n",
       "    }\n",
       "</style>\n",
       "<table border=\"1\" class=\"dataframe\">\n",
       "  <thead>\n",
       "    <tr style=\"text-align: right;\">\n",
       "      <th></th>\n",
       "      <th>feature</th>\n",
       "      <th>weights</th>\n",
       "      <th>abs_weights</th>\n",
       "      <th>sig</th>\n",
       "    </tr>\n",
       "  </thead>\n",
       "  <tbody>\n",
       "    <tr>\n",
       "      <th>891</th>\n",
       "      <td>RBM47</td>\n",
       "      <td>1.000000</td>\n",
       "      <td>1.000000</td>\n",
       "      <td>+</td>\n",
       "    </tr>\n",
       "    <tr>\n",
       "      <th>3045</th>\n",
       "      <td>PIK3R5</td>\n",
       "      <td>0.989713</td>\n",
       "      <td>0.989713</td>\n",
       "      <td>+</td>\n",
       "    </tr>\n",
       "    <tr>\n",
       "      <th>2264</th>\n",
       "      <td>SLCO2B1</td>\n",
       "      <td>0.987798</td>\n",
       "      <td>0.987798</td>\n",
       "      <td>+</td>\n",
       "    </tr>\n",
       "    <tr>\n",
       "      <th>1023</th>\n",
       "      <td>TLR2</td>\n",
       "      <td>0.987077</td>\n",
       "      <td>0.987077</td>\n",
       "      <td>+</td>\n",
       "    </tr>\n",
       "    <tr>\n",
       "      <th>249</th>\n",
       "      <td>PTPRC</td>\n",
       "      <td>0.981897</td>\n",
       "      <td>0.981897</td>\n",
       "      <td>+</td>\n",
       "    </tr>\n",
       "  </tbody>\n",
       "</table>\n",
       "</div>"
      ],
      "text/plain": [
       "      feature   weights  abs_weights sig\n",
       "891     RBM47  1.000000     1.000000   +\n",
       "3045   PIK3R5  0.989713     0.989713   +\n",
       "2264  SLCO2B1  0.987798     0.987798   +\n",
       "1023     TLR2  0.987077     0.987077   +\n",
       "249     PTPRC  0.981897     0.981897   +"
      ]
     },
     "execution_count": 53,
     "metadata": {},
     "output_type": "execute_result"
    }
   ],
   "source": [
    "ad_factor1_mg=ad_factor1.sort_values('abs_weights',ascending=False)\n",
    "ad_mg=ad_factor1_mg.loc[(ad_factor1_mg['sig']=='+') & (ad_factor1_mg['abs_weights']>0.7)]\n",
    "ad_mg.head()"
   ]
  },
  {
   "cell_type": "code",
   "execution_count": 54,
   "id": "d294c282-3ae9-4369-9519-19037bca2e01",
   "metadata": {},
   "outputs": [
    {
     "data": {
      "text/html": [
       "<div>\n",
       "<style scoped>\n",
       "    .dataframe tbody tr th:only-of-type {\n",
       "        vertical-align: middle;\n",
       "    }\n",
       "\n",
       "    .dataframe tbody tr th {\n",
       "        vertical-align: top;\n",
       "    }\n",
       "\n",
       "    .dataframe thead th {\n",
       "        text-align: right;\n",
       "    }\n",
       "</style>\n",
       "<table border=\"1\" class=\"dataframe\">\n",
       "  <thead>\n",
       "    <tr style=\"text-align: right;\">\n",
       "      <th></th>\n",
       "      <th>feature</th>\n",
       "      <th>weights</th>\n",
       "      <th>abs_weights</th>\n",
       "      <th>sig</th>\n",
       "    </tr>\n",
       "  </thead>\n",
       "  <tbody>\n",
       "    <tr>\n",
       "      <th>0</th>\n",
       "      <td>HES4</td>\n",
       "      <td>0.003706</td>\n",
       "      <td>0.003706</td>\n",
       "      <td>+</td>\n",
       "    </tr>\n",
       "    <tr>\n",
       "      <th>1</th>\n",
       "      <td>ATAD3C</td>\n",
       "      <td>-0.040048</td>\n",
       "      <td>0.040048</td>\n",
       "      <td>-</td>\n",
       "    </tr>\n",
       "    <tr>\n",
       "      <th>2</th>\n",
       "      <td>HES5</td>\n",
       "      <td>-0.051898</td>\n",
       "      <td>0.051898</td>\n",
       "      <td>-</td>\n",
       "    </tr>\n",
       "    <tr>\n",
       "      <th>3</th>\n",
       "      <td>LINC00982</td>\n",
       "      <td>-0.134675</td>\n",
       "      <td>0.134675</td>\n",
       "      <td>-</td>\n",
       "    </tr>\n",
       "    <tr>\n",
       "      <th>4</th>\n",
       "      <td>PRDM16</td>\n",
       "      <td>-0.223638</td>\n",
       "      <td>0.223638</td>\n",
       "      <td>-</td>\n",
       "    </tr>\n",
       "  </tbody>\n",
       "</table>\n",
       "</div>"
      ],
      "text/plain": [
       "     feature   weights  abs_weights sig\n",
       "0       HES4  0.003706     0.003706   +\n",
       "1     ATAD3C -0.040048     0.040048   -\n",
       "2       HES5 -0.051898     0.051898   -\n",
       "3  LINC00982 -0.134675     0.134675   -\n",
       "4     PRDM16 -0.223638     0.223638   -"
      ]
     },
     "execution_count": 54,
     "metadata": {},
     "output_type": "execute_result"
    }
   ],
   "source": [
    "ctrl_factor2=get_weights(f_ctrl,'rna',2)\n",
    "xl=[]\n",
    "for i in ctrl_factor2['feature'].values:\n",
    "  xl.append(bytes.decode(i).replace('Mutation',''))\n",
    "ctrl_factor2['feature']=xl\n",
    "ctrl_factor2.head()"
   ]
  },
  {
   "cell_type": "code",
   "execution_count": 55,
   "id": "a351f0e0-34c9-4471-a3b1-9f97207b7162",
   "metadata": {},
   "outputs": [
    {
     "data": {
      "text/html": [
       "<div>\n",
       "<style scoped>\n",
       "    .dataframe tbody tr th:only-of-type {\n",
       "        vertical-align: middle;\n",
       "    }\n",
       "\n",
       "    .dataframe tbody tr th {\n",
       "        vertical-align: top;\n",
       "    }\n",
       "\n",
       "    .dataframe thead th {\n",
       "        text-align: right;\n",
       "    }\n",
       "</style>\n",
       "<table border=\"1\" class=\"dataframe\">\n",
       "  <thead>\n",
       "    <tr style=\"text-align: right;\">\n",
       "      <th></th>\n",
       "      <th>feature</th>\n",
       "      <th>weights</th>\n",
       "      <th>abs_weights</th>\n",
       "      <th>sig</th>\n",
       "    </tr>\n",
       "  </thead>\n",
       "  <tbody>\n",
       "    <tr>\n",
       "      <th>1237</th>\n",
       "      <td>CD74</td>\n",
       "      <td>1.000000</td>\n",
       "      <td>1.000000</td>\n",
       "      <td>+</td>\n",
       "    </tr>\n",
       "    <tr>\n",
       "      <th>730</th>\n",
       "      <td>HCLS1</td>\n",
       "      <td>0.974751</td>\n",
       "      <td>0.974751</td>\n",
       "      <td>+</td>\n",
       "    </tr>\n",
       "    <tr>\n",
       "      <th>42</th>\n",
       "      <td>LAPTM5</td>\n",
       "      <td>0.881620</td>\n",
       "      <td>0.881620</td>\n",
       "      <td>+</td>\n",
       "    </tr>\n",
       "    <tr>\n",
       "      <th>855</th>\n",
       "      <td>SH3TC1</td>\n",
       "      <td>0.880566</td>\n",
       "      <td>0.880566</td>\n",
       "      <td>+</td>\n",
       "    </tr>\n",
       "    <tr>\n",
       "      <th>1233</th>\n",
       "      <td>CSF1R</td>\n",
       "      <td>0.880493</td>\n",
       "      <td>0.880493</td>\n",
       "      <td>+</td>\n",
       "    </tr>\n",
       "  </tbody>\n",
       "</table>\n",
       "</div>"
      ],
      "text/plain": [
       "     feature   weights  abs_weights sig\n",
       "1237    CD74  1.000000     1.000000   +\n",
       "730    HCLS1  0.974751     0.974751   +\n",
       "42    LAPTM5  0.881620     0.881620   +\n",
       "855   SH3TC1  0.880566     0.880566   +\n",
       "1233   CSF1R  0.880493     0.880493   +"
      ]
     },
     "execution_count": 55,
     "metadata": {},
     "output_type": "execute_result"
    }
   ],
   "source": [
    "ctrl_factor2_mg=ctrl_factor2.sort_values('abs_weights',ascending=False)\n",
    "ctrl_mg=ctrl_factor2_mg.loc[(ctrl_factor2_mg['sig']=='+') & (ctrl_factor2_mg['abs_weights']>0.7)]\n",
    "ctrl_mg.head()"
   ]
  },
  {
   "cell_type": "code",
   "execution_count": 56,
   "id": "f3d2df94-32ea-448f-9dd9-177cf15f90e1",
   "metadata": {},
   "outputs": [
    {
     "data": {
      "text/html": [
       "<div>\n",
       "<style scoped>\n",
       "    .dataframe tbody tr th:only-of-type {\n",
       "        vertical-align: middle;\n",
       "    }\n",
       "\n",
       "    .dataframe tbody tr th {\n",
       "        vertical-align: top;\n",
       "    }\n",
       "\n",
       "    .dataframe thead th {\n",
       "        text-align: right;\n",
       "    }\n",
       "</style>\n",
       "<table border=\"1\" class=\"dataframe\">\n",
       "  <thead>\n",
       "    <tr style=\"text-align: right;\">\n",
       "      <th></th>\n",
       "      <th>weights</th>\n",
       "      <th>abs_weights</th>\n",
       "      <th>sig</th>\n",
       "    </tr>\n",
       "    <tr>\n",
       "      <th>feature</th>\n",
       "      <th></th>\n",
       "      <th></th>\n",
       "      <th></th>\n",
       "    </tr>\n",
       "  </thead>\n",
       "  <tbody>\n",
       "    <tr>\n",
       "      <th>SYTL3</th>\n",
       "      <td>0.806537</td>\n",
       "      <td>0.806537</td>\n",
       "      <td>+</td>\n",
       "    </tr>\n",
       "    <tr>\n",
       "      <th>NHSL1</th>\n",
       "      <td>0.782145</td>\n",
       "      <td>0.782145</td>\n",
       "      <td>+</td>\n",
       "    </tr>\n",
       "    <tr>\n",
       "      <th>NEK6</th>\n",
       "      <td>0.744088</td>\n",
       "      <td>0.744088</td>\n",
       "      <td>+</td>\n",
       "    </tr>\n",
       "  </tbody>\n",
       "</table>\n",
       "</div>"
      ],
      "text/plain": [
       "          weights  abs_weights sig\n",
       "feature                           \n",
       "SYTL3    0.806537     0.806537   +\n",
       "NHSL1    0.782145     0.782145   +\n",
       "NEK6     0.744088     0.744088   +"
      ]
     },
     "execution_count": 56,
     "metadata": {},
     "output_type": "execute_result"
    }
   ],
   "source": [
    "c=list(set(ad_mg['feature'])-set(ctrl_mg['feature']))\n",
    "d=ctrl_factor2_mg.loc[(ctrl_factor2_mg['sig']=='+') & (ctrl_factor2_mg['abs_weights']<0.3)]\n",
    "retB = list(set(c).intersection(set(d['feature'])))\n",
    "a1=ad_mg.set_index(ad_mg.columns[0])\n",
    "mg_ad_res=a1.loc[retB].sort_values('abs_weights',ascending=False)\n",
    "mg_ad_res.to_csv('mg_ad_res.csv')\n",
    "mg_ad_res.head()"
   ]
  },
  {
   "cell_type": "code",
   "execution_count": 57,
   "id": "bfc1d1a3-5875-4230-95ee-ced273fc6f27",
   "metadata": {},
   "outputs": [
    {
     "data": {
      "text/html": [
       "<div>\n",
       "<style scoped>\n",
       "    .dataframe tbody tr th:only-of-type {\n",
       "        vertical-align: middle;\n",
       "    }\n",
       "\n",
       "    .dataframe tbody tr th {\n",
       "        vertical-align: top;\n",
       "    }\n",
       "\n",
       "    .dataframe thead th {\n",
       "        text-align: right;\n",
       "    }\n",
       "</style>\n",
       "<table border=\"1\" class=\"dataframe\">\n",
       "  <thead>\n",
       "    <tr style=\"text-align: right;\">\n",
       "      <th></th>\n",
       "      <th>weights</th>\n",
       "      <th>abs_weights</th>\n",
       "      <th>sig</th>\n",
       "    </tr>\n",
       "    <tr>\n",
       "      <th>feature</th>\n",
       "      <th></th>\n",
       "      <th></th>\n",
       "      <th></th>\n",
       "    </tr>\n",
       "  </thead>\n",
       "  <tbody>\n",
       "    <tr>\n",
       "      <th>CX3CR1</th>\n",
       "      <td>0.821642</td>\n",
       "      <td>0.821642</td>\n",
       "      <td>+</td>\n",
       "    </tr>\n",
       "    <tr>\n",
       "      <th>SIGLEC10</th>\n",
       "      <td>0.817036</td>\n",
       "      <td>0.817036</td>\n",
       "      <td>+</td>\n",
       "    </tr>\n",
       "  </tbody>\n",
       "</table>\n",
       "</div>"
      ],
      "text/plain": [
       "           weights  abs_weights sig\n",
       "feature                            \n",
       "CX3CR1    0.821642     0.821642   +\n",
       "SIGLEC10  0.817036     0.817036   +"
      ]
     },
     "execution_count": 57,
     "metadata": {},
     "output_type": "execute_result"
    }
   ],
   "source": [
    "c=list(set(ctrl_mg['feature'])-set(ad_mg['feature']))\n",
    "d=ad_factor1_mg.loc[(ad_factor1_mg['sig']=='+') & (ad_factor1_mg['abs_weights']<0.3)]\n",
    "retB = list(set(c).intersection(set(d['feature'])))\n",
    "a1=ctrl_mg.set_index(ctrl_mg.columns[0])\n",
    "mg_ctrl_res=a1.loc[retB].sort_values('abs_weights',ascending=False)\n",
    "mg_ctrl_res.to_csv('mg_ctrl_res.csv')\n",
    "mg_ctrl_res.head()"
   ]
  },
  {
   "cell_type": "code",
   "execution_count": 58,
   "id": "690bf804-ac46-4076-9f41-1475786b7691",
   "metadata": {},
   "outputs": [
    {
     "data": {
      "text/plain": [
       "Text(0, 0.5, 'Weights')"
      ]
     },
     "execution_count": 58,
     "metadata": {},
     "output_type": "execute_result"
    },
    {
     "data": {
      "image/png": "[encoded data removed]",
      "text/plain": [
       "<Figure size 160x320 with 1 Axes>"
      ]
     },
     "metadata": {},
     "output_type": "display_data"
    }
   ],
   "source": [
    "plt.style.use('seaborn-white')\n",
    "\n",
    "ctrl_mg_p=ctrl_factor2.set_index(ctrl_factor2.columns[0])\n",
    "ad_mg_p=ad_factor1.set_index(ad_factor1.columns[0])\n",
    "\n",
    "asc_p1=mg_ctrl_res.head(5).index.values.tolist()\n",
    "asc_p_df=pd.DataFrame()\n",
    "asc_p_df['name']=asc_p1\n",
    "asc_p_df['ctrl_weight']=ctrl_mg_p.loc[asc_p1]['weights'].values\n",
    "asc_p_df['ad_weight']=ad_mg_p.loc[asc_p1]['weights'].values\n",
    "asc_p_df['type']='ctrl'\n",
    "\n",
    "asc_p2=mg_ad_res.head(5).index.values.tolist()\n",
    "test_df=pd.DataFrame()\n",
    "test_df['name']=asc_p2\n",
    "test_df['ctrl_weight']=ctrl_mg_p.loc[asc_p2]['weights'].values\n",
    "test_df['ad_weight']=ad_mg_p.loc[asc_p2]['weights'].values\n",
    "test_df['type']='ad'\n",
    "\n",
    "asc_p_df=pd.concat([asc_p_df,test_df])\n",
    "\n",
    "pp=plt.figure(figsize=(2,4))\n",
    "ax=pp.add_subplot(1,1,1)\n",
    "#ctrl\n",
    "l1=ax.scatter(np.zeros(len(asc_p_df.loc[asc_p_df['type']=='ctrl'])),asc_p_df.loc[asc_p_df['type']=='ctrl']['ctrl_weight'],c=\"#a2ebc4\",alpha=0.5,)\n",
    "ax.scatter(np.ones(len(asc_p_df.loc[asc_p_df['type']=='ctrl']))+1,asc_p_df.loc[asc_p_df['type']=='ctrl']['ad_weight'],c=\"#a2ebc4\",alpha=0.5,)\n",
    "\n",
    "#ad\n",
    "l2=ax.scatter(np.zeros(len(asc_p_df.loc[asc_p_df['type']=='ad'])),asc_p_df.loc[asc_p_df['type']=='ad']['ctrl_weight'],c=\"#f2535d\",alpha=0.5,)\n",
    "ax.scatter(np.ones(len(asc_p_df.loc[asc_p_df['type']=='ad']))+1,asc_p_df.loc[asc_p_df['type']=='ad']['ad_weight'],c=\"#f2535d\",alpha=0.5,)\n",
    "\n",
    "plt.legend(handles=[l1, l2], labels=[\"MG_Ctrl\",\"MG_AD\"],\n",
    "           bbox_to_anchor=(1, 0), loc=3,fontsize=12)\n",
    "plt.xlim(-1,3)\n",
    "ax.xaxis.set_ticklabels(['','Ctrl','AD'])\n",
    "plt.ylabel('Weights')\n",
    "#plt.savefig(\"figure1/figure1_f_mg_weight.png\",dpi=300,bbox_inches = 'tight')"
   ]
  },
  {
   "cell_type": "code",
   "execution_count": 59,
   "id": "f636fcca-39fe-4dca-b3b0-37938e13ebfd",
   "metadata": {},
   "outputs": [
    {
     "data": {
      "image/png": "[encoded data removed]",
      "text/plain": [
       "<Figure size 320x320 with 1 Axes>"
      ]
     },
     "metadata": {},
     "output_type": "display_data"
    }
   ],
   "source": [
    "fig, ax = plt.subplots(figsize=(4,4))         # Sample figsize in inches\n",
    "venn2_circles(subsets=[set(ad_mg['feature']),set(ctrl_mg['feature'])],\n",
    "        linestyle='--', linewidth=2, color=\"black\",#外框线型、线宽、颜色\n",
    "        normalize_to=1.0,\n",
    "       )\n",
    "v=venn2(subsets=[set(ad_mg['feature']),set(ctrl_mg['feature'])],\n",
    "      set_labels=('AD','Ctrl'),\n",
    "      set_colors=(\"#f2535d\",\"#a2ebc4\"),\n",
    "       normalize_to=1.0,)\n",
    "\n",
    "v.get_label_by_id('10').set_fontsize(15)#1的大小设置为20\n",
    "v.get_label_by_id('01').set_fontsize(15)#1的大小设置为20\n",
    "v.get_label_by_id('11').set_fontsize(15)#1的大小设置为20\n",
    "for t in v.set_labels: \n",
    "    t.set_fontsize(15) "
   ]
  },
  {
   "cell_type": "code",
   "execution_count": 68,
   "id": "8ba4ad66-93ec-42f7-8444-307a0e1aabe3",
   "metadata": {},
   "outputs": [
    {
     "name": "stdout",
     "output_type": "stream",
     "text": [
      "72 15\n",
      "72 15\n",
      "0.018945420913051257 *\n",
      "0.10232057944928066  \n",
      "0.07097873858928334  \n"
     ]
    },
    {
     "data": {
      "text/plain": [
       "Text(0, 0.5, '')"
      ]
     },
     "execution_count": 68,
     "metadata": {},
     "output_type": "execute_result"
    },
    {
     "data": {
      "image/png": "[encoded data removed]",
      "text/plain": [
       "<Figure size 240x320 with 1 Axes>"
      ]
     },
     "metadata": {},
     "output_type": "display_data"
    }
   ],
   "source": [
    "plt.style.use('seaborn-white')\n",
    "fig, ax = plt.subplots(figsize=(3,4))\n",
    "plot_data=get_viodata('MG',list(mg_ad_res.head(5).index.values))\n",
    "g=sns.violinplot(x=\"gene\", y=\"value\", hue='type',data=get_viodata('MG',list(mg_ad_res.head(5).index.values)), \n",
    "        split=True,inner=\"box\",palette=[\"#f2535d\",\"#a2ebc4\"],ax=ax,\n",
    "        #saturation=1\n",
    "        )\n",
    "\n",
    "c=0\n",
    "for i in list(mg_ad_res.head(5).index.values):\n",
    "    ttest = stats.ttest_ind(plot_data.loc[plot_data['gene'].isin([i]) & plot_data['type'].isin(['ctrl'])]['value'], plot_data.loc[plot_data['gene'].isin([i]) & plot_data['type'].isin(['ad'])]['value'])\n",
    "    max_value=plot_data[plot_data['gene'].isin([i])]['value'].max()\n",
    "    if(ttest[1]<0.001):\n",
    "        xing=\"***\"   \n",
    "    elif(ttest[1]<0.01):\n",
    "        xing=\"**\"\n",
    "    elif(ttest[1]<0.05):\n",
    "        xing=\"*\"\n",
    "    else:\n",
    "        xing=' '\n",
    "    print(ttest[1],xing)\n",
    "    g.text(c,max_value*1.2, xing,ha='center', va='bottom', fontsize=20)\n",
    "    c+=1\n",
    "\n",
    "plt.yticks(fontsize=12)\n",
    "plt.xticks(fontsize=12)\n",
    "#设置图注\n",
    "plt.legend(bbox_to_anchor=(1, 0), loc=3,fontsize=15)\n",
    "\n",
    "plt.xlabel('MG_AD_Var',fontsize=12)\n",
    "plt.ylabel('')"
   ]
  },
  {
   "cell_type": "code",
   "execution_count": 69,
   "id": "ef020666-8d4f-4af0-9ede-7a79d28b000c",
   "metadata": {},
   "outputs": [
    {
     "name": "stdout",
     "output_type": "stream",
     "text": [
      "72 15\n",
      "1.5008478754995123e-05 ***\n",
      "0.0043318768109331576 **\n"
     ]
    },
    {
     "data": {
      "text/plain": [
       "Text(0, 0.5, '')"
      ]
     },
     "execution_count": 69,
     "metadata": {},
     "output_type": "execute_result"
    },
    {
     "data": {
      "image/png": "[encoded data removed]",
      "text/plain": [
       "<Figure size 240x320 with 1 Axes>"
      ]
     },
     "metadata": {},
     "output_type": "display_data"
    }
   ],
   "source": [
    "plt.style.use('seaborn-white')\n",
    "fig, ax = plt.subplots(figsize=(3,4))\n",
    "\n",
    "plot_data=get_viodata('MG',list(mg_ctrl_res.head(5).index.values))\n",
    "g=sns.violinplot(x=\"gene\", y=\"value\", hue='type',data=plot_data, \n",
    "        split=True,inner=\"box\",palette=[\"#f2535d\",\"#a2ebc4\"],ax=ax,\n",
    "        #saturation=1\n",
    "        )\n",
    "c=0\n",
    "for i in list(mg_ctrl_res.head(5).index.values):\n",
    "    ttest = stats.ttest_ind(plot_data.loc[plot_data['gene'].isin([i]) & plot_data['type'].isin(['ctrl'])]['value'], plot_data.loc[plot_data['gene'].isin([i]) & plot_data['type'].isin(['ad'])]['value'])\n",
    "    max_value=plot_data[plot_data['gene'].isin([i])]['value'].max()\n",
    "    if(ttest[1]<0.001):\n",
    "        xing=\"***\"   \n",
    "    elif(ttest[1]<0.01):\n",
    "        xing=\"**\"\n",
    "    elif(ttest[1]<0.05):\n",
    "        xing=\"*\"\n",
    "    else:\n",
    "        xing=' '\n",
    "    print(ttest[1],xing)\n",
    "    g.text(c,max_value*1.2, xing,ha='center', va='bottom', fontsize=20)\n",
    "    c+=1\n",
    "\n",
    "plt.yticks(fontsize=12)\n",
    "plt.xticks(fontsize=12)\n",
    "#设置图注\n",
    "plt.legend(bbox_to_anchor=(1, 0), loc=3,fontsize=15)\n",
    "\n",
    "plt.xlabel('MG_Ctrl_Var',fontsize=12)\n",
    "plt.ylabel('')"
   ]
  },
  {
   "cell_type": "code",
   "execution_count": 70,
   "id": "ec06066a-fa59-4974-a8c5-5a7b5accea9a",
   "metadata": {},
   "outputs": [],
   "source": [
    "rnk_gene=list(set(ad_mg['feature']) | set(ctrl_mg['feature']))\n",
    "\n",
    "enr = gp.enrichr(gene_list=rnk_gene,\n",
    "        gene_sets=['KEGG_2019_Human',],\n",
    "        organism='Human', # don't forget to set organism to the one you desired! e.g. Yeast\n",
    "        description='test_name',\n",
    "        outdir='mg/enrichr_kegg',\n",
    "        # no_plot=True,\n",
    "        cutoff=0.5 # test dataset, use lower value from range(0,1)\n",
    "      )"
   ]
  },
  {
   "cell_type": "code",
   "execution_count": 71,
   "id": "e3532a3d-29cd-4061-8a03-b1748480e1d1",
   "metadata": {},
   "outputs": [],
   "source": [
    "enr_res=enr.results.loc[enr.results['Adjusted P-value']<0.01]\n",
    "rnk_gene_ad=list(set(ad_mg['feature'])-set(ctrl_mg['feature']))\n",
    "rnk_gene_ctrl=list(set(ctrl_mg['feature'])-set(ad_mg['feature']))\n",
    "rnk_gene_jiao=list(set(ad_mg['feature']) | set(ctrl_mg['feature']))"
   ]
  },
  {
   "cell_type": "code",
   "execution_count": 72,
   "id": "87840b34-7516-4832-b16a-046d98fd4805",
   "metadata": {},
   "outputs": [
    {
     "data": {
      "text/html": [
       "<div>\n",
       "<style scoped>\n",
       "    .dataframe tbody tr th:only-of-type {\n",
       "        vertical-align: middle;\n",
       "    }\n",
       "\n",
       "    .dataframe tbody tr th {\n",
       "        vertical-align: top;\n",
       "    }\n",
       "\n",
       "    .dataframe thead th {\n",
       "        text-align: right;\n",
       "    }\n",
       "</style>\n",
       "<table border=\"1\" class=\"dataframe\">\n",
       "  <thead>\n",
       "    <tr style=\"text-align: right;\">\n",
       "      <th></th>\n",
       "      <th>AD</th>\n",
       "      <th>Union</th>\n",
       "      <th>Ctrl</th>\n",
       "    </tr>\n",
       "    <tr>\n",
       "      <th>Term</th>\n",
       "      <th></th>\n",
       "      <th></th>\n",
       "      <th></th>\n",
       "    </tr>\n",
       "  </thead>\n",
       "  <tbody>\n",
       "    <tr>\n",
       "      <th>Fc gamma R-mediated phagocytosis</th>\n",
       "      <td>6</td>\n",
       "      <td>10</td>\n",
       "      <td>0</td>\n",
       "    </tr>\n",
       "    <tr>\n",
       "      <th>Fc epsilon RI signaling pathway</th>\n",
       "      <td>5</td>\n",
       "      <td>8</td>\n",
       "      <td>0</td>\n",
       "    </tr>\n",
       "    <tr>\n",
       "      <th>B cell receptor signaling pathway</th>\n",
       "      <td>5</td>\n",
       "      <td>8</td>\n",
       "      <td>0</td>\n",
       "    </tr>\n",
       "    <tr>\n",
       "      <th>Platelet activation</th>\n",
       "      <td>4</td>\n",
       "      <td>9</td>\n",
       "      <td>1</td>\n",
       "    </tr>\n",
       "    <tr>\n",
       "      <th>Osteoclast differentiation</th>\n",
       "      <td>6</td>\n",
       "      <td>8</td>\n",
       "      <td>0</td>\n",
       "    </tr>\n",
       "    <tr>\n",
       "      <th>Tuberculosis</th>\n",
       "      <td>4</td>\n",
       "      <td>9</td>\n",
       "      <td>1</td>\n",
       "    </tr>\n",
       "    <tr>\n",
       "      <th>Complement and coagulation cascades</th>\n",
       "      <td>2</td>\n",
       "      <td>6</td>\n",
       "      <td>2</td>\n",
       "    </tr>\n",
       "    <tr>\n",
       "      <th>Kaposi sarcoma-associated herpesvirus infection</th>\n",
       "      <td>5</td>\n",
       "      <td>8</td>\n",
       "      <td>0</td>\n",
       "    </tr>\n",
       "    <tr>\n",
       "      <th>Cytokine-cytokine receptor interaction</th>\n",
       "      <td>4</td>\n",
       "      <td>9</td>\n",
       "      <td>1</td>\n",
       "    </tr>\n",
       "    <tr>\n",
       "      <th>Transcriptional misregulation in cancer</th>\n",
       "      <td>5</td>\n",
       "      <td>7</td>\n",
       "      <td>0</td>\n",
       "    </tr>\n",
       "    <tr>\n",
       "      <th>Legionellosis</th>\n",
       "      <td>2</td>\n",
       "      <td>4</td>\n",
       "      <td>0</td>\n",
       "    </tr>\n",
       "    <tr>\n",
       "      <th>T cell receptor signaling pathway</th>\n",
       "      <td>2</td>\n",
       "      <td>5</td>\n",
       "      <td>0</td>\n",
       "    </tr>\n",
       "    <tr>\n",
       "      <th>Chagas disease (American trypanosomiasis)</th>\n",
       "      <td>2</td>\n",
       "      <td>5</td>\n",
       "      <td>1</td>\n",
       "    </tr>\n",
       "    <tr>\n",
       "      <th>Th17 cell differentiation</th>\n",
       "      <td>3</td>\n",
       "      <td>5</td>\n",
       "      <td>0</td>\n",
       "    </tr>\n",
       "    <tr>\n",
       "      <th>Chemokine signaling pathway</th>\n",
       "      <td>3</td>\n",
       "      <td>6</td>\n",
       "      <td>1</td>\n",
       "    </tr>\n",
       "    <tr>\n",
       "      <th>Natural killer cell mediated cytotoxicity</th>\n",
       "      <td>4</td>\n",
       "      <td>5</td>\n",
       "      <td>0</td>\n",
       "    </tr>\n",
       "    <tr>\n",
       "      <th>PI3K-Akt signaling pathway</th>\n",
       "      <td>2</td>\n",
       "      <td>8</td>\n",
       "      <td>0</td>\n",
       "    </tr>\n",
       "    <tr>\n",
       "      <th>Primary immunodeficiency</th>\n",
       "      <td>2</td>\n",
       "      <td>3</td>\n",
       "      <td>0</td>\n",
       "    </tr>\n",
       "  </tbody>\n",
       "</table>\n",
       "</div>"
      ],
      "text/plain": [
       "                                                 AD  Union  Ctrl\n",
       "Term                                                            \n",
       "Fc gamma R-mediated phagocytosis                  6     10     0\n",
       "Fc epsilon RI signaling pathway                   5      8     0\n",
       "B cell receptor signaling pathway                 5      8     0\n",
       "Platelet activation                               4      9     1\n",
       "Osteoclast differentiation                        6      8     0\n",
       "Tuberculosis                                      4      9     1\n",
       "Complement and coagulation cascades               2      6     2\n",
       "Kaposi sarcoma-associated herpesvirus infection   5      8     0\n",
       "Cytokine-cytokine receptor interaction            4      9     1\n",
       "Transcriptional misregulation in cancer           5      7     0\n",
       "Legionellosis                                     2      4     0\n",
       "T cell receptor signaling pathway                 2      5     0\n",
       "Chagas disease (American trypanosomiasis)         2      5     1\n",
       "Th17 cell differentiation                         3      5     0\n",
       "Chemokine signaling pathway                       3      6     1\n",
       "Natural killer cell mediated cytotoxicity         4      5     0\n",
       "PI3K-Akt signaling pathway                        2      8     0\n",
       "Primary immunodeficiency                          2      3     0"
      ]
     },
     "execution_count": 72,
     "metadata": {},
     "output_type": "execute_result"
    }
   ],
   "source": [
    "enr_res_p=pd.DataFrame(columns=['Term','AD','Union','Ctrl'])\n",
    "for i in range(len(enr_res)):\n",
    "\n",
    "  a4=enr_res.iloc[i]['Genes'].split(';')\n",
    "  rnk_gene_ad_len=len(list(set(rnk_gene_ad) & set(a4)))\n",
    "  rnk_gene_ctrl_len=len(list(set(rnk_gene_ctrl) & set(a4)))\n",
    "  rnk_gene_jiao_len=len(list(set(rnk_gene_jiao) & set(a4)))\n",
    "  rnk_dict={'Term':enr_res.iloc[i]['Term'],\n",
    "        'AD':rnk_gene_ad_len,\n",
    "        'Union':rnk_gene_jiao_len,\n",
    "        'Ctrl':rnk_gene_ctrl_len}\n",
    "  enr_res_p=enr_res_p.append(rnk_dict,ignore_index=True)\n",
    "enr_res_p.set_index(enr_res_p.columns[0],inplace=True)\n",
    "enr_res_p=enr_res_p.astype(int)\n",
    "enr_res_p"
   ]
  },
  {
   "cell_type": "code",
   "execution_count": 78,
   "id": "cd3905ef-5563-4bcc-b341-5b41017c436a",
   "metadata": {},
   "outputs": [
    {
     "data": {
      "text/plain": [
       "<AxesSubplot:ylabel='Term'>"
      ]
     },
     "execution_count": 78,
     "metadata": {},
     "output_type": "execute_result"
    },
    {
     "data": {
      "image/png": "[encoded data removed]",
      "text/plain": [
       "<Figure size 240x640 with 2 Axes>"
      ]
     },
     "metadata": {},
     "output_type": "display_data"
    }
   ],
   "source": [
    "fig, ax = plt.subplots(figsize=(3,8))\n",
    "sns.heatmap(enr_res_p.apply(normalization,axis=1),\n",
    "      cmap=palettable.cartocolors.diverging.Geyser_3.mpl_colors, \n",
    "      ax=ax)\n",
    "#plt.savefig(\"figure1/figure1_l_mg_kegg.png\",dpi=300,bbox_inches = 'tight')"
   ]
  },
  {
   "cell_type": "markdown",
   "id": "10c10d07-ad28-4a14-9e4c-b70a1e4c11f3",
   "metadata": {},
   "source": [
    "### 4.3 ODC"
   ]
  },
  {
   "cell_type": "code",
   "execution_count": 79,
   "id": "dd9cea8f-7eb1-4c88-939c-886cb9f28433",
   "metadata": {},
   "outputs": [
    {
     "data": {
      "text/html": [
       "<div>\n",
       "<style scoped>\n",
       "    .dataframe tbody tr th:only-of-type {\n",
       "        vertical-align: middle;\n",
       "    }\n",
       "\n",
       "    .dataframe tbody tr th {\n",
       "        vertical-align: top;\n",
       "    }\n",
       "\n",
       "    .dataframe thead th {\n",
       "        text-align: right;\n",
       "    }\n",
       "</style>\n",
       "<table border=\"1\" class=\"dataframe\">\n",
       "  <thead>\n",
       "    <tr style=\"text-align: right;\">\n",
       "      <th></th>\n",
       "      <th>feature</th>\n",
       "      <th>weights</th>\n",
       "      <th>abs_weights</th>\n",
       "      <th>sig</th>\n",
       "    </tr>\n",
       "  </thead>\n",
       "  <tbody>\n",
       "    <tr>\n",
       "      <th>0</th>\n",
       "      <td>HES4</td>\n",
       "      <td>-0.104108</td>\n",
       "      <td>0.104108</td>\n",
       "      <td>-</td>\n",
       "    </tr>\n",
       "    <tr>\n",
       "      <th>1</th>\n",
       "      <td>ATAD3C</td>\n",
       "      <td>-0.092298</td>\n",
       "      <td>0.092298</td>\n",
       "      <td>-</td>\n",
       "    </tr>\n",
       "    <tr>\n",
       "      <th>2</th>\n",
       "      <td>HES5</td>\n",
       "      <td>0.089741</td>\n",
       "      <td>0.089741</td>\n",
       "      <td>+</td>\n",
       "    </tr>\n",
       "    <tr>\n",
       "      <th>3</th>\n",
       "      <td>LINC00982</td>\n",
       "      <td>0.208077</td>\n",
       "      <td>0.208077</td>\n",
       "      <td>+</td>\n",
       "    </tr>\n",
       "    <tr>\n",
       "      <th>4</th>\n",
       "      <td>PRDM16</td>\n",
       "      <td>0.258861</td>\n",
       "      <td>0.258861</td>\n",
       "      <td>+</td>\n",
       "    </tr>\n",
       "  </tbody>\n",
       "</table>\n",
       "</div>"
      ],
      "text/plain": [
       "     feature   weights  abs_weights sig\n",
       "0       HES4 -0.104108     0.104108   -\n",
       "1     ATAD3C -0.092298     0.092298   -\n",
       "2       HES5  0.089741     0.089741   +\n",
       "3  LINC00982  0.208077     0.208077   +\n",
       "4     PRDM16  0.258861     0.258861   +"
      ]
     },
     "execution_count": 79,
     "metadata": {},
     "output_type": "execute_result"
    }
   ],
   "source": [
    "ad_factor1=get_weights(f_ad,'rna',1)\n",
    "xl=[]\n",
    "for i in ad_factor1['feature'].values:\n",
    "  xl.append(bytes.decode(i).replace('Mutation',''))\n",
    "ad_factor1['feature']=xl\n",
    "ad_factor1.head()"
   ]
  },
  {
   "cell_type": "code",
   "execution_count": 80,
   "id": "117037b7-9a2a-4bc1-a57d-a4aa088d0081",
   "metadata": {},
   "outputs": [
    {
     "data": {
      "text/html": [
       "<div>\n",
       "<style scoped>\n",
       "    .dataframe tbody tr th:only-of-type {\n",
       "        vertical-align: middle;\n",
       "    }\n",
       "\n",
       "    .dataframe tbody tr th {\n",
       "        vertical-align: top;\n",
       "    }\n",
       "\n",
       "    .dataframe thead th {\n",
       "        text-align: right;\n",
       "    }\n",
       "</style>\n",
       "<table border=\"1\" class=\"dataframe\">\n",
       "  <thead>\n",
       "    <tr style=\"text-align: right;\">\n",
       "      <th></th>\n",
       "      <th>feature</th>\n",
       "      <th>weights</th>\n",
       "      <th>abs_weights</th>\n",
       "      <th>sig</th>\n",
       "    </tr>\n",
       "  </thead>\n",
       "  <tbody>\n",
       "    <tr>\n",
       "      <th>649</th>\n",
       "      <td>MOBP</td>\n",
       "      <td>-0.511409</td>\n",
       "      <td>0.511409</td>\n",
       "      <td>-</td>\n",
       "    </tr>\n",
       "    <tr>\n",
       "      <th>2921</th>\n",
       "      <td>PCSK6</td>\n",
       "      <td>-0.467742</td>\n",
       "      <td>0.467742</td>\n",
       "      <td>-</td>\n",
       "    </tr>\n",
       "    <tr>\n",
       "      <th>504</th>\n",
       "      <td>LRP2</td>\n",
       "      <td>-0.456323</td>\n",
       "      <td>0.456323</td>\n",
       "      <td>-</td>\n",
       "    </tr>\n",
       "    <tr>\n",
       "      <th>522</th>\n",
       "      <td>PDE1A</td>\n",
       "      <td>-0.436766</td>\n",
       "      <td>0.436766</td>\n",
       "      <td>-</td>\n",
       "    </tr>\n",
       "    <tr>\n",
       "      <th>1960</th>\n",
       "      <td>PALM2</td>\n",
       "      <td>-0.412531</td>\n",
       "      <td>0.412531</td>\n",
       "      <td>-</td>\n",
       "    </tr>\n",
       "  </tbody>\n",
       "</table>\n",
       "</div>"
      ],
      "text/plain": [
       "     feature   weights  abs_weights sig\n",
       "649     MOBP -0.511409     0.511409   -\n",
       "2921   PCSK6 -0.467742     0.467742   -\n",
       "504     LRP2 -0.456323     0.456323   -\n",
       "522    PDE1A -0.436766     0.436766   -\n",
       "1960   PALM2 -0.412531     0.412531   -"
      ]
     },
     "execution_count": 80,
     "metadata": {},
     "output_type": "execute_result"
    }
   ],
   "source": [
    "ad_factor1_odc=ad_factor1.sort_values('abs_weights',ascending=False)\n",
    "ad_odc=ad_factor1_odc.loc[(ad_factor1_odc['sig']=='-') & (ad_factor1_odc['abs_weights']>0.3)]\n",
    "ad_odc.head()"
   ]
  },
  {
   "cell_type": "code",
   "execution_count": 81,
   "id": "44614061-233f-4c65-977f-286c8c841067",
   "metadata": {},
   "outputs": [
    {
     "data": {
      "text/html": [
       "<div>\n",
       "<style scoped>\n",
       "    .dataframe tbody tr th:only-of-type {\n",
       "        vertical-align: middle;\n",
       "    }\n",
       "\n",
       "    .dataframe tbody tr th {\n",
       "        vertical-align: top;\n",
       "    }\n",
       "\n",
       "    .dataframe thead th {\n",
       "        text-align: right;\n",
       "    }\n",
       "</style>\n",
       "<table border=\"1\" class=\"dataframe\">\n",
       "  <thead>\n",
       "    <tr style=\"text-align: right;\">\n",
       "      <th></th>\n",
       "      <th>feature</th>\n",
       "      <th>weights</th>\n",
       "      <th>abs_weights</th>\n",
       "      <th>sig</th>\n",
       "    </tr>\n",
       "  </thead>\n",
       "  <tbody>\n",
       "    <tr>\n",
       "      <th>0</th>\n",
       "      <td>HES4</td>\n",
       "      <td>0.172516</td>\n",
       "      <td>0.172516</td>\n",
       "      <td>+</td>\n",
       "    </tr>\n",
       "    <tr>\n",
       "      <th>1</th>\n",
       "      <td>ATAD3C</td>\n",
       "      <td>-0.097504</td>\n",
       "      <td>0.097504</td>\n",
       "      <td>-</td>\n",
       "    </tr>\n",
       "    <tr>\n",
       "      <th>2</th>\n",
       "      <td>HES5</td>\n",
       "      <td>0.465964</td>\n",
       "      <td>0.465964</td>\n",
       "      <td>+</td>\n",
       "    </tr>\n",
       "    <tr>\n",
       "      <th>3</th>\n",
       "      <td>LINC00982</td>\n",
       "      <td>0.656463</td>\n",
       "      <td>0.656463</td>\n",
       "      <td>+</td>\n",
       "    </tr>\n",
       "    <tr>\n",
       "      <th>4</th>\n",
       "      <td>PRDM16</td>\n",
       "      <td>0.888467</td>\n",
       "      <td>0.888467</td>\n",
       "      <td>+</td>\n",
       "    </tr>\n",
       "  </tbody>\n",
       "</table>\n",
       "</div>"
      ],
      "text/plain": [
       "     feature   weights  abs_weights sig\n",
       "0       HES4  0.172516     0.172516   +\n",
       "1     ATAD3C -0.097504     0.097504   -\n",
       "2       HES5  0.465964     0.465964   +\n",
       "3  LINC00982  0.656463     0.656463   +\n",
       "4     PRDM16  0.888467     0.888467   +"
      ]
     },
     "execution_count": 81,
     "metadata": {},
     "output_type": "execute_result"
    }
   ],
   "source": [
    "ctrl_factor1=get_weights(f_ctrl,'rna',1)\n",
    "xl=[]\n",
    "for i in ctrl_factor1['feature'].values:\n",
    "  xl.append(bytes.decode(i).replace('Mutation',''))\n",
    "ctrl_factor1['feature']=xl\n",
    "ctrl_factor1.head()"
   ]
  },
  {
   "cell_type": "code",
   "execution_count": 82,
   "id": "da52bb9b-d9bb-43ad-b8b7-2ec001e40713",
   "metadata": {},
   "outputs": [
    {
     "data": {
      "text/html": [
       "<div>\n",
       "<style scoped>\n",
       "    .dataframe tbody tr th:only-of-type {\n",
       "        vertical-align: middle;\n",
       "    }\n",
       "\n",
       "    .dataframe tbody tr th {\n",
       "        vertical-align: top;\n",
       "    }\n",
       "\n",
       "    .dataframe thead th {\n",
       "        text-align: right;\n",
       "    }\n",
       "</style>\n",
       "<table border=\"1\" class=\"dataframe\">\n",
       "  <thead>\n",
       "    <tr style=\"text-align: right;\">\n",
       "      <th></th>\n",
       "      <th>feature</th>\n",
       "      <th>weights</th>\n",
       "      <th>abs_weights</th>\n",
       "      <th>sig</th>\n",
       "    </tr>\n",
       "  </thead>\n",
       "  <tbody>\n",
       "    <tr>\n",
       "      <th>649</th>\n",
       "      <td>MOBP</td>\n",
       "      <td>-0.516399</td>\n",
       "      <td>0.516399</td>\n",
       "      <td>-</td>\n",
       "    </tr>\n",
       "    <tr>\n",
       "      <th>2921</th>\n",
       "      <td>PCSK6</td>\n",
       "      <td>-0.464965</td>\n",
       "      <td>0.464965</td>\n",
       "      <td>-</td>\n",
       "    </tr>\n",
       "    <tr>\n",
       "      <th>3007</th>\n",
       "      <td>CNTNAP4</td>\n",
       "      <td>-0.455692</td>\n",
       "      <td>0.455692</td>\n",
       "      <td>-</td>\n",
       "    </tr>\n",
       "    <tr>\n",
       "      <th>3241</th>\n",
       "      <td>CNDP1</td>\n",
       "      <td>-0.408392</td>\n",
       "      <td>0.408392</td>\n",
       "      <td>-</td>\n",
       "    </tr>\n",
       "    <tr>\n",
       "      <th>2236</th>\n",
       "      <td>FOLH1</td>\n",
       "      <td>-0.384580</td>\n",
       "      <td>0.384580</td>\n",
       "      <td>-</td>\n",
       "    </tr>\n",
       "  </tbody>\n",
       "</table>\n",
       "</div>"
      ],
      "text/plain": [
       "      feature   weights  abs_weights sig\n",
       "649      MOBP -0.516399     0.516399   -\n",
       "2921    PCSK6 -0.464965     0.464965   -\n",
       "3007  CNTNAP4 -0.455692     0.455692   -\n",
       "3241    CNDP1 -0.408392     0.408392   -\n",
       "2236    FOLH1 -0.384580     0.384580   -"
      ]
     },
     "execution_count": 82,
     "metadata": {},
     "output_type": "execute_result"
    }
   ],
   "source": [
    "ctrl_factor1_odc=ctrl_factor1.sort_values('abs_weights',ascending=False)\n",
    "ctrl_odc=ctrl_factor1_odc.loc[(ctrl_factor1_odc['sig']=='-') & (ctrl_factor1_odc['abs_weights']>0.3)]\n",
    "ctrl_odc.head()"
   ]
  },
  {
   "cell_type": "code",
   "execution_count": 83,
   "id": "6f0aa86c-d719-4b7a-8165-3d107c84b2d4",
   "metadata": {},
   "outputs": [
    {
     "data": {
      "text/html": [
       "<div>\n",
       "<style scoped>\n",
       "    .dataframe tbody tr th:only-of-type {\n",
       "        vertical-align: middle;\n",
       "    }\n",
       "\n",
       "    .dataframe tbody tr th {\n",
       "        vertical-align: top;\n",
       "    }\n",
       "\n",
       "    .dataframe thead th {\n",
       "        text-align: right;\n",
       "    }\n",
       "</style>\n",
       "<table border=\"1\" class=\"dataframe\">\n",
       "  <thead>\n",
       "    <tr style=\"text-align: right;\">\n",
       "      <th></th>\n",
       "      <th>weights</th>\n",
       "      <th>abs_weights</th>\n",
       "      <th>sig</th>\n",
       "    </tr>\n",
       "    <tr>\n",
       "      <th>feature</th>\n",
       "      <th></th>\n",
       "      <th></th>\n",
       "      <th></th>\n",
       "    </tr>\n",
       "  </thead>\n",
       "  <tbody>\n",
       "    <tr>\n",
       "      <th>LURAP1L-AS1</th>\n",
       "      <td>-0.335457</td>\n",
       "      <td>0.335457</td>\n",
       "      <td>-</td>\n",
       "    </tr>\n",
       "    <tr>\n",
       "      <th>AL138881.1</th>\n",
       "      <td>-0.326610</td>\n",
       "      <td>0.326610</td>\n",
       "      <td>-</td>\n",
       "    </tr>\n",
       "  </tbody>\n",
       "</table>\n",
       "</div>"
      ],
      "text/plain": [
       "              weights  abs_weights sig\n",
       "feature                               \n",
       "LURAP1L-AS1 -0.335457     0.335457   -\n",
       "AL138881.1  -0.326610     0.326610   -"
      ]
     },
     "execution_count": 83,
     "metadata": {},
     "output_type": "execute_result"
    }
   ],
   "source": [
    "c=list(set(ad_odc['feature'])-set(ctrl_odc['feature']))\n",
    "d=ctrl_factor1_odc.loc[(ctrl_factor1_odc['sig']=='-') & (ctrl_factor1_odc['abs_weights']<0.25)]\n",
    "retB = list(set(c).intersection(set(d['feature'])))\n",
    "a1=ad_odc.set_index(ad_odc.columns[0])\n",
    "odc_ad_res=a1.loc[retB].sort_values('abs_weights',ascending=False)\n",
    "odc_ad_res.to_csv('odc_ad_res.csv')\n",
    "odc_ad_res.head()"
   ]
  },
  {
   "cell_type": "code",
   "execution_count": 84,
   "id": "e149a6c8-6ebf-4a9d-b545-3717f4a27588",
   "metadata": {},
   "outputs": [
    {
     "data": {
      "text/html": [
       "<div>\n",
       "<style scoped>\n",
       "    .dataframe tbody tr th:only-of-type {\n",
       "        vertical-align: middle;\n",
       "    }\n",
       "\n",
       "    .dataframe tbody tr th {\n",
       "        vertical-align: top;\n",
       "    }\n",
       "\n",
       "    .dataframe thead th {\n",
       "        text-align: right;\n",
       "    }\n",
       "</style>\n",
       "<table border=\"1\" class=\"dataframe\">\n",
       "  <thead>\n",
       "    <tr style=\"text-align: right;\">\n",
       "      <th></th>\n",
       "      <th>weights</th>\n",
       "      <th>abs_weights</th>\n",
       "      <th>sig</th>\n",
       "    </tr>\n",
       "    <tr>\n",
       "      <th>feature</th>\n",
       "      <th></th>\n",
       "      <th></th>\n",
       "      <th></th>\n",
       "    </tr>\n",
       "  </thead>\n",
       "  <tbody>\n",
       "    <tr>\n",
       "      <th>NINJ2</th>\n",
       "      <td>-0.310509</td>\n",
       "      <td>0.310509</td>\n",
       "      <td>-</td>\n",
       "    </tr>\n",
       "    <tr>\n",
       "      <th>SLC4A8</th>\n",
       "      <td>-0.308530</td>\n",
       "      <td>0.308530</td>\n",
       "      <td>-</td>\n",
       "    </tr>\n",
       "    <tr>\n",
       "      <th>GREB1L</th>\n",
       "      <td>-0.302393</td>\n",
       "      <td>0.302393</td>\n",
       "      <td>-</td>\n",
       "    </tr>\n",
       "  </tbody>\n",
       "</table>\n",
       "</div>"
      ],
      "text/plain": [
       "          weights  abs_weights sig\n",
       "feature                           \n",
       "NINJ2   -0.310509     0.310509   -\n",
       "SLC4A8  -0.308530     0.308530   -\n",
       "GREB1L  -0.302393     0.302393   -"
      ]
     },
     "execution_count": 84,
     "metadata": {},
     "output_type": "execute_result"
    }
   ],
   "source": [
    "c=list(set(ctrl_odc['feature'])-set(ad_odc['feature']))\n",
    "d=ad_factor1_odc.loc[(ad_factor1_odc['sig']=='-') & (ad_factor1_odc['abs_weights']<0.25)]\n",
    "retB = list(set(c).intersection(set(d['feature'])))\n",
    "a1=ctrl_odc.set_index(ctrl_odc.columns[0])\n",
    "odc_ctrl_res=a1.loc[retB].sort_values('abs_weights',ascending=False)\n",
    "odc_ctrl_res.to_csv('odc_ctrl_res.csv')\n",
    "odc_ctrl_res.head()"
   ]
  },
  {
   "cell_type": "code",
   "execution_count": 85,
   "id": "82cd723e-6b8f-4b65-95f3-76b160dac7e6",
   "metadata": {},
   "outputs": [
    {
     "data": {
      "text/plain": [
       "Text(0, 0.5, 'Weights')"
      ]
     },
     "execution_count": 85,
     "metadata": {},
     "output_type": "execute_result"
    },
    {
     "data": {
      "image/png": "[encoded data removed]",
      "text/plain": [
       "<Figure size 160x320 with 1 Axes>"
      ]
     },
     "metadata": {},
     "output_type": "display_data"
    }
   ],
   "source": [
    "plt.style.use('seaborn-white')\n",
    "\n",
    "ctrl_odc_p=ctrl_factor1.set_index(ctrl_factor1.columns[0])\n",
    "ad_odc_p=ad_factor1.set_index(ad_factor1.columns[0])\n",
    "\n",
    "asc_p1=odc_ctrl_res.head(5).index.values.tolist()\n",
    "asc_p_df=pd.DataFrame()\n",
    "asc_p_df['name']=asc_p1\n",
    "asc_p_df['ctrl_weight']=ctrl_odc_p.loc[asc_p1]['weights'].values\n",
    "asc_p_df['ad_weight']=ad_odc_p.loc[asc_p1]['weights'].values\n",
    "asc_p_df['type']='ctrl'\n",
    "\n",
    "asc_p2=odc_ad_res.head(5).index.values.tolist()\n",
    "test_df=pd.DataFrame()\n",
    "test_df['name']=asc_p2\n",
    "test_df['ctrl_weight']=ctrl_odc_p.loc[asc_p2]['weights'].values\n",
    "test_df['ad_weight']=ad_odc_p.loc[asc_p2]['weights'].values\n",
    "test_df['type']='ad'\n",
    "\n",
    "asc_p_df=pd.concat([asc_p_df,test_df])\n",
    "\n",
    "pp=plt.figure(figsize=(2,4))\n",
    "ax=pp.add_subplot(1,1,1)\n",
    "#ctrl\n",
    "l1=ax.scatter(np.zeros(len(asc_p_df.loc[asc_p_df['type']=='ctrl'])),asc_p_df.loc[asc_p_df['type']=='ctrl']['ctrl_weight'],c=\"#a2ebc4\",alpha=0.5,)\n",
    "ax.scatter(np.ones(len(asc_p_df.loc[asc_p_df['type']=='ctrl']))+1,asc_p_df.loc[asc_p_df['type']=='ctrl']['ad_weight'],c=\"#a2ebc4\",alpha=0.5,)\n",
    "\n",
    "#ad\n",
    "l2=ax.scatter(np.zeros(len(asc_p_df.loc[asc_p_df['type']=='ad'])),asc_p_df.loc[asc_p_df['type']=='ad']['ctrl_weight'],c=\"#f2535d\",alpha=0.5,)\n",
    "ax.scatter(np.ones(len(asc_p_df.loc[asc_p_df['type']=='ad']))+1,asc_p_df.loc[asc_p_df['type']=='ad']['ad_weight'],c=\"#f2535d\",alpha=0.5,)\n",
    "\n",
    "plt.legend(handles=[l1, l2], labels=[\"ODC_Ctrl\",\"ODC_AD\"],\n",
    "           bbox_to_anchor=(1, 0), loc=3,fontsize=12)\n",
    "plt.xlim(-1,3)\n",
    "ax.xaxis.set_ticklabels(['','Ctrl','AD'])\n",
    "plt.ylabel('Weights')\n",
    "#plt.savefig(\"figure1/figure1_h_odc_weight.png\",dpi=300,bbox_inches = 'tight')"
   ]
  },
  {
   "cell_type": "code",
   "execution_count": 86,
   "id": "e2e21a21-9cad-4f9c-8c9e-7a983ffa2ade",
   "metadata": {},
   "outputs": [
    {
     "data": {
      "image/png": "[encoded data removed]",
      "text/plain": [
       "<Figure size 320x320 with 1 Axes>"
      ]
     },
     "metadata": {},
     "output_type": "display_data"
    }
   ],
   "source": [
    "fig, ax = plt.subplots(figsize=(4,4))         # Sample figsize in inches\n",
    "venn2_circles(subsets=[set(ad_odc['feature']),set(ctrl_odc['feature'])],\n",
    "        linestyle='--', linewidth=2, color=\"black\",#外框线型、线宽、颜色\n",
    "        normalize_to=1.0,\n",
    "       )\n",
    "v=venn2(subsets=[set(ad_odc['feature']),set(ctrl_odc['feature'])],\n",
    "      set_labels=('AD','Ctrl'),\n",
    "      set_colors=(\"#f2535d\",\"#a2ebc4\"),\n",
    "       normalize_to=1.0,)\n",
    "\n",
    "v.get_label_by_id('10').set_fontsize(15)#1的大小设置为20\n",
    "v.get_label_by_id('01').set_fontsize(15)#1的大小设置为20\n",
    "v.get_label_by_id('11').set_fontsize(15)#1的大小设置为20\n",
    "for t in v.set_labels: \n",
    "    t.set_fontsize(15) "
   ]
  },
  {
   "cell_type": "code",
   "execution_count": 89,
   "id": "a2578a52-1aa1-4d85-a32b-5a31ffd4691a",
   "metadata": {},
   "outputs": [
    {
     "name": "stdout",
     "output_type": "stream",
     "text": [
      "691 535\n",
      "7.187276613688632e-15 ***\n",
      "3.3326705330324285e-30 ***\n"
     ]
    },
    {
     "data": {
      "text/plain": [
       "Text(0, 0.5, '')"
      ]
     },
     "execution_count": 89,
     "metadata": {},
     "output_type": "execute_result"
    },
    {
     "data": {
      "image/png": "[encoded data removed]",
      "text/plain": [
       "<Figure size 240x320 with 1 Axes>"
      ]
     },
     "metadata": {},
     "output_type": "display_data"
    }
   ],
   "source": [
    "plt.style.use('seaborn-white')\n",
    "fig, ax = plt.subplots(figsize=(3,4))\n",
    "plot_data=get_viodata('ODC',list(odc_ad_res.head(5).index.values))\n",
    "g=sns.violinplot(x=\"gene\", y=\"value\", hue='type',data=plot_data, \n",
    "        split=True,inner=\"box\",palette=[\"#f2535d\",\"#a2ebc4\"],ax=ax,\n",
    "        #saturation=1\n",
    "        )\n",
    "c=0\n",
    "for i in list(odc_ad_res.head(5).index.values):\n",
    "    ttest = stats.ttest_ind(plot_data.loc[plot_data['gene'].isin([i]) & plot_data['type'].isin(['ctrl'])]['value'], plot_data.loc[plot_data['gene'].isin([i]) & plot_data['type'].isin(['ad'])]['value'])\n",
    "    max_value=plot_data[plot_data['gene'].isin([i])]['value'].max()\n",
    "    if(ttest[1]<0.001):\n",
    "        xing=\"***\"   \n",
    "    elif(ttest[1]<0.01):\n",
    "        xing=\"**\"\n",
    "    elif(ttest[1]<0.05):\n",
    "        xing=\"*\"\n",
    "    else:\n",
    "        xing=' '\n",
    "    print(ttest[1],xing)\n",
    "    g.text(c,max_value*1.1, xing,ha='center', va='bottom', fontsize=15)\n",
    "    c+=1\n",
    "    \n",
    "plt.yticks(fontsize=12)\n",
    "plt.xticks(fontsize=12)\n",
    "#设置图注\n",
    "plt.legend(bbox_to_anchor=(1, 0), loc=3,fontsize=15)\n",
    "\n",
    "plt.xlabel('ODC_AD_Var',fontsize=12)\n",
    "plt.ylabel('')"
   ]
  },
  {
   "cell_type": "code",
   "execution_count": 91,
   "id": "ee3f64d2-d310-430a-b7ad-36afa4aea2cd",
   "metadata": {},
   "outputs": [
    {
     "name": "stdout",
     "output_type": "stream",
     "text": [
      "691 535\n",
      "1.1536834874393227e-07 ***\n",
      "2.5519777018940975e-12 ***\n",
      "1.6588403645460272e-12 ***\n"
     ]
    },
    {
     "data": {
      "text/plain": [
       "Text(0, 0.5, '')"
      ]
     },
     "execution_count": 91,
     "metadata": {},
     "output_type": "execute_result"
    },
    {
     "data": {
      "image/png": "[encoded data removed]",
      "text/plain": [
       "<Figure size 240x320 with 1 Axes>"
      ]
     },
     "metadata": {},
     "output_type": "display_data"
    }
   ],
   "source": [
    "plt.style.use('seaborn-white')\n",
    "fig, ax = plt.subplots(figsize=(3,4))\n",
    "plot_data=get_viodata('ODC',list(odc_ctrl_res.head(5).index.values))\n",
    "g=sns.violinplot(x=\"gene\", y=\"value\", hue='type',data=plot_data, \n",
    "        split=True,inner=\"box\",palette=[\"#f2535d\",\"#a2ebc4\"],ax=ax,\n",
    "        #saturation=1\n",
    "        )\n",
    "c=0\n",
    "for i in list(odc_ctrl_res.head(5).index.values):\n",
    "    ttest = stats.ttest_ind(plot_data.loc[plot_data['gene'].isin([i]) & plot_data['type'].isin(['ctrl'])]['value'], plot_data.loc[plot_data['gene'].isin([i]) & plot_data['type'].isin(['ad'])]['value'])\n",
    "    max_value=plot_data[plot_data['gene'].isin([i])]['value'].max()\n",
    "    if(ttest[1]<0.001):\n",
    "        xing=\"***\"   \n",
    "    elif(ttest[1]<0.01):\n",
    "        xing=\"**\"\n",
    "    elif(ttest[1]<0.05):\n",
    "        xing=\"*\"\n",
    "    else:\n",
    "        xing=' '\n",
    "    print(ttest[1],xing)\n",
    "    g.text(c,max_value*1.1, xing,ha='center', va='bottom', fontsize=15)\n",
    "    c+=1\n",
    "\n",
    "plt.yticks(fontsize=12)\n",
    "plt.xticks(fontsize=12)\n",
    "#设置图注\n",
    "plt.legend(bbox_to_anchor=(1, 0), loc=3,fontsize=15)\n",
    "\n",
    "plt.xlabel('ODC_Ctrl_Var',fontsize=12)\n",
    "plt.ylabel('')\n",
    "#plt.savefig(\"sfig1/sfig1_h_odc_ctrl.png\",dpi=300,bbox_inches = 'tight')\n"
   ]
  },
  {
   "cell_type": "code",
   "execution_count": 92,
   "id": "1921b7d2-a144-4242-836e-92b6713c19e6",
   "metadata": {},
   "outputs": [],
   "source": [
    "rnk_gene=list(set(ad_odc['feature']) | set(ctrl_odc['feature']))\n",
    "\n",
    "enr = gp.enrichr(gene_list=rnk_gene,\n",
    "        gene_sets=['KEGG_2019_Human',],\n",
    "        organism='Human', # don't forget to set organism to the one you desired! e.g. Yeast\n",
    "        description='test_name',\n",
    "        outdir='odc/enrichr_kegg',\n",
    "        # no_plot=True,\n",
    "        cutoff=0.5 # test dataset, use lower value from range(0,1)\n",
    "      )"
   ]
  },
  {
   "cell_type": "code",
   "execution_count": 93,
   "id": "22def514-a5fb-4a08-94e0-1830626a996d",
   "metadata": {},
   "outputs": [],
   "source": [
    "enr_res=enr.results.loc[enr.results['P-value']<0.05]\n",
    "rnk_gene_ad=list(set(ad_odc['feature'])-set(ctrl_odc['feature']))\n",
    "rnk_gene_ctrl=list(set(ctrl_odc['feature'])-set(ad_odc['feature']))\n",
    "rnk_gene_jiao=list(set(ad_odc['feature']) | set(ctrl_odc['feature']))"
   ]
  },
  {
   "cell_type": "code",
   "execution_count": 94,
   "id": "db87d7c8-c573-42e8-9c16-d36a014f97be",
   "metadata": {},
   "outputs": [
    {
     "data": {
      "text/html": [
       "<div>\n",
       "<style scoped>\n",
       "    .dataframe tbody tr th:only-of-type {\n",
       "        vertical-align: middle;\n",
       "    }\n",
       "\n",
       "    .dataframe tbody tr th {\n",
       "        vertical-align: top;\n",
       "    }\n",
       "\n",
       "    .dataframe thead th {\n",
       "        text-align: right;\n",
       "    }\n",
       "</style>\n",
       "<table border=\"1\" class=\"dataframe\">\n",
       "  <thead>\n",
       "    <tr style=\"text-align: right;\">\n",
       "      <th></th>\n",
       "      <th>AD</th>\n",
       "      <th>Union</th>\n",
       "      <th>Ctrl</th>\n",
       "    </tr>\n",
       "    <tr>\n",
       "      <th>Term</th>\n",
       "      <th></th>\n",
       "      <th></th>\n",
       "      <th></th>\n",
       "    </tr>\n",
       "  </thead>\n",
       "  <tbody>\n",
       "    <tr>\n",
       "      <th>ECM-receptor interaction</th>\n",
       "      <td>0</td>\n",
       "      <td>2</td>\n",
       "      <td>1</td>\n",
       "    </tr>\n",
       "    <tr>\n",
       "      <th>Axon guidance</th>\n",
       "      <td>1</td>\n",
       "      <td>2</td>\n",
       "      <td>0</td>\n",
       "    </tr>\n",
       "    <tr>\n",
       "      <th>Histidine metabolism</th>\n",
       "      <td>0</td>\n",
       "      <td>1</td>\n",
       "      <td>0</td>\n",
       "    </tr>\n",
       "    <tr>\n",
       "      <th>Vitamin digestion and absorption</th>\n",
       "      <td>0</td>\n",
       "      <td>1</td>\n",
       "      <td>0</td>\n",
       "    </tr>\n",
       "    <tr>\n",
       "      <th>Focal adhesion</th>\n",
       "      <td>0</td>\n",
       "      <td>2</td>\n",
       "      <td>1</td>\n",
       "    </tr>\n",
       "  </tbody>\n",
       "</table>\n",
       "</div>"
      ],
      "text/plain": [
       "                                  AD  Union  Ctrl\n",
       "Term                                             \n",
       "ECM-receptor interaction           0      2     1\n",
       "Axon guidance                      1      2     0\n",
       "Histidine metabolism               0      1     0\n",
       "Vitamin digestion and absorption   0      1     0\n",
       "Focal adhesion                     0      2     1"
      ]
     },
     "execution_count": 94,
     "metadata": {},
     "output_type": "execute_result"
    }
   ],
   "source": [
    "enr_res_p=pd.DataFrame(columns=['Term','AD','Union','Ctrl'])\n",
    "for i in range(len(enr_res)):\n",
    "\n",
    "  a4=enr_res.iloc[i]['Genes'].split(';')\n",
    "  rnk_gene_ad_len=len(list(set(rnk_gene_ad) & set(a4)))\n",
    "  rnk_gene_ctrl_len=len(list(set(rnk_gene_ctrl) & set(a4)))\n",
    "  rnk_gene_jiao_len=len(list(set(rnk_gene_jiao) & set(a4)))\n",
    "  rnk_dict={'Term':enr_res.iloc[i]['Term'],\n",
    "        'AD':rnk_gene_ad_len,\n",
    "        'Union':rnk_gene_jiao_len,\n",
    "        'Ctrl':rnk_gene_ctrl_len}\n",
    "  enr_res_p=enr_res_p.append(rnk_dict,ignore_index=True)\n",
    "enr_res_p.set_index(enr_res_p.columns[0],inplace=True)\n",
    "enr_res_p=enr_res_p.astype(int)\n",
    "enr_res_p"
   ]
  },
  {
   "cell_type": "code",
   "execution_count": 95,
   "id": "f31d3ec0-4489-4def-98d7-e3d24c40b973",
   "metadata": {},
   "outputs": [
    {
     "data": {
      "text/plain": [
       "<AxesSubplot:ylabel='Term'>"
      ]
     },
     "execution_count": 95,
     "metadata": {},
     "output_type": "execute_result"
    },
    {
     "data": {
      "image/png": "[encoded data removed]",
      "text/plain": [
       "<Figure size 240x320 with 2 Axes>"
      ]
     },
     "metadata": {},
     "output_type": "display_data"
    }
   ],
   "source": [
    "fig, ax = plt.subplots(figsize=(3,4))\n",
    "sns.heatmap(enr_res_p.apply(normalization,axis=1),\n",
    "      cmap=palettable.cartocolors.diverging.Geyser_3.mpl_colors, \n",
    "      ax=ax)\n",
    "#plt.savefig(\"figure1/figure1_m_odc_kegg.png\",dpi=300,bbox_inches = 'tight')"
   ]
  },
  {
   "cell_type": "markdown",
   "id": "2e9df445-3568-48a2-84c7-5f997e4d2ed5",
   "metadata": {},
   "source": [
    "### 4.4 INH"
   ]
  },
  {
   "cell_type": "code",
   "execution_count": 96,
   "id": "25c04683-2be9-4ecb-bd06-76994ed24928",
   "metadata": {},
   "outputs": [
    {
     "data": {
      "text/html": [
       "<div>\n",
       "<style scoped>\n",
       "    .dataframe tbody tr th:only-of-type {\n",
       "        vertical-align: middle;\n",
       "    }\n",
       "\n",
       "    .dataframe tbody tr th {\n",
       "        vertical-align: top;\n",
       "    }\n",
       "\n",
       "    .dataframe thead th {\n",
       "        text-align: right;\n",
       "    }\n",
       "</style>\n",
       "<table border=\"1\" class=\"dataframe\">\n",
       "  <thead>\n",
       "    <tr style=\"text-align: right;\">\n",
       "      <th></th>\n",
       "      <th>feature</th>\n",
       "      <th>weights</th>\n",
       "      <th>abs_weights</th>\n",
       "      <th>sig</th>\n",
       "    </tr>\n",
       "  </thead>\n",
       "  <tbody>\n",
       "    <tr>\n",
       "      <th>0</th>\n",
       "      <td>HES4</td>\n",
       "      <td>-0.048782</td>\n",
       "      <td>0.048782</td>\n",
       "      <td>-</td>\n",
       "    </tr>\n",
       "    <tr>\n",
       "      <th>1</th>\n",
       "      <td>ATAD3C</td>\n",
       "      <td>0.000660</td>\n",
       "      <td>0.000660</td>\n",
       "      <td>+</td>\n",
       "    </tr>\n",
       "    <tr>\n",
       "      <th>2</th>\n",
       "      <td>HES5</td>\n",
       "      <td>0.021598</td>\n",
       "      <td>0.021598</td>\n",
       "      <td>+</td>\n",
       "    </tr>\n",
       "    <tr>\n",
       "      <th>3</th>\n",
       "      <td>LINC00982</td>\n",
       "      <td>-0.000208</td>\n",
       "      <td>0.000208</td>\n",
       "      <td>-</td>\n",
       "    </tr>\n",
       "    <tr>\n",
       "      <th>4</th>\n",
       "      <td>PRDM16</td>\n",
       "      <td>-0.002076</td>\n",
       "      <td>0.002076</td>\n",
       "      <td>-</td>\n",
       "    </tr>\n",
       "  </tbody>\n",
       "</table>\n",
       "</div>"
      ],
      "text/plain": [
       "     feature   weights  abs_weights sig\n",
       "0       HES4 -0.048782     0.048782   -\n",
       "1     ATAD3C  0.000660     0.000660   +\n",
       "2       HES5  0.021598     0.021598   +\n",
       "3  LINC00982 -0.000208     0.000208   -\n",
       "4     PRDM16 -0.002076     0.002076   -"
      ]
     },
     "execution_count": 96,
     "metadata": {},
     "output_type": "execute_result"
    }
   ],
   "source": [
    "ad_factor7=get_weights(f_ad,'rna',7)\n",
    "xl=[]\n",
    "for i in ad_factor7['feature'].values:\n",
    "  xl.append(bytes.decode(i).replace('Mutation',''))\n",
    "ad_factor7['feature']=xl\n",
    "ad_factor7.head()"
   ]
  },
  {
   "cell_type": "code",
   "execution_count": 97,
   "id": "0c03d09e-3e37-40dd-964e-a2e65a8ec809",
   "metadata": {},
   "outputs": [
    {
     "data": {
      "text/html": [
       "<div>\n",
       "<style scoped>\n",
       "    .dataframe tbody tr th:only-of-type {\n",
       "        vertical-align: middle;\n",
       "    }\n",
       "\n",
       "    .dataframe tbody tr th {\n",
       "        vertical-align: top;\n",
       "    }\n",
       "\n",
       "    .dataframe thead th {\n",
       "        text-align: right;\n",
       "    }\n",
       "</style>\n",
       "<table border=\"1\" class=\"dataframe\">\n",
       "  <thead>\n",
       "    <tr style=\"text-align: right;\">\n",
       "      <th></th>\n",
       "      <th>feature</th>\n",
       "      <th>weights</th>\n",
       "      <th>abs_weights</th>\n",
       "      <th>sig</th>\n",
       "    </tr>\n",
       "  </thead>\n",
       "  <tbody>\n",
       "    <tr>\n",
       "      <th>2056</th>\n",
       "      <td>GAD2</td>\n",
       "      <td>-1.000000</td>\n",
       "      <td>1.000000</td>\n",
       "      <td>-</td>\n",
       "    </tr>\n",
       "    <tr>\n",
       "      <th>623</th>\n",
       "      <td>GRIP2</td>\n",
       "      <td>-0.878320</td>\n",
       "      <td>0.878320</td>\n",
       "      <td>-</td>\n",
       "    </tr>\n",
       "    <tr>\n",
       "      <th>2182</th>\n",
       "      <td>NRIP3</td>\n",
       "      <td>-0.858519</td>\n",
       "      <td>0.858519</td>\n",
       "      <td>-</td>\n",
       "    </tr>\n",
       "    <tr>\n",
       "      <th>1736</th>\n",
       "      <td>ANK1</td>\n",
       "      <td>-0.844188</td>\n",
       "      <td>0.844188</td>\n",
       "      <td>-</td>\n",
       "    </tr>\n",
       "    <tr>\n",
       "      <th>1596</th>\n",
       "      <td>DLX6-AS1</td>\n",
       "      <td>-0.819270</td>\n",
       "      <td>0.819270</td>\n",
       "      <td>-</td>\n",
       "    </tr>\n",
       "  </tbody>\n",
       "</table>\n",
       "</div>"
      ],
      "text/plain": [
       "       feature   weights  abs_weights sig\n",
       "2056      GAD2 -1.000000     1.000000   -\n",
       "623      GRIP2 -0.878320     0.878320   -\n",
       "2182     NRIP3 -0.858519     0.858519   -\n",
       "1736      ANK1 -0.844188     0.844188   -\n",
       "1596  DLX6-AS1 -0.819270     0.819270   -"
      ]
     },
     "execution_count": 97,
     "metadata": {},
     "output_type": "execute_result"
    }
   ],
   "source": [
    "ad_factor7_inh=ad_factor7.sort_values('abs_weights',ascending=False)\n",
    "ad_inh=ad_factor7_inh.loc[(ad_factor7_inh['sig']=='-') & (ad_factor7_inh['abs_weights']>0.6)]\n",
    "ad_inh.head()"
   ]
  },
  {
   "cell_type": "code",
   "execution_count": 98,
   "id": "7f2669cb-7dc3-432d-88fc-22c48c9092d0",
   "metadata": {},
   "outputs": [
    {
     "data": {
      "text/html": [
       "<div>\n",
       "<style scoped>\n",
       "    .dataframe tbody tr th:only-of-type {\n",
       "        vertical-align: middle;\n",
       "    }\n",
       "\n",
       "    .dataframe tbody tr th {\n",
       "        vertical-align: top;\n",
       "    }\n",
       "\n",
       "    .dataframe thead th {\n",
       "        text-align: right;\n",
       "    }\n",
       "</style>\n",
       "<table border=\"1\" class=\"dataframe\">\n",
       "  <thead>\n",
       "    <tr style=\"text-align: right;\">\n",
       "      <th></th>\n",
       "      <th>feature</th>\n",
       "      <th>weights</th>\n",
       "      <th>abs_weights</th>\n",
       "      <th>sig</th>\n",
       "    </tr>\n",
       "  </thead>\n",
       "  <tbody>\n",
       "    <tr>\n",
       "      <th>0</th>\n",
       "      <td>HES4</td>\n",
       "      <td>0.232113</td>\n",
       "      <td>0.232113</td>\n",
       "      <td>+</td>\n",
       "    </tr>\n",
       "    <tr>\n",
       "      <th>1</th>\n",
       "      <td>ATAD3C</td>\n",
       "      <td>-0.003569</td>\n",
       "      <td>0.003569</td>\n",
       "      <td>-</td>\n",
       "    </tr>\n",
       "    <tr>\n",
       "      <th>2</th>\n",
       "      <td>HES5</td>\n",
       "      <td>-0.009519</td>\n",
       "      <td>0.009519</td>\n",
       "      <td>-</td>\n",
       "    </tr>\n",
       "    <tr>\n",
       "      <th>3</th>\n",
       "      <td>LINC00982</td>\n",
       "      <td>0.002125</td>\n",
       "      <td>0.002125</td>\n",
       "      <td>+</td>\n",
       "    </tr>\n",
       "    <tr>\n",
       "      <th>4</th>\n",
       "      <td>PRDM16</td>\n",
       "      <td>0.004509</td>\n",
       "      <td>0.004509</td>\n",
       "      <td>+</td>\n",
       "    </tr>\n",
       "  </tbody>\n",
       "</table>\n",
       "</div>"
      ],
      "text/plain": [
       "     feature   weights  abs_weights sig\n",
       "0       HES4  0.232113     0.232113   +\n",
       "1     ATAD3C -0.003569     0.003569   -\n",
       "2       HES5 -0.009519     0.009519   -\n",
       "3  LINC00982  0.002125     0.002125   +\n",
       "4     PRDM16  0.004509     0.004509   +"
      ]
     },
     "execution_count": 98,
     "metadata": {},
     "output_type": "execute_result"
    }
   ],
   "source": [
    "ctrl_factor7=get_weights(f_ctrl,'rna',7)\n",
    "xl=[]\n",
    "for i in ctrl_factor7['feature'].values:\n",
    "  xl.append(bytes.decode(i).replace('Mutation',''))\n",
    "ctrl_factor7['feature']=xl\n",
    "ctrl_factor7.head()"
   ]
  },
  {
   "cell_type": "code",
   "execution_count": 99,
   "id": "823d73c9-bf72-4f54-b105-b54c30ca3479",
   "metadata": {},
   "outputs": [
    {
     "data": {
      "text/html": [
       "<div>\n",
       "<style scoped>\n",
       "    .dataframe tbody tr th:only-of-type {\n",
       "        vertical-align: middle;\n",
       "    }\n",
       "\n",
       "    .dataframe tbody tr th {\n",
       "        vertical-align: top;\n",
       "    }\n",
       "\n",
       "    .dataframe thead th {\n",
       "        text-align: right;\n",
       "    }\n",
       "</style>\n",
       "<table border=\"1\" class=\"dataframe\">\n",
       "  <thead>\n",
       "    <tr style=\"text-align: right;\">\n",
       "      <th></th>\n",
       "      <th>feature</th>\n",
       "      <th>weights</th>\n",
       "      <th>abs_weights</th>\n",
       "      <th>sig</th>\n",
       "    </tr>\n",
       "  </thead>\n",
       "  <tbody>\n",
       "    <tr>\n",
       "      <th>2056</th>\n",
       "      <td>GAD2</td>\n",
       "      <td>1.000000</td>\n",
       "      <td>1.000000</td>\n",
       "      <td>+</td>\n",
       "    </tr>\n",
       "    <tr>\n",
       "      <th>506</th>\n",
       "      <td>GAD1</td>\n",
       "      <td>0.860184</td>\n",
       "      <td>0.860184</td>\n",
       "      <td>+</td>\n",
       "    </tr>\n",
       "    <tr>\n",
       "      <th>1736</th>\n",
       "      <td>ANK1</td>\n",
       "      <td>0.806838</td>\n",
       "      <td>0.806838</td>\n",
       "      <td>+</td>\n",
       "    </tr>\n",
       "    <tr>\n",
       "      <th>2542</th>\n",
       "      <td>BTBD11</td>\n",
       "      <td>0.788590</td>\n",
       "      <td>0.788590</td>\n",
       "      <td>+</td>\n",
       "    </tr>\n",
       "    <tr>\n",
       "      <th>623</th>\n",
       "      <td>GRIP2</td>\n",
       "      <td>0.780941</td>\n",
       "      <td>0.780941</td>\n",
       "      <td>+</td>\n",
       "    </tr>\n",
       "  </tbody>\n",
       "</table>\n",
       "</div>"
      ],
      "text/plain": [
       "     feature   weights  abs_weights sig\n",
       "2056    GAD2  1.000000     1.000000   +\n",
       "506     GAD1  0.860184     0.860184   +\n",
       "1736    ANK1  0.806838     0.806838   +\n",
       "2542  BTBD11  0.788590     0.788590   +\n",
       "623    GRIP2  0.780941     0.780941   +"
      ]
     },
     "execution_count": 99,
     "metadata": {},
     "output_type": "execute_result"
    }
   ],
   "source": [
    "ctrl_factor7_inh=ctrl_factor7.sort_values('abs_weights',ascending=False)\n",
    "ctrl_inh=ctrl_factor7_inh.loc[(ctrl_factor7_inh['sig']=='+') & (ctrl_factor7_inh['abs_weights']>0.6)]\n",
    "ctrl_inh.head()"
   ]
  },
  {
   "cell_type": "code",
   "execution_count": 100,
   "id": "248cb23b-61d4-41c7-9f6f-1d1a03328599",
   "metadata": {},
   "outputs": [
    {
     "data": {
      "text/html": [
       "<div>\n",
       "<style scoped>\n",
       "    .dataframe tbody tr th:only-of-type {\n",
       "        vertical-align: middle;\n",
       "    }\n",
       "\n",
       "    .dataframe tbody tr th {\n",
       "        vertical-align: top;\n",
       "    }\n",
       "\n",
       "    .dataframe thead th {\n",
       "        text-align: right;\n",
       "    }\n",
       "</style>\n",
       "<table border=\"1\" class=\"dataframe\">\n",
       "  <thead>\n",
       "    <tr style=\"text-align: right;\">\n",
       "      <th></th>\n",
       "      <th>weights</th>\n",
       "      <th>abs_weights</th>\n",
       "      <th>sig</th>\n",
       "    </tr>\n",
       "    <tr>\n",
       "      <th>feature</th>\n",
       "      <th></th>\n",
       "      <th></th>\n",
       "      <th></th>\n",
       "    </tr>\n",
       "  </thead>\n",
       "  <tbody>\n",
       "    <tr>\n",
       "      <th>SYNPR</th>\n",
       "      <td>-0.704805</td>\n",
       "      <td>0.704805</td>\n",
       "      <td>-</td>\n",
       "    </tr>\n",
       "    <tr>\n",
       "      <th>FSTL5</th>\n",
       "      <td>-0.627764</td>\n",
       "      <td>0.627764</td>\n",
       "      <td>-</td>\n",
       "    </tr>\n",
       "  </tbody>\n",
       "</table>\n",
       "</div>"
      ],
      "text/plain": [
       "          weights  abs_weights sig\n",
       "feature                           \n",
       "SYNPR   -0.704805     0.704805   -\n",
       "FSTL5   -0.627764     0.627764   -"
      ]
     },
     "execution_count": 100,
     "metadata": {},
     "output_type": "execute_result"
    }
   ],
   "source": [
    "c=list(set(ad_inh['feature'])-set(ctrl_inh['feature']))\n",
    "d=ctrl_factor7_inh.loc[(ctrl_factor7_inh['sig']=='+') & (ctrl_factor7_inh['abs_weights']<0.3)]\n",
    "retB = list(set(c).intersection(set(d['feature'])))\n",
    "a1=ad_inh.set_index(ad_inh.columns[0])\n",
    "inh_ad_res=a1.loc[retB].sort_values('abs_weights',ascending=False)\n",
    "inh_ad_res.to_csv('inh_ad_res.csv')\n",
    "inh_ad_res.head()"
   ]
  },
  {
   "cell_type": "code",
   "execution_count": 101,
   "id": "278ebf94-0332-4bb1-964c-e9a674f307d4",
   "metadata": {},
   "outputs": [
    {
     "data": {
      "text/html": [
       "<div>\n",
       "<style scoped>\n",
       "    .dataframe tbody tr th:only-of-type {\n",
       "        vertical-align: middle;\n",
       "    }\n",
       "\n",
       "    .dataframe tbody tr th {\n",
       "        vertical-align: top;\n",
       "    }\n",
       "\n",
       "    .dataframe thead th {\n",
       "        text-align: right;\n",
       "    }\n",
       "</style>\n",
       "<table border=\"1\" class=\"dataframe\">\n",
       "  <thead>\n",
       "    <tr style=\"text-align: right;\">\n",
       "      <th></th>\n",
       "      <th>weights</th>\n",
       "      <th>abs_weights</th>\n",
       "      <th>sig</th>\n",
       "    </tr>\n",
       "    <tr>\n",
       "      <th>feature</th>\n",
       "      <th></th>\n",
       "      <th></th>\n",
       "      <th></th>\n",
       "    </tr>\n",
       "  </thead>\n",
       "  <tbody>\n",
       "  </tbody>\n",
       "</table>\n",
       "</div>"
      ],
      "text/plain": [
       "Empty DataFrame\n",
       "Columns: [weights, abs_weights, sig]\n",
       "Index: []"
      ]
     },
     "execution_count": 101,
     "metadata": {},
     "output_type": "execute_result"
    }
   ],
   "source": [
    "c=list(set(ctrl_inh['feature'])-set(ad_inh['feature']))\n",
    "d=ad_factor7_inh.loc[(ad_factor7_inh['sig']=='-') & (ad_factor7_inh['abs_weights']<0.3)]\n",
    "retB = list(set(c).intersection(set(d['feature'])))\n",
    "a1=ctrl_inh.set_index(ctrl_inh.columns[0])\n",
    "inh_ctrl_res=a1.loc[retB].sort_values('abs_weights',ascending=False)\n",
    "inh_ctrl_res.to_csv('inh_ctrl_res.csv')\n",
    "inh_ctrl_res.head()"
   ]
  },
  {
   "cell_type": "code",
   "execution_count": 102,
   "id": "39462f2d-ef9e-40cd-8d75-87324574360d",
   "metadata": {},
   "outputs": [
    {
     "data": {
      "text/plain": [
       "Text(0, 0.5, 'Weights')"
      ]
     },
     "execution_count": 102,
     "metadata": {},
     "output_type": "execute_result"
    },
    {
     "data": {
      "image/png": "[encoded data removed]",
      "text/plain": [
       "<Figure size 160x320 with 1 Axes>"
      ]
     },
     "metadata": {},
     "output_type": "display_data"
    }
   ],
   "source": [
    "plt.style.use('seaborn-white')\n",
    "\n",
    "ctrl_inh_p=ctrl_factor7.set_index(ctrl_factor1.columns[0])\n",
    "ad_inh_p=ad_factor7.set_index(ad_factor1.columns[0])\n",
    "\n",
    "asc_p1=inh_ctrl_res.head(5).index.values.tolist()\n",
    "asc_p_df=pd.DataFrame()\n",
    "asc_p_df['name']=asc_p1\n",
    "asc_p_df['ctrl_weight']=ctrl_inh_p.loc[asc_p1]['weights'].values\n",
    "asc_p_df['ad_weight']=ad_inh_p.loc[asc_p1]['weights'].values\n",
    "asc_p_df['type']='ctrl'\n",
    "\n",
    "asc_p2=inh_ad_res.head(5).index.values.tolist()\n",
    "test_df=pd.DataFrame()\n",
    "test_df['name']=asc_p2\n",
    "test_df['ctrl_weight']=ctrl_inh_p.loc[asc_p2]['weights'].values\n",
    "test_df['ad_weight']=ad_inh_p.loc[asc_p2]['weights'].values\n",
    "test_df['type']='ad'\n",
    "\n",
    "asc_p_df=pd.concat([asc_p_df,test_df])\n",
    "\n",
    "pp=plt.figure(figsize=(2,4))\n",
    "ax=pp.add_subplot(1,1,1)\n",
    "#ctrl\n",
    "l1=ax.scatter(np.zeros(len(asc_p_df.loc[asc_p_df['type']=='ctrl'])),asc_p_df.loc[asc_p_df['type']=='ctrl']['ctrl_weight'],c=\"#a2ebc4\",alpha=0.5,)\n",
    "ax.scatter(np.ones(len(asc_p_df.loc[asc_p_df['type']=='ctrl']))+1,asc_p_df.loc[asc_p_df['type']=='ctrl']['ad_weight'],c=\"#a2ebc4\",alpha=0.5,)\n",
    "\n",
    "#ad\n",
    "l2=ax.scatter(np.zeros(len(asc_p_df.loc[asc_p_df['type']=='ad'])),asc_p_df.loc[asc_p_df['type']=='ad']['ctrl_weight'],c=\"#f2535d\",alpha=0.5,)\n",
    "ax.scatter(np.ones(len(asc_p_df.loc[asc_p_df['type']=='ad']))+1,asc_p_df.loc[asc_p_df['type']=='ad']['ad_weight'],c=\"#f2535d\",alpha=0.5,)\n",
    "\n",
    "plt.legend(handles=[l1, l2], labels=[\"INH_Ctrl\",\"INH_AD\"],\n",
    "           bbox_to_anchor=(1, 0), loc=3,fontsize=12)\n",
    "plt.xlim(-1,3)\n",
    "ax.xaxis.set_ticklabels(['','Ctrl','AD'])\n",
    "plt.ylabel('Weights')\n",
    "#plt.savefig(\"figure1/figure1_j_inh_weight.png\",dpi=300,bbox_inches = 'tight')"
   ]
  },
  {
   "cell_type": "code",
   "execution_count": 103,
   "id": "2648fd14-0642-41ad-b599-dab1a89fd827",
   "metadata": {},
   "outputs": [
    {
     "data": {
      "image/png": "[encoded data removed]",
      "text/plain": [
       "<Figure size 320x320 with 1 Axes>"
      ]
     },
     "metadata": {},
     "output_type": "display_data"
    }
   ],
   "source": [
    "fig, ax = plt.subplots(figsize=(4,4))         # Sample figsize in inches\n",
    "venn2_circles(subsets=[set(ad_inh['feature']),set(ctrl_inh['feature'])],\n",
    "        linestyle='--', linewidth=2, color=\"black\",#外框线型、线宽、颜色\n",
    "        normalize_to=1.0,\n",
    "       )\n",
    "v=venn2(subsets=[set(ad_inh['feature']),set(ctrl_inh['feature'])],\n",
    "      set_labels=('AD','Ctrl'),\n",
    "      set_colors=(\"#f2535d\",\"#a2ebc4\"),\n",
    "       normalize_to=1.0,)\n",
    "\n",
    "v.get_label_by_id('10').set_fontsize(15)#1的大小设置为20\n",
    "v.get_label_by_id('01').set_fontsize(15)#1的大小设置为20\n",
    "v.get_label_by_id('11').set_fontsize(15)#1的大小设置为20\n",
    "for t in v.set_labels: \n",
    "    t.set_fontsize(15) "
   ]
  },
  {
   "cell_type": "code",
   "execution_count": 104,
   "id": "b937c902-7287-457d-bd3e-868b0400e50e",
   "metadata": {},
   "outputs": [
    {
     "name": "stdout",
     "output_type": "stream",
     "text": [
      "55 36\n",
      "0.07973833255142047  \n",
      "0.015443139855602844 *\n"
     ]
    },
    {
     "data": {
      "text/plain": [
       "Text(0, 0.5, '')"
      ]
     },
     "execution_count": 104,
     "metadata": {},
     "output_type": "execute_result"
    },
    {
     "data": {
      "image/png": "[encoded data removed]",
      "text/plain": [
       "<Figure size 240x320 with 1 Axes>"
      ]
     },
     "metadata": {},
     "output_type": "display_data"
    }
   ],
   "source": [
    "plt.style.use('seaborn-white')\n",
    "fig, ax = plt.subplots(figsize=(3,4))\n",
    "plot_data=get_viodata('INH',list(inh_ad_res.head(5).index.values))\n",
    "g=sns.violinplot(x=\"gene\", y=\"value\", hue='type',data=plot_data, \n",
    "        split=True,inner=\"box\",palette=[\"#f2535d\",\"#a2ebc4\"],ax=ax,\n",
    "        #saturation=1\n",
    "        )\n",
    "\n",
    "c=0\n",
    "for i in list(inh_ad_res.head(5).index.values):\n",
    "    ttest = stats.ttest_ind(plot_data.loc[plot_data['gene'].isin([i]) & plot_data['type'].isin(['ctrl'])]['value'], plot_data.loc[plot_data['gene'].isin([i]) & plot_data['type'].isin(['ad'])]['value'])\n",
    "    max_value=plot_data[plot_data['gene'].isin([i])]['value'].max()\n",
    "    if(ttest[1]<0.001):\n",
    "        xing=\"***\"   \n",
    "    elif(ttest[1]<0.01):\n",
    "        xing=\"**\"\n",
    "    elif(ttest[1]<0.05):\n",
    "        xing=\"*\"\n",
    "    else:\n",
    "        xing=' '\n",
    "    print(ttest[1],xing)\n",
    "    g.text(c,max_value*1.1, xing,ha='center', va='bottom', fontsize=15)\n",
    "    c+=1\n",
    "\n",
    "plt.yticks(fontsize=12)\n",
    "plt.xticks(fontsize=12)\n",
    "#设置图注\n",
    "plt.legend(bbox_to_anchor=(1, 0), loc=3,fontsize=15)\n",
    "\n",
    "plt.xlabel('INH_AD_Var',fontsize=12)\n",
    "plt.ylabel('')"
   ]
  },
  {
   "cell_type": "code",
   "execution_count": 105,
   "id": "d49c695a-6ceb-4db9-a700-a21cd57a5a58",
   "metadata": {},
   "outputs": [],
   "source": [
    "rnk_gene=list(set(ad_inh['feature']) | set(ctrl_inh['feature']))\n",
    "\n",
    "enr = gp.enrichr(gene_list=rnk_gene,\n",
    "        gene_sets=['KEGG_2019_Human',],\n",
    "        organism='Human', # don't forget to set organism to the one you desired! e.g. Yeast\n",
    "        description='test_name',\n",
    "        outdir='inh/enrichr_kegg',\n",
    "        # no_plot=True,\n",
    "        cutoff=0.5 # test dataset, use lower value from range(0,1)\n",
    "      )"
   ]
  },
  {
   "cell_type": "code",
   "execution_count": 106,
   "id": "2335a3e0-8238-4e09-adca-9b98b7634d70",
   "metadata": {},
   "outputs": [],
   "source": [
    "enr_res=enr.results.loc[enr.results['P-value']<0.05]\n",
    "rnk_gene_ad=list(set(ad_inh['feature'])-set(ctrl_inh['feature']))\n",
    "rnk_gene_ctrl=list(set(ctrl_inh['feature'])-set(ad_inh['feature']))\n",
    "rnk_gene_jiao=list(set(ad_inh['feature']) | set(ctrl_inh['feature']))\n"
   ]
  },
  {
   "cell_type": "code",
   "execution_count": 107,
   "id": "86a46fae-a942-4ee9-aa49-f68d395f3f64",
   "metadata": {},
   "outputs": [
    {
     "data": {
      "text/html": [
       "<div>\n",
       "<style scoped>\n",
       "    .dataframe tbody tr th:only-of-type {\n",
       "        vertical-align: middle;\n",
       "    }\n",
       "\n",
       "    .dataframe tbody tr th {\n",
       "        vertical-align: top;\n",
       "    }\n",
       "\n",
       "    .dataframe thead th {\n",
       "        text-align: right;\n",
       "    }\n",
       "</style>\n",
       "<table border=\"1\" class=\"dataframe\">\n",
       "  <thead>\n",
       "    <tr style=\"text-align: right;\">\n",
       "      <th></th>\n",
       "      <th>AD</th>\n",
       "      <th>Union</th>\n",
       "      <th>Ctrl</th>\n",
       "    </tr>\n",
       "    <tr>\n",
       "      <th>Term</th>\n",
       "      <th></th>\n",
       "      <th></th>\n",
       "      <th></th>\n",
       "    </tr>\n",
       "  </thead>\n",
       "  <tbody>\n",
       "    <tr>\n",
       "      <th>Taurine and hypotaurine metabolism</th>\n",
       "      <td>0</td>\n",
       "      <td>2</td>\n",
       "      <td>0</td>\n",
       "    </tr>\n",
       "    <tr>\n",
       "      <th>Butanoate metabolism</th>\n",
       "      <td>0</td>\n",
       "      <td>2</td>\n",
       "      <td>0</td>\n",
       "    </tr>\n",
       "    <tr>\n",
       "      <th>beta-Alanine metabolism</th>\n",
       "      <td>0</td>\n",
       "      <td>2</td>\n",
       "      <td>0</td>\n",
       "    </tr>\n",
       "    <tr>\n",
       "      <th>Alanine, aspartate and glutamate metabolism</th>\n",
       "      <td>0</td>\n",
       "      <td>2</td>\n",
       "      <td>0</td>\n",
       "    </tr>\n",
       "    <tr>\n",
       "      <th>Type I diabetes mellitus</th>\n",
       "      <td>0</td>\n",
       "      <td>2</td>\n",
       "      <td>0</td>\n",
       "    </tr>\n",
       "    <tr>\n",
       "      <th>GABAergic synapse</th>\n",
       "      <td>0</td>\n",
       "      <td>2</td>\n",
       "      <td>0</td>\n",
       "    </tr>\n",
       "    <tr>\n",
       "      <th>Transcriptional misregulation in cancer</th>\n",
       "      <td>1</td>\n",
       "      <td>2</td>\n",
       "      <td>0</td>\n",
       "    </tr>\n",
       "    <tr>\n",
       "      <th>Proteoglycans in cancer</th>\n",
       "      <td>1</td>\n",
       "      <td>2</td>\n",
       "      <td>0</td>\n",
       "    </tr>\n",
       "    <tr>\n",
       "      <th>Ras signaling pathway</th>\n",
       "      <td>1</td>\n",
       "      <td>2</td>\n",
       "      <td>0</td>\n",
       "    </tr>\n",
       "    <tr>\n",
       "      <th>Aldosterone-regulated sodium reabsorption</th>\n",
       "      <td>1</td>\n",
       "      <td>1</td>\n",
       "      <td>0</td>\n",
       "    </tr>\n",
       "    <tr>\n",
       "      <th>Nicotine addiction</th>\n",
       "      <td>1</td>\n",
       "      <td>1</td>\n",
       "      <td>0</td>\n",
       "    </tr>\n",
       "    <tr>\n",
       "      <th>MAPK signaling pathway</th>\n",
       "      <td>1</td>\n",
       "      <td>2</td>\n",
       "      <td>0</td>\n",
       "    </tr>\n",
       "  </tbody>\n",
       "</table>\n",
       "</div>"
      ],
      "text/plain": [
       "                                             AD  Union  Ctrl\n",
       "Term                                                        \n",
       "Taurine and hypotaurine metabolism            0      2     0\n",
       "Butanoate metabolism                          0      2     0\n",
       "beta-Alanine metabolism                       0      2     0\n",
       "Alanine, aspartate and glutamate metabolism   0      2     0\n",
       "Type I diabetes mellitus                      0      2     0\n",
       "GABAergic synapse                             0      2     0\n",
       "Transcriptional misregulation in cancer       1      2     0\n",
       "Proteoglycans in cancer                       1      2     0\n",
       "Ras signaling pathway                         1      2     0\n",
       "Aldosterone-regulated sodium reabsorption     1      1     0\n",
       "Nicotine addiction                            1      1     0\n",
       "MAPK signaling pathway                        1      2     0"
      ]
     },
     "execution_count": 107,
     "metadata": {},
     "output_type": "execute_result"
    }
   ],
   "source": [
    "enr_res_p=pd.DataFrame(columns=['Term','AD','Union','Ctrl'])\n",
    "for i in range(len(enr_res)):\n",
    "\n",
    "  a4=enr_res.iloc[i]['Genes'].split(';')\n",
    "  rnk_gene_ad_len=len(list(set(rnk_gene_ad) & set(a4)))\n",
    "  rnk_gene_ctrl_len=len(list(set(rnk_gene_ctrl) & set(a4)))\n",
    "  rnk_gene_jiao_len=len(list(set(rnk_gene_jiao) & set(a4)))\n",
    "  rnk_dict={'Term':enr_res.iloc[i]['Term'],\n",
    "        'AD':rnk_gene_ad_len,\n",
    "        'Union':rnk_gene_jiao_len,\n",
    "        'Ctrl':rnk_gene_ctrl_len}\n",
    "  enr_res_p=enr_res_p.append(rnk_dict,ignore_index=True)\n",
    "enr_res_p.set_index(enr_res_p.columns[0],inplace=True)\n",
    "enr_res_p=enr_res_p.astype(int)\n",
    "enr_res_p"
   ]
  },
  {
   "cell_type": "code",
   "execution_count": 108,
   "id": "7008599c-3354-40fe-a4f0-43627f003cc3",
   "metadata": {},
   "outputs": [
    {
     "data": {
      "text/plain": [
       "<AxesSubplot:ylabel='Term'>"
      ]
     },
     "execution_count": 108,
     "metadata": {},
     "output_type": "execute_result"
    },
    {
     "data": {
      "image/png": "[encoded data removed]",
      "text/plain": [
       "<Figure size 240x320 with 2 Axes>"
      ]
     },
     "metadata": {},
     "output_type": "display_data"
    }
   ],
   "source": [
    "fig, ax = plt.subplots(figsize=(3,4))\n",
    "sns.heatmap(enr_res_p.apply(normalization,axis=1),\n",
    "      cmap=palettable.cartocolors.diverging.Geyser_3.mpl_colors, \n",
    "      ax=ax)"
   ]
  },
  {
   "cell_type": "code",
   "execution_count": null,
   "id": "69c29bda-0f6f-4ad8-b753-751b49b5a674",
   "metadata": {},
   "outputs": [],
   "source": []
  }
 ],
 "metadata": {
  "kernelspec": {
   "display_name": "Python 3",
   "language": "python",
   "name": "python3"
  },
  "language_info": {
   "codemirror_mode": {
    "name": "ipython",
    "version": 3
   },
   "file_extension": ".py",
   "mimetype": "text/x-python",
   "name": "python",
   "nbconvert_exporter": "python",
   "pygments_lexer": "ipython3",
   "version": "3.6.13"
  }
 },
 "nbformat": 4,
 "nbformat_minor": 5
}
