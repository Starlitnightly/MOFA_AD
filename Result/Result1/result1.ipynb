{
 "cells": [
  {
   "cell_type": "markdown",
   "id": "b7dcc6fe-913d-4b90-ab5e-09c9741d4ed0",
   "metadata": {
    "tags": []
   },
   "source": [
    "# Result1 and sFig"
   ]
  },
  {
   "cell_type": "code",
   "execution_count": 1,
   "id": "282baa94-ee9f-436a-b2fd-a2d61b122e3d",
   "metadata": {},
   "outputs": [],
   "source": [
    "from mofapy2.run.entry_point import entry_point\n",
    "import anndata\n",
    "import networkx as nx\n",
    "import scanpy as sc\n",
    "import scglue\n",
    "from matplotlib import rcParams\n",
    "import pandas as pd\n",
    "import numpy as np"
   ]
  },
  {
   "cell_type": "code",
   "execution_count": 2,
   "id": "83d4d6bc-2f02-46cc-bf18-b2de22146c6d",
   "metadata": {},
   "outputs": [],
   "source": [
    "import palettable\n",
    "import seaborn as sns\n",
    "import matplotlib\n",
    "import matplotlib.font_manager as fm\n",
    "\n",
    "fm.fontManager.ttflist += fm.createFontList(['/mnt/c/Users/FernandoZeng/Desktop/arial.ttf'])\n",
    "matplotlib.rc('font', family='Arial')"
   ]
  },
  {
   "cell_type": "code",
   "execution_count": 16,
   "id": "90904ca8-91de-4afe-ac5c-2723c7f4a2a8",
   "metadata": {},
   "outputs": [],
   "source": [
    "def normalization(data):\n",
    "    _range = np.max(abs(data))\n",
    "    return data / _range"
   ]
  },
  {
   "cell_type": "code",
   "execution_count": 6,
   "id": "7c6dd464-2ca6-4a3a-9101-dcdda63ef9c9",
   "metadata": {},
   "outputs": [],
   "source": [
    "rna=anndata.read_h5ad(\"/mnt/d/FernandoZeng/MOFA_AD/data/model/rna_pair_mofa.h5ad\")\n",
    "atac=anndata.read_h5ad(\"/mnt/d/FernandoZeng/MOFA_AD/data/model/atac_pair_mofa.h5ad\")"
   ]
  },
  {
   "cell_type": "code",
   "execution_count": 7,
   "id": "b4e82d3d-608f-4d6d-b523-537ca9f70165",
   "metadata": {},
   "outputs": [
    {
     "data": {
      "text/plain": [
       "4131"
      ]
     },
     "execution_count": 7,
     "metadata": {},
     "output_type": "execute_result"
    }
   ],
   "source": [
    "ret3= list(set(rna.obs.index).intersection(atac.obs.index))\n",
    "len(ret3)"
   ]
  },
  {
   "cell_type": "code",
   "execution_count": 8,
   "id": "a441d4c7-cef3-4531-9527-6f23ab769e4e",
   "metadata": {},
   "outputs": [
    {
     "name": "stdout",
     "output_type": "stream",
     "text": [
      "ODC 0.576036866359447\n",
      "ASC 0.14692328544320954\n",
      "INH 0.056925996204933584\n",
      "OPC 0.037137435619409055\n",
      "MG 0.04310111141230686\n",
      "EX 0.13635131471943615\n",
      "PER.END 0.0035239902412577935\n"
     ]
    }
   ],
   "source": [
    "rna_sex=rna[ret3][(rna[ret3].obs['Sample.ID']!='Sample-22') & (rna[ret3].obs['Sample.ID']!='Sample-27')]\n",
    "for i in list(set(rna_sex.obs['cell_type'])):\n",
    "  print(i,len(rna_sex.obs.loc[rna_sex.obs['cell_type']==i])/len(rna_sex.obs))"
   ]
  },
  {
   "cell_type": "code",
   "execution_count": 9,
   "id": "8dafa2de-c3e6-4e91-bdde-3296bec0fb5f",
   "metadata": {},
   "outputs": [
    {
     "name": "stdout",
     "output_type": "stream",
     "text": [
      "ODC 0.5830105861089595\n",
      "ASC 0.15130389878647044\n",
      "INH 0.052155951458817455\n",
      "OPC 0.03640588690937258\n",
      "MG 0.055512522592305706\n",
      "EX 0.117996385231087\n",
      "PER.END 0.0036147689129873485\n"
     ]
    }
   ],
   "source": [
    "atac_sex=atac[ret3][(atac[ret3].obs['Sample.ID']!='Sample-22') & (atac[ret3].obs['Sample.ID']!='Sample-27')]\n",
    "for i in list(set(atac_sex.obs['cell_type'])):\n",
    "  print(i,len(atac_sex.obs.loc[atac_sex.obs['cell_type']==i])/len(atac_sex.obs))"
   ]
  },
  {
   "cell_type": "code",
   "execution_count": 10,
   "id": "96142e44-f981-4f8d-993a-ff4c19a11bb3",
   "metadata": {},
   "outputs": [
    {
     "data": {
      "text/plain": [
       "3445"
      ]
     },
     "execution_count": 10,
     "metadata": {},
     "output_type": "execute_result"
    }
   ],
   "source": [
    "ret_sex= list(set(rna_sex.obs.index).intersection(atac_sex.obs.index))\n",
    "len(ret_sex)"
   ]
  },
  {
   "cell_type": "code",
   "execution_count": 11,
   "id": "396726b3-190c-44c2-b0cd-4b1fe4db1a23",
   "metadata": {},
   "outputs": [
    {
     "data": {
      "text/html": [
       "<div>\n",
       "<style scoped>\n",
       "    .dataframe tbody tr th:only-of-type {\n",
       "        vertical-align: middle;\n",
       "    }\n",
       "\n",
       "    .dataframe tbody tr th {\n",
       "        vertical-align: top;\n",
       "    }\n",
       "\n",
       "    .dataframe thead th {\n",
       "        text-align: right;\n",
       "    }\n",
       "</style>\n",
       "<table border=\"1\" class=\"dataframe\">\n",
       "  <thead>\n",
       "    <tr style=\"text-align: right;\">\n",
       "      <th></th>\n",
       "      <th>ODC</th>\n",
       "      <th>ASC</th>\n",
       "      <th>INH</th>\n",
       "      <th>OPC</th>\n",
       "      <th>MG</th>\n",
       "      <th>EX</th>\n",
       "      <th>PER.END</th>\n",
       "    </tr>\n",
       "  </thead>\n",
       "  <tbody>\n",
       "    <tr>\n",
       "      <th>ODC</th>\n",
       "      <td>0.994908</td>\n",
       "      <td>0</td>\n",
       "      <td>0.00152749</td>\n",
       "      <td>0.00152749</td>\n",
       "      <td>0</td>\n",
       "      <td>0.00203666</td>\n",
       "      <td>0</td>\n",
       "    </tr>\n",
       "    <tr>\n",
       "      <th>ASC</th>\n",
       "      <td>0.0135922</td>\n",
       "      <td>0.953398</td>\n",
       "      <td>0.0038835</td>\n",
       "      <td>0</td>\n",
       "      <td>0</td>\n",
       "      <td>0.0291262</td>\n",
       "      <td>0</td>\n",
       "    </tr>\n",
       "    <tr>\n",
       "      <th>INH</th>\n",
       "      <td>0</td>\n",
       "      <td>0</td>\n",
       "      <td>0.994898</td>\n",
       "      <td>0</td>\n",
       "      <td>0</td>\n",
       "      <td>0.00510204</td>\n",
       "      <td>0</td>\n",
       "    </tr>\n",
       "    <tr>\n",
       "      <th>OPC</th>\n",
       "      <td>0</td>\n",
       "      <td>0</td>\n",
       "      <td>0</td>\n",
       "      <td>0.99187</td>\n",
       "      <td>0</td>\n",
       "      <td>0.00813008</td>\n",
       "      <td>0</td>\n",
       "    </tr>\n",
       "    <tr>\n",
       "      <th>MG</th>\n",
       "      <td>0.113514</td>\n",
       "      <td>0.027027</td>\n",
       "      <td>0.00540541</td>\n",
       "      <td>0.0108108</td>\n",
       "      <td>0.778378</td>\n",
       "      <td>0.0648649</td>\n",
       "      <td>0</td>\n",
       "    </tr>\n",
       "    <tr>\n",
       "      <th>EX</th>\n",
       "      <td>0</td>\n",
       "      <td>0</td>\n",
       "      <td>0.00666667</td>\n",
       "      <td>0</td>\n",
       "      <td>0</td>\n",
       "      <td>0.991111</td>\n",
       "      <td>0.00222222</td>\n",
       "    </tr>\n",
       "    <tr>\n",
       "      <th>PER.END</th>\n",
       "      <td>0.0833333</td>\n",
       "      <td>0</td>\n",
       "      <td>0</td>\n",
       "      <td>0</td>\n",
       "      <td>0</td>\n",
       "      <td>0</td>\n",
       "      <td>0.916667</td>\n",
       "    </tr>\n",
       "  </tbody>\n",
       "</table>\n",
       "</div>"
      ],
      "text/plain": [
       "               ODC       ASC         INH         OPC        MG          EX  \\\n",
       "ODC       0.994908         0  0.00152749  0.00152749         0  0.00203666   \n",
       "ASC      0.0135922  0.953398   0.0038835           0         0   0.0291262   \n",
       "INH              0         0    0.994898           0         0  0.00510204   \n",
       "OPC              0         0           0     0.99187         0  0.00813008   \n",
       "MG        0.113514  0.027027  0.00540541   0.0108108  0.778378   0.0648649   \n",
       "EX               0         0  0.00666667           0         0    0.991111   \n",
       "PER.END  0.0833333         0           0           0         0           0   \n",
       "\n",
       "            PER.END  \n",
       "ODC               0  \n",
       "ASC               0  \n",
       "INH               0  \n",
       "OPC               0  \n",
       "MG                0  \n",
       "EX       0.00222222  \n",
       "PER.END    0.916667  "
      ]
     },
     "execution_count": 11,
     "metadata": {},
     "output_type": "execute_result"
    }
   ],
   "source": [
    "import matplotlib.pyplot as plt\n",
    "cell_type=list(set(atac_sex[ret_sex].obs['cell_type']))\n",
    "test_df=pd.DataFrame(columns=cell_type,index=cell_type)\n",
    "for i in cell_type:\n",
    "  for j in cell_type:\n",
    "    test_index=atac_sex[ret_sex].obs[atac_sex[ret_sex].obs['cell_type']==i].index\n",
    "    test_df.loc[i,j]=len(rna_sex[test_index].obs[rna_sex[test_index].obs['cell_type']==j])/len(test_index)\n",
    "test_df"
   ]
  },
  {
   "cell_type": "code",
   "execution_count": 12,
   "id": "141408e2-d0ef-4e15-a9f4-0454ee10a080",
   "metadata": {},
   "outputs": [
    {
     "data": {
      "image/png": "[encoded data removed]",
      "text/plain": [
       "<Figure size 288x288 with 2 Axes>"
      ]
     },
     "metadata": {
      "needs_background": "light"
     },
     "output_type": "display_data"
    }
   ],
   "source": [
    "import seaborn as sns\n",
    "import matplotlib.pyplot as plt\n",
    "fig, ax = plt.subplots(figsize=(4,4))         # Sample figsize in inches\n",
    "new_blues=sns.color_palette(\"Reds\", 1000)[0:700]\n",
    "g=sns.heatmap(test_df.astype(float),square=True,cmap=new_blues,\n",
    "       linewidths=.5,annot_kws={\"size\": 15},ax=ax)\n",
    "g.set_xticklabels(g.get_xmajorticklabels(), fontsize = 15,rotation=45, horizontalalignment='right',)\n",
    "g.set_yticklabels(g.get_ymajorticklabels(), fontsize = 15,rotation=360)\n",
    "cbar = g.collections[0].colorbar\n",
    "# here set the labelsize by 20\n",
    "cbar.ax.tick_params(labelsize=15)"
   ]
  },
  {
   "cell_type": "markdown",
   "id": "8bae5213-a518-400a-a75f-45c881fdecdd",
   "metadata": {},
   "source": [
    "## sFig.1AB"
   ]
  },
  {
   "cell_type": "code",
   "execution_count": 5,
   "id": "4f5b05f2-02aa-4e88-adaf-252ea9bc4af5",
   "metadata": {},
   "outputs": [],
   "source": [
    "rna=anndata.read_h5ad(\"/mnt/d/FernandoZeng/MOFA_AD/data/model/rna_mofa_ret.h5ad\")\n",
    "atac=anndata.read_h5ad(\"/mnt/d/FernandoZeng/MOFA_AD/data/model/atac_mofa_ret.h5ad\")"
   ]
  },
  {
   "cell_type": "code",
   "execution_count": 6,
   "id": "59b216cd-40fb-4cb7-a9c6-d68ee2df5cc7",
   "metadata": {},
   "outputs": [
    {
     "data": {
      "text/plain": [
       "6008"
      ]
     },
     "execution_count": 6,
     "metadata": {},
     "output_type": "execute_result"
    }
   ],
   "source": [
    "ret3= list(set(rna.obs.index).intersection(atac.obs.index))\n",
    "len(ret3)"
   ]
  },
  {
   "cell_type": "code",
   "execution_count": 7,
   "id": "32f85684-1e89-4812-a9fe-3cc938434d09",
   "metadata": {},
   "outputs": [
    {
     "name": "stdout",
     "output_type": "stream",
     "text": [
      "INH 0.05858854860186418\n",
      "ODC 0.7200399467376831\n",
      "PER.END 0.0039946737683089215\n",
      "ASC 0.06474700399467377\n",
      "MG 0.046937416777629824\n",
      "EX 0.07789613848202397\n",
      "OPC 0.027796271637816245\n"
     ]
    }
   ],
   "source": [
    "rna_sex=rna[ret3][(rna[ret3].obs['Sample.ID']!='Sample-22') & (rna[ret3].obs['Sample.ID']!='Sample-27')]\n",
    "for i in list(set(rna_sex.obs['cell_type'])):\n",
    "  print(i,len(rna_sex.obs.loc[rna_sex.obs['cell_type']==i])/len(rna_sex.obs))"
   ]
  },
  {
   "cell_type": "code",
   "execution_count": 8,
   "id": "4b66e64f-39a5-40c3-b94a-bb2017867f3b",
   "metadata": {},
   "outputs": [
    {
     "name": "stdout",
     "output_type": "stream",
     "text": [
      "INH 0.05858854860186418\n",
      "ODC 0.7187083888149135\n",
      "PER.END 0.003828229027962716\n",
      "ASC 0.06541278295605858\n",
      "MG 0.051098535286284955\n",
      "EX 0.07440079893475367\n",
      "OPC 0.02796271637816245\n"
     ]
    }
   ],
   "source": [
    "atac_sex=atac[ret3][(atac[ret3].obs['Sample.ID']!='Sample-22') & (atac[ret3].obs['Sample.ID']!='Sample-27')]\n",
    "for i in list(set(atac_sex.obs['cell_type'])):\n",
    "  print(i,len(atac_sex.obs.loc[atac_sex.obs['cell_type']==i])/len(atac_sex.obs))"
   ]
  },
  {
   "cell_type": "code",
   "execution_count": 9,
   "id": "9cdd07b3-959f-4518-a4df-f31cf0a6687a",
   "metadata": {},
   "outputs": [
    {
     "data": {
      "text/plain": [
       "6008"
      ]
     },
     "execution_count": 9,
     "metadata": {},
     "output_type": "execute_result"
    }
   ],
   "source": [
    "ret_sex= list(set(rna_sex.obs.index).intersection(atac_sex.obs.index))\n",
    "len(ret_sex)"
   ]
  },
  {
   "cell_type": "code",
   "execution_count": 13,
   "id": "58ed6d99-76a4-45c4-83ad-1ada1de1487b",
   "metadata": {},
   "outputs": [
    {
     "data": {
      "text/html": [
       "<div>\n",
       "<style scoped>\n",
       "    .dataframe tbody tr th:only-of-type {\n",
       "        vertical-align: middle;\n",
       "    }\n",
       "\n",
       "    .dataframe tbody tr th {\n",
       "        vertical-align: top;\n",
       "    }\n",
       "\n",
       "    .dataframe thead th {\n",
       "        text-align: right;\n",
       "    }\n",
       "</style>\n",
       "<table border=\"1\" class=\"dataframe\">\n",
       "  <thead>\n",
       "    <tr style=\"text-align: right;\">\n",
       "      <th></th>\n",
       "      <th>Age</th>\n",
       "      <th>Sex</th>\n",
       "      <th>Tangle.Stage</th>\n",
       "      <th>Plaque.Stage</th>\n",
       "      <th>Diagnosis</th>\n",
       "    </tr>\n",
       "  </thead>\n",
       "  <tbody>\n",
       "    <tr>\n",
       "      <th>asc</th>\n",
       "      <td>8.319429</td>\n",
       "      <td>6.549961</td>\n",
       "      <td>10.821150</td>\n",
       "      <td>7.407632</td>\n",
       "      <td>10.680239</td>\n",
       "    </tr>\n",
       "    <tr>\n",
       "      <th>mg</th>\n",
       "      <td>2.277647</td>\n",
       "      <td>2.562553</td>\n",
       "      <td>2.243612</td>\n",
       "      <td>2.247864</td>\n",
       "      <td>1.829161</td>\n",
       "    </tr>\n",
       "    <tr>\n",
       "      <th>inh</th>\n",
       "      <td>2.221816</td>\n",
       "      <td>1.928624</td>\n",
       "      <td>1.747129</td>\n",
       "      <td>2.728245</td>\n",
       "      <td>3.639513</td>\n",
       "    </tr>\n",
       "    <tr>\n",
       "      <th>odc</th>\n",
       "      <td>57.540347</td>\n",
       "      <td>109.698197</td>\n",
       "      <td>78.250935</td>\n",
       "      <td>45.616228</td>\n",
       "      <td>95.824322</td>\n",
       "    </tr>\n",
       "  </tbody>\n",
       "</table>\n",
       "</div>"
      ],
      "text/plain": [
       "           Age         Sex  Tangle.Stage  Plaque.Stage  Diagnosis\n",
       "asc   8.319429    6.549961     10.821150      7.407632  10.680239\n",
       "mg    2.277647    2.562553      2.243612      2.247864   1.829161\n",
       "inh   2.221816    1.928624      1.747129      2.728245   3.639513\n",
       "odc  57.540347  109.698197     78.250935     45.616228  95.824322"
      ]
     },
     "execution_count": 13,
     "metadata": {},
     "output_type": "execute_result"
    }
   ],
   "source": [
    "asc_cor=pd.read_csv('/mnt/d/FernandoZeng/MOFA_AD/data/ASC/correlate_factors.csv')\n",
    "cell=['asc','mg','inh','odc']\n",
    "cor_df=pd.DataFrame(columns=asc_cor.columns)\n",
    "for i in cell:\n",
    "  test_cor=pd.read_csv('/mnt/d/FernandoZeng/MOFA_AD/data/{0}/correlate_factors.csv'.format(i))\n",
    "  test_dict={'Age':test_cor['Age'].max(),\n",
    "        'Sex':test_cor['Sex'].max(),\n",
    "        'Tangle.Stage':test_cor['Tangle.Stage'].max(),\n",
    "        'Plaque.Stage':test_cor['Plaque.Stage'].max(),\n",
    "        'Diagnosis':test_cor['Diagnosis'].max()}\n",
    "  cor_df=cor_df.append(test_dict,ignore_index=True)\n",
    "\n",
    "cor_df.index=cell\n",
    "cor_df"
   ]
  },
  {
   "cell_type": "code",
   "execution_count": 17,
   "id": "1cba93aa-69b8-4edd-81ae-fb3c1791b887",
   "metadata": {},
   "outputs": [
    {
     "data": {
      "text/plain": [
       "Text(16.0, 0.5, 'Cell_type')"
      ]
     },
     "execution_count": 17,
     "metadata": {},
     "output_type": "execute_result"
    },
    {
     "data": {
      "image/png": "[encoded data removed]",
      "text/plain": [
       "<Figure size 288x288 with 2 Axes>"
      ]
     },
     "metadata": {
      "needs_background": "light"
     },
     "output_type": "display_data"
    }
   ],
   "source": [
    "import matplotlib.pyplot as plt\n",
    "fig, ax = plt.subplots(figsize=(4,4))         # Sample figsize in inches\n",
    "new_blues=sns.color_palette(\"Greys\", 1000)[0:700]\n",
    "g=sns.heatmap(cor_df.astype(float).apply(normalization,axis=1),square=True,cmap=new_blues,\n",
    "      linewidths=.5,annot_kws={\"size\": 15},ax=ax)\n",
    "g.set_xticklabels(g.get_xmajorticklabels(), fontsize = 15,rotation=45, horizontalalignment='right',)\n",
    "g.set_yticklabels(g.get_ymajorticklabels(), fontsize = 15,rotation=360)\n",
    "cbar = g.collections[0].colorbar\n",
    "# here set the labelsize by 20\n",
    "cbar.ax.tick_params(labelsize=15)\n",
    "plt.xlabel('Character')\n",
    "plt.ylabel('Cell_type')"
   ]
  },
  {
   "cell_type": "code",
   "execution_count": 18,
   "id": "63d64668-3556-416e-adb3-bfeec060a349",
   "metadata": {},
   "outputs": [],
   "source": [
    "def plot_cor(ret_sex,type_cell,cmap):\n",
    "  cell_type=list(set(atac_sex[ret_sex].obs[type_cell]))\n",
    "  test_df=pd.DataFrame(columns=cell_type,index=cell_type)\n",
    "  for i in cell_type:\n",
    "    for j in cell_type:\n",
    "      test_index=atac_sex[ret_sex].obs[atac_sex[ret_sex].obs[type_cell]==i].index\n",
    "      test_df.loc[i,j]=len(rna_sex[test_index].obs[rna_sex[test_index].obs[type_cell]==j])/len(test_index)\n",
    "  fig, ax = plt.subplots(figsize=(2,2))         # Sample figsize in inches\n",
    "\n",
    "  new_blues=sns.color_palette(cmap, 1000)[0:700]\n",
    "  g=sns.heatmap(test_df.astype(float),square=True,cmap=new_blues,\n",
    "        linewidths=.5,annot_kws={\"size\": 15},ax=ax)\n",
    "  g.set_xticklabels(g.get_xmajorticklabels(), fontsize = 15,rotation=45, horizontalalignment='right',)\n",
    "  g.set_yticklabels(g.get_ymajorticklabels(), fontsize = 15,rotation=360)\n",
    "  cbar = g.collections[0].colorbar\n",
    "  # here set the labelsize by 20\n",
    "  cbar.ax.tick_params(labelsize=15)\n",
    "  plt.xlabel('scATAC-seq')\n",
    "  plt.ylabel('scRNA-seq')\n",
    "  "
   ]
  },
  {
   "cell_type": "markdown",
   "id": "31107149-5901-4c17-a764-e302cbb0a509",
   "metadata": {},
   "source": [
    "### sFig.odc"
   ]
  },
  {
   "cell_type": "code",
   "execution_count": 20,
   "id": "15f9bddf-ff00-48fc-ae7e-22174866d22a",
   "metadata": {},
   "outputs": [
    {
     "data": {
      "text/plain": [
       "Text(0.5, 1.0, 'ODC')"
      ]
     },
     "execution_count": 20,
     "metadata": {},
     "output_type": "execute_result"
    },
    {
     "data": {
      "image/png": "[encoded data removed]",
      "text/plain": [
       "<Figure size 144x144 with 2 Axes>"
      ]
     },
     "metadata": {
      "needs_background": "light"
     },
     "output_type": "display_data"
    }
   ],
   "source": [
    "test=pd.read_csv('/mnt/d/FernandoZeng/MOFA_AD/data/odc/mofa_sex_odc_meta2.csv')\n",
    "plot_cor(test.index.values,'Diagnosis','Purples')\n",
    "plt.title('ODC')\n",
    "#plt.savefig(\"sfig/fig2_b.png\",dpi=300,bbox_inches = 'tight')"
   ]
  },
  {
   "cell_type": "code",
   "execution_count": 21,
   "id": "a83655fb-1b06-4973-bb3f-3432eb62dcb0",
   "metadata": {},
   "outputs": [
    {
     "data": {
      "text/plain": [
       "Text(0.5, 1.0, 'ODC')"
      ]
     },
     "execution_count": 21,
     "metadata": {},
     "output_type": "execute_result"
    },
    {
     "data": {
      "image/png": "[encoded data removed]",
      "text/plain": [
       "<Figure size 144x144 with 2 Axes>"
      ]
     },
     "metadata": {
      "needs_background": "light"
     },
     "output_type": "display_data"
    }
   ],
   "source": [
    "plot_cor(test.index.values,'Sex','Purples')\n",
    "plt.title('ODC')"
   ]
  },
  {
   "cell_type": "markdown",
   "id": "cbe66d3c-bda3-4866-93fe-fad9dd239c5b",
   "metadata": {},
   "source": [
    "### sFig.asc"
   ]
  },
  {
   "cell_type": "code",
   "execution_count": 22,
   "id": "ee34bdc0-5633-4974-a2b7-9ce01576afa3",
   "metadata": {},
   "outputs": [
    {
     "data": {
      "text/plain": [
       "Text(0.5, 1.0, 'ASC')"
      ]
     },
     "execution_count": 22,
     "metadata": {},
     "output_type": "execute_result"
    },
    {
     "data": {
      "image/png": "[encoded data removed]",
      "text/plain": [
       "<Figure size 144x144 with 2 Axes>"
      ]
     },
     "metadata": {
      "needs_background": "light"
     },
     "output_type": "display_data"
    }
   ],
   "source": [
    "test=pd.read_csv('/mnt/d/FernandoZeng/MOFA_AD/data/asc/mofa_sex_asc_meta2.csv')\n",
    "plot_cor(test.index.values,'Diagnosis','Reds')\n",
    "plt.title('ASC')"
   ]
  },
  {
   "cell_type": "code",
   "execution_count": 23,
   "id": "295f67db-4866-43e8-838b-73b72b60fd07",
   "metadata": {},
   "outputs": [
    {
     "data": {
      "text/plain": [
       "Text(0.5, 1.0, 'ASC')"
      ]
     },
     "execution_count": 23,
     "metadata": {},
     "output_type": "execute_result"
    },
    {
     "data": {
      "image/png": "[encoded data removed]",
      "text/plain": [
       "<Figure size 144x144 with 2 Axes>"
      ]
     },
     "metadata": {
      "needs_background": "light"
     },
     "output_type": "display_data"
    }
   ],
   "source": [
    "plot_cor(test.index.values,'Sex','Reds')\n",
    "plt.title('ASC')"
   ]
  },
  {
   "cell_type": "markdown",
   "id": "6c086d73-2673-4e3a-b55a-8a61e23493f4",
   "metadata": {},
   "source": [
    "### sFig.mg"
   ]
  },
  {
   "cell_type": "code",
   "execution_count": 24,
   "id": "bb2cc599-5b72-4c07-831f-22a3c517a02d",
   "metadata": {},
   "outputs": [
    {
     "data": {
      "text/plain": [
       "Text(0.5, 1.0, 'MG')"
      ]
     },
     "execution_count": 24,
     "metadata": {},
     "output_type": "execute_result"
    },
    {
     "data": {
      "image/png": "[encoded data removed]",
      "text/plain": [
       "<Figure size 144x144 with 2 Axes>"
      ]
     },
     "metadata": {
      "needs_background": "light"
     },
     "output_type": "display_data"
    }
   ],
   "source": [
    "test=pd.read_csv('/mnt/d/FernandoZeng/MOFA_AD/data/mg/mofa_sex_mg_meta_1223.csv')\n",
    "plot_cor(test.index.values,'Diagnosis','Blues')\n",
    "plt.title('MG')"
   ]
  },
  {
   "cell_type": "code",
   "execution_count": 25,
   "id": "bbf5287f-c89d-4816-86dc-56a8aacc9ea8",
   "metadata": {},
   "outputs": [
    {
     "data": {
      "text/plain": [
       "Text(0.5, 1.0, 'MG')"
      ]
     },
     "execution_count": 25,
     "metadata": {},
     "output_type": "execute_result"
    },
    {
     "data": {
      "image/png": "[encoded data removed]",
      "text/plain": [
       "<Figure size 144x144 with 2 Axes>"
      ]
     },
     "metadata": {
      "needs_background": "light"
     },
     "output_type": "display_data"
    }
   ],
   "source": [
    "plot_cor(test.index.values,'Sex','Blues')\n",
    "plt.title('MG')"
   ]
  },
  {
   "cell_type": "markdown",
   "id": "86eaa248-dd2b-4061-8b3b-b0b0226924f3",
   "metadata": {},
   "source": [
    "### sFig.inh"
   ]
  },
  {
   "cell_type": "code",
   "execution_count": 26,
   "id": "a3930845-9a96-4adc-877b-a18ff228df0a",
   "metadata": {},
   "outputs": [
    {
     "data": {
      "text/plain": [
       "Text(0.5, 1.0, 'INH')"
      ]
     },
     "execution_count": 26,
     "metadata": {},
     "output_type": "execute_result"
    },
    {
     "data": {
      "image/png": "[encoded data removed]",
      "text/plain": [
       "<Figure size 144x144 with 2 Axes>"
      ]
     },
     "metadata": {
      "needs_background": "light"
     },
     "output_type": "display_data"
    }
   ],
   "source": [
    "test=pd.read_csv('/mnt/d/FernandoZeng/MOFA_AD/data/inh/mofa_sex_inh_meta2.csv')\n",
    "plot_cor(test.index.values,'Diagnosis','Oranges')\n",
    "plt.title('INH')"
   ]
  },
  {
   "cell_type": "code",
   "execution_count": 27,
   "id": "79ab7889-7c78-4f1d-beac-22f8271185f4",
   "metadata": {},
   "outputs": [
    {
     "data": {
      "text/plain": [
       "Text(0.5, 1.0, 'INH')"
      ]
     },
     "execution_count": 27,
     "metadata": {},
     "output_type": "execute_result"
    },
    {
     "data": {
      "image/png": "[encoded data removed]",
      "text/plain": [
       "<Figure size 144x144 with 2 Axes>"
      ]
     },
     "metadata": {
      "needs_background": "light"
     },
     "output_type": "display_data"
    }
   ],
   "source": [
    "plot_cor(test.index.values,'Sex','Oranges')\n",
    "plt.title('INH')"
   ]
  },
  {
   "cell_type": "code",
   "execution_count": null,
   "id": "f4cf958f-b9eb-4f0d-9a1f-daa27b542888",
   "metadata": {},
   "outputs": [],
   "source": []
  }
 ],
 "metadata": {
  "kernelspec": {
   "display_name": "Python 3",
   "language": "python",
   "name": "python3"
  },
  "language_info": {
   "codemirror_mode": {
    "name": "ipython",
    "version": 3
   },
   "file_extension": ".py",
   "mimetype": "text/x-python",
   "name": "python",
   "nbconvert_exporter": "python",
   "pygments_lexer": "ipython3",
   "version": "3.6.13"
  }
 },
 "nbformat": 4,
 "nbformat_minor": 5
}
